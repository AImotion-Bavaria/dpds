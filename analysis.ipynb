{
 "cells": [
  {
   "cell_type": "code",
   "execution_count": 1,
   "metadata": {},
   "outputs": [],
   "source": [
    "import pandas as pd\n",
    "import numpy as np\n",
    "import matplotlib.pyplot as plt\n",
    "import seaborn as sns\n",
    "from datetime import datetime\n",
    "\n",
    "sns.set()"
   ]
  },
  {
   "attachments": {},
   "cell_type": "markdown",
   "metadata": {},
   "source": [
    "This is an analysis of the Online Retail dataset, provided by the UCI, which contains transactions (including cancellations) carried out by an online retailer (mainly focused on gift items) between 01/12/2009 and 09/12/2011."
   ]
  },
  {
   "attachments": {},
   "cell_type": "markdown",
   "metadata": {},
   "source": [
    "# Exploratory data analysis"
   ]
  },
  {
   "attachments": {},
   "cell_type": "markdown",
   "metadata": {},
   "source": [
    "The dataset contains 1067371 entries and has 8 columns. This is a short description of the columns:\n",
    "\n",
    "* Invoice: Invoice number. Nominal. A 6-digit integral number uniquely assigned to each transaction. If this code starts with the letter 'c', it indicates a cancellation. \n",
    "* StockCode: Product (item) code. Nominal. A 5-digit integral number uniquely assigned to each distinct product. \n",
    "* Description: Product (item) name. Nominal. \n",
    "* Quantity: The quantities of each product (item) per transaction. Numeric. \n",
    "* InvoiceDate: Invice date and time. Numeric. The day and time when a transaction was generated. \n",
    "* Price: Unit price. Numeric. Product price per unit in sterling (£). \n",
    "* CustomerID: Customer number. Nominal. A 5-digit integral number uniquely assigned to each customer. \n",
    "* Country: Country name. Nominal. The name of the country where a customer resides."
   ]
  },
  {
   "cell_type": "code",
   "execution_count": 2,
   "metadata": {},
   "outputs": [],
   "source": [
    "df = pd.concat(pd.read_excel(\"data/online_retail_II.xlsx\", sheet_name=None).values())"
   ]
  },
  {
   "cell_type": "code",
   "execution_count": 3,
   "metadata": {},
   "outputs": [
    {
     "data": {
      "text/plain": [
       "Index(['Invoice', 'StockCode', 'Description', 'Quantity', 'InvoiceDate',\n",
       "       'Price', 'Customer ID', 'Country'],\n",
       "      dtype='object')"
      ]
     },
     "execution_count": 3,
     "metadata": {},
     "output_type": "execute_result"
    }
   ],
   "source": [
    "df.columns"
   ]
  },
  {
   "cell_type": "code",
   "execution_count": null,
   "metadata": {},
   "outputs": [
    {
     "data": {
      "text/plain": [
       "(1067371, 8)"
      ]
     },
     "execution_count": 4,
     "metadata": {},
     "output_type": "execute_result"
    }
   ],
   "source": [
    "df.shape"
   ]
  },
  {
   "attachments": {},
   "cell_type": "markdown",
   "metadata": {},
   "source": [
    "I have a look at the first 10 entries in the dataset but also at 10 entries chosen randomly to see if the data is clean."
   ]
  },
  {
   "cell_type": "code",
   "execution_count": 5,
   "metadata": {},
   "outputs": [
    {
     "data": {
      "text/html": [
       "<div>\n",
       "<style scoped>\n",
       "    .dataframe tbody tr th:only-of-type {\n",
       "        vertical-align: middle;\n",
       "    }\n",
       "\n",
       "    .dataframe tbody tr th {\n",
       "        vertical-align: top;\n",
       "    }\n",
       "\n",
       "    .dataframe thead th {\n",
       "        text-align: right;\n",
       "    }\n",
       "</style>\n",
       "<table border=\"1\" class=\"dataframe\">\n",
       "  <thead>\n",
       "    <tr style=\"text-align: right;\">\n",
       "      <th></th>\n",
       "      <th>Invoice</th>\n",
       "      <th>StockCode</th>\n",
       "      <th>Description</th>\n",
       "      <th>Quantity</th>\n",
       "      <th>InvoiceDate</th>\n",
       "      <th>Price</th>\n",
       "      <th>Customer ID</th>\n",
       "      <th>Country</th>\n",
       "    </tr>\n",
       "  </thead>\n",
       "  <tbody>\n",
       "    <tr>\n",
       "      <th>0</th>\n",
       "      <td>489434</td>\n",
       "      <td>85048</td>\n",
       "      <td>15CM CHRISTMAS GLASS BALL 20 LIGHTS</td>\n",
       "      <td>12</td>\n",
       "      <td>2009-12-01 07:45:00</td>\n",
       "      <td>6.95</td>\n",
       "      <td>13085.0</td>\n",
       "      <td>United Kingdom</td>\n",
       "    </tr>\n",
       "    <tr>\n",
       "      <th>1</th>\n",
       "      <td>489434</td>\n",
       "      <td>79323P</td>\n",
       "      <td>PINK CHERRY LIGHTS</td>\n",
       "      <td>12</td>\n",
       "      <td>2009-12-01 07:45:00</td>\n",
       "      <td>6.75</td>\n",
       "      <td>13085.0</td>\n",
       "      <td>United Kingdom</td>\n",
       "    </tr>\n",
       "    <tr>\n",
       "      <th>2</th>\n",
       "      <td>489434</td>\n",
       "      <td>79323W</td>\n",
       "      <td>WHITE CHERRY LIGHTS</td>\n",
       "      <td>12</td>\n",
       "      <td>2009-12-01 07:45:00</td>\n",
       "      <td>6.75</td>\n",
       "      <td>13085.0</td>\n",
       "      <td>United Kingdom</td>\n",
       "    </tr>\n",
       "    <tr>\n",
       "      <th>3</th>\n",
       "      <td>489434</td>\n",
       "      <td>22041</td>\n",
       "      <td>RECORD FRAME 7\" SINGLE SIZE</td>\n",
       "      <td>48</td>\n",
       "      <td>2009-12-01 07:45:00</td>\n",
       "      <td>2.10</td>\n",
       "      <td>13085.0</td>\n",
       "      <td>United Kingdom</td>\n",
       "    </tr>\n",
       "    <tr>\n",
       "      <th>4</th>\n",
       "      <td>489434</td>\n",
       "      <td>21232</td>\n",
       "      <td>STRAWBERRY CERAMIC TRINKET BOX</td>\n",
       "      <td>24</td>\n",
       "      <td>2009-12-01 07:45:00</td>\n",
       "      <td>1.25</td>\n",
       "      <td>13085.0</td>\n",
       "      <td>United Kingdom</td>\n",
       "    </tr>\n",
       "    <tr>\n",
       "      <th>5</th>\n",
       "      <td>489434</td>\n",
       "      <td>22064</td>\n",
       "      <td>PINK DOUGHNUT TRINKET POT</td>\n",
       "      <td>24</td>\n",
       "      <td>2009-12-01 07:45:00</td>\n",
       "      <td>1.65</td>\n",
       "      <td>13085.0</td>\n",
       "      <td>United Kingdom</td>\n",
       "    </tr>\n",
       "    <tr>\n",
       "      <th>6</th>\n",
       "      <td>489434</td>\n",
       "      <td>21871</td>\n",
       "      <td>SAVE THE PLANET MUG</td>\n",
       "      <td>24</td>\n",
       "      <td>2009-12-01 07:45:00</td>\n",
       "      <td>1.25</td>\n",
       "      <td>13085.0</td>\n",
       "      <td>United Kingdom</td>\n",
       "    </tr>\n",
       "    <tr>\n",
       "      <th>7</th>\n",
       "      <td>489434</td>\n",
       "      <td>21523</td>\n",
       "      <td>FANCY FONT HOME SWEET HOME DOORMAT</td>\n",
       "      <td>10</td>\n",
       "      <td>2009-12-01 07:45:00</td>\n",
       "      <td>5.95</td>\n",
       "      <td>13085.0</td>\n",
       "      <td>United Kingdom</td>\n",
       "    </tr>\n",
       "    <tr>\n",
       "      <th>8</th>\n",
       "      <td>489435</td>\n",
       "      <td>22350</td>\n",
       "      <td>CAT BOWL</td>\n",
       "      <td>12</td>\n",
       "      <td>2009-12-01 07:46:00</td>\n",
       "      <td>2.55</td>\n",
       "      <td>13085.0</td>\n",
       "      <td>United Kingdom</td>\n",
       "    </tr>\n",
       "    <tr>\n",
       "      <th>9</th>\n",
       "      <td>489435</td>\n",
       "      <td>22349</td>\n",
       "      <td>DOG BOWL , CHASING BALL DESIGN</td>\n",
       "      <td>12</td>\n",
       "      <td>2009-12-01 07:46:00</td>\n",
       "      <td>3.75</td>\n",
       "      <td>13085.0</td>\n",
       "      <td>United Kingdom</td>\n",
       "    </tr>\n",
       "  </tbody>\n",
       "</table>\n",
       "</div>"
      ],
      "text/plain": [
       "  Invoice StockCode                          Description  Quantity  \\\n",
       "0  489434     85048  15CM CHRISTMAS GLASS BALL 20 LIGHTS        12   \n",
       "1  489434    79323P                   PINK CHERRY LIGHTS        12   \n",
       "2  489434    79323W                  WHITE CHERRY LIGHTS        12   \n",
       "3  489434     22041         RECORD FRAME 7\" SINGLE SIZE         48   \n",
       "4  489434     21232       STRAWBERRY CERAMIC TRINKET BOX        24   \n",
       "5  489434     22064           PINK DOUGHNUT TRINKET POT         24   \n",
       "6  489434     21871                  SAVE THE PLANET MUG        24   \n",
       "7  489434     21523   FANCY FONT HOME SWEET HOME DOORMAT        10   \n",
       "8  489435     22350                            CAT BOWL         12   \n",
       "9  489435     22349       DOG BOWL , CHASING BALL DESIGN        12   \n",
       "\n",
       "          InvoiceDate  Price  Customer ID         Country  \n",
       "0 2009-12-01 07:45:00   6.95      13085.0  United Kingdom  \n",
       "1 2009-12-01 07:45:00   6.75      13085.0  United Kingdom  \n",
       "2 2009-12-01 07:45:00   6.75      13085.0  United Kingdom  \n",
       "3 2009-12-01 07:45:00   2.10      13085.0  United Kingdom  \n",
       "4 2009-12-01 07:45:00   1.25      13085.0  United Kingdom  \n",
       "5 2009-12-01 07:45:00   1.65      13085.0  United Kingdom  \n",
       "6 2009-12-01 07:45:00   1.25      13085.0  United Kingdom  \n",
       "7 2009-12-01 07:45:00   5.95      13085.0  United Kingdom  \n",
       "8 2009-12-01 07:46:00   2.55      13085.0  United Kingdom  \n",
       "9 2009-12-01 07:46:00   3.75      13085.0  United Kingdom  "
      ]
     },
     "execution_count": 5,
     "metadata": {},
     "output_type": "execute_result"
    }
   ],
   "source": [
    "df.head(10)"
   ]
  },
  {
   "cell_type": "code",
   "execution_count": 11,
   "metadata": {},
   "outputs": [
    {
     "data": {
      "text/html": [
       "<div>\n",
       "<style scoped>\n",
       "    .dataframe tbody tr th:only-of-type {\n",
       "        vertical-align: middle;\n",
       "    }\n",
       "\n",
       "    .dataframe tbody tr th {\n",
       "        vertical-align: top;\n",
       "    }\n",
       "\n",
       "    .dataframe thead th {\n",
       "        text-align: right;\n",
       "    }\n",
       "</style>\n",
       "<table border=\"1\" class=\"dataframe\">\n",
       "  <thead>\n",
       "    <tr style=\"text-align: right;\">\n",
       "      <th></th>\n",
       "      <th>Invoice</th>\n",
       "      <th>StockCode</th>\n",
       "      <th>Description</th>\n",
       "      <th>Quantity</th>\n",
       "      <th>InvoiceDate</th>\n",
       "      <th>Price</th>\n",
       "      <th>Customer ID</th>\n",
       "      <th>Country</th>\n",
       "    </tr>\n",
       "  </thead>\n",
       "  <tbody>\n",
       "    <tr>\n",
       "      <th>40026</th>\n",
       "      <td>C492756</td>\n",
       "      <td>22278</td>\n",
       "      <td>OVERNIGHT BAG VINTAGE ROSE PAISLEY</td>\n",
       "      <td>-1</td>\n",
       "      <td>2009-12-18 14:00:00</td>\n",
       "      <td>12.95</td>\n",
       "      <td>NaN</td>\n",
       "      <td>United Kingdom</td>\n",
       "    </tr>\n",
       "    <tr>\n",
       "      <th>63821</th>\n",
       "      <td>495070</td>\n",
       "      <td>84596E</td>\n",
       "      <td>SMALL LICORICE DES PINK BOWL</td>\n",
       "      <td>4</td>\n",
       "      <td>2010-01-20 17:50:00</td>\n",
       "      <td>1.66</td>\n",
       "      <td>NaN</td>\n",
       "      <td>United Kingdom</td>\n",
       "    </tr>\n",
       "    <tr>\n",
       "      <th>149143</th>\n",
       "      <td>503579</td>\n",
       "      <td>85117</td>\n",
       "      <td>NIGHTINGALE COATHOOK WHITE</td>\n",
       "      <td>4</td>\n",
       "      <td>2010-04-01 16:40:00</td>\n",
       "      <td>1.65</td>\n",
       "      <td>15768.0</td>\n",
       "      <td>United Kingdom</td>\n",
       "    </tr>\n",
       "    <tr>\n",
       "      <th>485399</th>\n",
       "      <td>577600</td>\n",
       "      <td>23254</td>\n",
       "      <td>CHILDRENS CUTLERY DOLLY GIRL</td>\n",
       "      <td>8</td>\n",
       "      <td>2011-11-21 08:28:00</td>\n",
       "      <td>4.15</td>\n",
       "      <td>14447.0</td>\n",
       "      <td>United Kingdom</td>\n",
       "    </tr>\n",
       "    <tr>\n",
       "      <th>351749</th>\n",
       "      <td>523612</td>\n",
       "      <td>15056N</td>\n",
       "      <td>EDWARDIAN PARASOL NATURAL</td>\n",
       "      <td>3</td>\n",
       "      <td>2010-09-23 10:44:00</td>\n",
       "      <td>5.95</td>\n",
       "      <td>13001.0</td>\n",
       "      <td>United Kingdom</td>\n",
       "    </tr>\n",
       "    <tr>\n",
       "      <th>103612</th>\n",
       "      <td>545072</td>\n",
       "      <td>22505</td>\n",
       "      <td>MEMO BOARD COTTAGE DESIGN</td>\n",
       "      <td>8</td>\n",
       "      <td>2011-02-28 08:43:00</td>\n",
       "      <td>4.95</td>\n",
       "      <td>12781.0</td>\n",
       "      <td>Czech Republic</td>\n",
       "    </tr>\n",
       "    <tr>\n",
       "      <th>318546</th>\n",
       "      <td>564837</td>\n",
       "      <td>21929</td>\n",
       "      <td>JUMBO BAG PINK VINTAGE PAISLEY</td>\n",
       "      <td>15</td>\n",
       "      <td>2011-08-30 12:40:00</td>\n",
       "      <td>2.46</td>\n",
       "      <td>NaN</td>\n",
       "      <td>United Kingdom</td>\n",
       "    </tr>\n",
       "    <tr>\n",
       "      <th>499928</th>\n",
       "      <td>536031</td>\n",
       "      <td>22130</td>\n",
       "      <td>PARTY CONE CHRISTMAS DECORATION</td>\n",
       "      <td>1</td>\n",
       "      <td>2010-11-29 16:45:00</td>\n",
       "      <td>8.47</td>\n",
       "      <td>NaN</td>\n",
       "      <td>United Kingdom</td>\n",
       "    </tr>\n",
       "    <tr>\n",
       "      <th>334163</th>\n",
       "      <td>522029</td>\n",
       "      <td>20682</td>\n",
       "      <td>RED SPOTTY CHILDS UMBRELLA</td>\n",
       "      <td>6</td>\n",
       "      <td>2010-09-10 12:05:00</td>\n",
       "      <td>3.25</td>\n",
       "      <td>12474.0</td>\n",
       "      <td>Germany</td>\n",
       "    </tr>\n",
       "    <tr>\n",
       "      <th>5968</th>\n",
       "      <td>489866</td>\n",
       "      <td>22335</td>\n",
       "      <td>HEART DECORATION PAINTED ZINC</td>\n",
       "      <td>1</td>\n",
       "      <td>2009-12-02 15:04:00</td>\n",
       "      <td>0.65</td>\n",
       "      <td>16200.0</td>\n",
       "      <td>United Kingdom</td>\n",
       "    </tr>\n",
       "  </tbody>\n",
       "</table>\n",
       "</div>"
      ],
      "text/plain": [
       "        Invoice StockCode                         Description  Quantity  \\\n",
       "40026   C492756     22278  OVERNIGHT BAG VINTAGE ROSE PAISLEY        -1   \n",
       "63821    495070    84596E        SMALL LICORICE DES PINK BOWL         4   \n",
       "149143   503579     85117          NIGHTINGALE COATHOOK WHITE         4   \n",
       "485399   577600     23254       CHILDRENS CUTLERY DOLLY GIRL          8   \n",
       "351749   523612    15056N           EDWARDIAN PARASOL NATURAL         3   \n",
       "103612   545072     22505           MEMO BOARD COTTAGE DESIGN         8   \n",
       "318546   564837     21929      JUMBO BAG PINK VINTAGE PAISLEY        15   \n",
       "499928   536031     22130    PARTY CONE CHRISTMAS DECORATION          1   \n",
       "334163   522029     20682          RED SPOTTY CHILDS UMBRELLA         6   \n",
       "5968     489866     22335      HEART DECORATION PAINTED ZINC          1   \n",
       "\n",
       "               InvoiceDate  Price  Customer ID         Country  \n",
       "40026  2009-12-18 14:00:00  12.95          NaN  United Kingdom  \n",
       "63821  2010-01-20 17:50:00   1.66          NaN  United Kingdom  \n",
       "149143 2010-04-01 16:40:00   1.65      15768.0  United Kingdom  \n",
       "485399 2011-11-21 08:28:00   4.15      14447.0  United Kingdom  \n",
       "351749 2010-09-23 10:44:00   5.95      13001.0  United Kingdom  \n",
       "103612 2011-02-28 08:43:00   4.95      12781.0  Czech Republic  \n",
       "318546 2011-08-30 12:40:00   2.46          NaN  United Kingdom  \n",
       "499928 2010-11-29 16:45:00   8.47          NaN  United Kingdom  \n",
       "334163 2010-09-10 12:05:00   3.25      12474.0         Germany  \n",
       "5968   2009-12-02 15:04:00   0.65      16200.0  United Kingdom  "
      ]
     },
     "execution_count": 11,
     "metadata": {},
     "output_type": "execute_result"
    }
   ],
   "source": [
    "df.sample(10)"
   ]
  },
  {
   "attachments": {},
   "cell_type": "markdown",
   "metadata": {},
   "source": [
    "We see that there are some missing values in the **Customer ID** column, calling the *info* method of the Pandas dataframe we see that also the column **Description** contains missing values. In fact ~ 20 % of the rows have a missing value for the **Customer ID** column which is huge. The datatypes for each columns seem valid except for the **Customer ID** columns which have a float type and it should be int with 5 digits."
   ]
  },
  {
   "cell_type": "code",
   "execution_count": 12,
   "metadata": {},
   "outputs": [
    {
     "name": "stdout",
     "output_type": "stream",
     "text": [
      "<class 'pandas.core.frame.DataFrame'>\n",
      "Int64Index: 1067371 entries, 0 to 541909\n",
      "Data columns (total 8 columns):\n",
      " #   Column       Non-Null Count    Dtype         \n",
      "---  ------       --------------    -----         \n",
      " 0   Invoice      1067371 non-null  object        \n",
      " 1   StockCode    1067371 non-null  object        \n",
      " 2   Description  1062989 non-null  object        \n",
      " 3   Quantity     1067371 non-null  int64         \n",
      " 4   InvoiceDate  1067371 non-null  datetime64[ns]\n",
      " 5   Price        1067371 non-null  float64       \n",
      " 6   Customer ID  824364 non-null   float64       \n",
      " 7   Country      1067371 non-null  object        \n",
      "dtypes: datetime64[ns](1), float64(2), int64(1), object(4)\n",
      "memory usage: 73.3+ MB\n"
     ]
    }
   ],
   "source": [
    "df.info()"
   ]
  },
  {
   "attachments": {},
   "cell_type": "markdown",
   "metadata": {},
   "source": [
    "Calling the method **describe** of the Pandas dataframe shows some summary statistics, such as mean, median, quartiles etcs..., for the numerical columns **Quantity** and **Price**. This shows that both columns have negative values which doesn't make sense, you cannot buy less than 0 items and/or for a negative price."
   ]
  },
  {
   "cell_type": "code",
   "execution_count": 13,
   "metadata": {},
   "outputs": [
    {
     "data": {
      "text/html": [
       "<div>\n",
       "<style scoped>\n",
       "    .dataframe tbody tr th:only-of-type {\n",
       "        vertical-align: middle;\n",
       "    }\n",
       "\n",
       "    .dataframe tbody tr th {\n",
       "        vertical-align: top;\n",
       "    }\n",
       "\n",
       "    .dataframe thead th {\n",
       "        text-align: right;\n",
       "    }\n",
       "</style>\n",
       "<table border=\"1\" class=\"dataframe\">\n",
       "  <thead>\n",
       "    <tr style=\"text-align: right;\">\n",
       "      <th></th>\n",
       "      <th>Quantity</th>\n",
       "      <th>Price</th>\n",
       "    </tr>\n",
       "  </thead>\n",
       "  <tbody>\n",
       "    <tr>\n",
       "      <th>count</th>\n",
       "      <td>1.067371e+06</td>\n",
       "      <td>1.067371e+06</td>\n",
       "    </tr>\n",
       "    <tr>\n",
       "      <th>mean</th>\n",
       "      <td>9.938898e+00</td>\n",
       "      <td>4.649388e+00</td>\n",
       "    </tr>\n",
       "    <tr>\n",
       "      <th>std</th>\n",
       "      <td>1.727058e+02</td>\n",
       "      <td>1.235531e+02</td>\n",
       "    </tr>\n",
       "    <tr>\n",
       "      <th>min</th>\n",
       "      <td>-8.099500e+04</td>\n",
       "      <td>-5.359436e+04</td>\n",
       "    </tr>\n",
       "    <tr>\n",
       "      <th>25%</th>\n",
       "      <td>1.000000e+00</td>\n",
       "      <td>1.250000e+00</td>\n",
       "    </tr>\n",
       "    <tr>\n",
       "      <th>50%</th>\n",
       "      <td>3.000000e+00</td>\n",
       "      <td>2.100000e+00</td>\n",
       "    </tr>\n",
       "    <tr>\n",
       "      <th>75%</th>\n",
       "      <td>1.000000e+01</td>\n",
       "      <td>4.150000e+00</td>\n",
       "    </tr>\n",
       "    <tr>\n",
       "      <th>max</th>\n",
       "      <td>8.099500e+04</td>\n",
       "      <td>3.897000e+04</td>\n",
       "    </tr>\n",
       "  </tbody>\n",
       "</table>\n",
       "</div>"
      ],
      "text/plain": [
       "           Quantity         Price\n",
       "count  1.067371e+06  1.067371e+06\n",
       "mean   9.938898e+00  4.649388e+00\n",
       "std    1.727058e+02  1.235531e+02\n",
       "min   -8.099500e+04 -5.359436e+04\n",
       "25%    1.000000e+00  1.250000e+00\n",
       "50%    3.000000e+00  2.100000e+00\n",
       "75%    1.000000e+01  4.150000e+00\n",
       "max    8.099500e+04  3.897000e+04"
      ]
     },
     "execution_count": 13,
     "metadata": {},
     "output_type": "execute_result"
    }
   ],
   "source": [
    "df[[\"Quantity\", \"Price\"]].describe()"
   ]
  },
  {
   "attachments": {},
   "cell_type": "markdown",
   "metadata": {},
   "source": [
    "We now explore the values of the columns in the dataset and in particular the unique values for the non-numerical columns. The compary has shipped orders towards 43 different countries, most of them are in Europe. "
   ]
  },
  {
   "cell_type": "code",
   "execution_count": 19,
   "metadata": {},
   "outputs": [
    {
     "data": {
      "text/plain": [
       "43"
      ]
     },
     "execution_count": 19,
     "metadata": {},
     "output_type": "execute_result"
    }
   ],
   "source": [
    "df[\"Country\"].nunique()"
   ]
  },
  {
   "cell_type": "code",
   "execution_count": 20,
   "metadata": {},
   "outputs": [
    {
     "data": {
      "text/plain": [
       "array(['United Kingdom', 'France', 'USA', 'Belgium', 'Australia', 'EIRE',\n",
       "       'Germany', 'Portugal', 'Japan', 'Denmark', 'Nigeria',\n",
       "       'Netherlands', 'Poland', 'Spain', 'Channel Islands', 'Italy',\n",
       "       'Cyprus', 'Greece', 'Norway', 'Austria', 'Sweden',\n",
       "       'United Arab Emirates', 'Finland', 'Switzerland', 'Unspecified',\n",
       "       'Malta', 'Bahrain', 'RSA', 'Bermuda', 'Hong Kong', 'Singapore',\n",
       "       'Thailand', 'Israel', 'Lithuania', 'West Indies', 'Lebanon',\n",
       "       'Korea', 'Brazil', 'Canada', 'Iceland', 'Saudi Arabia',\n",
       "       'Czech Republic', 'European Community'], dtype=object)"
      ]
     },
     "execution_count": 20,
     "metadata": {},
     "output_type": "execute_result"
    }
   ],
   "source": [
    "df[\"Country\"].unique()"
   ]
  },
  {
   "attachments": {},
   "cell_type": "markdown",
   "metadata": {},
   "source": [
    "92 % of the transactions are made with customers residing in the United Kingdom, other transactions are mostly made in neighbour countries such as Republic of Ireland, Germany or France."
   ]
  },
  {
   "cell_type": "code",
   "execution_count": 24,
   "metadata": {},
   "outputs": [
    {
     "data": {
      "text/plain": [
       "United Kingdom    0.919390\n",
       "EIRE              0.016738\n",
       "Germany           0.016512\n",
       "France            0.013426\n",
       "Netherlands       0.004816\n",
       "Name: Country, dtype: float64"
      ]
     },
     "execution_count": 24,
     "metadata": {},
     "output_type": "execute_result"
    }
   ],
   "source": [
    "df[\"Country\"].value_counts(normalize=True).head(5)"
   ]
  },
  {
   "cell_type": "code",
   "execution_count": 21,
   "metadata": {},
   "outputs": [
    {
     "data": {
      "text/plain": [
       "United Kingdom    91.938979\n",
       "EIRE               1.673832\n",
       "Germany            1.651160\n",
       "France             1.342551\n",
       "Netherlands        0.481557\n",
       "Spain              0.357045\n",
       "Switzerland        0.298771\n",
       "Belgium            0.292588\n",
       "Portugal           0.245463\n",
       "Australia          0.179225\n",
       "Name: Country, dtype: float64"
      ]
     },
     "execution_count": 21,
     "metadata": {},
     "output_type": "execute_result"
    }
   ],
   "source": [
    "df[\"Country\"].value_counts(normalize=True).head(10) * 100"
   ]
  },
  {
   "cell_type": "code",
   "execution_count": 17,
   "metadata": {},
   "outputs": [
    {
     "name": "stdout",
     "output_type": "stream",
     "text": [
      "Transactions registered from 2009-12-01 07:45:00 to 2011-12-09 12:50:00\n"
     ]
    }
   ],
   "source": [
    "print(f\"Transactions registered from {df['InvoiceDate'].min()} to {df['InvoiceDate'].max()}\")"
   ]
  },
  {
   "cell_type": "code",
   "execution_count": 18,
   "metadata": {},
   "outputs": [
    {
     "name": "stdout",
     "output_type": "stream",
     "text": [
      "Number of transactions registered: 53628\n"
     ]
    }
   ],
   "source": [
    "print(f\"Number of transactions registered: {df['Invoice'].nunique()}\")"
   ]
  },
  {
   "attachments": {},
   "cell_type": "markdown",
   "metadata": {},
   "source": [
    "The number of transaction is more or less constant during the year but then increases from September to December, as expected since in this period there are a lot of major events such as Halloween and Christmas."
   ]
  },
  {
   "cell_type": "code",
   "execution_count": 31,
   "metadata": {},
   "outputs": [
    {
     "data": {
      "image/png": "[encoded data removed]",
      "text/plain": [
       "<Figure size 1600x600 with 1 Axes>"
      ]
     },
     "metadata": {},
     "output_type": "display_data"
    }
   ],
   "source": [
    "import matplotlib.dates as mdates\n",
    "plt.figure(figsize=(16,6))\n",
    "ax = df.set_index('InvoiceDate').resample(\"M\")[\"Invoice\"].nunique().plot(marker=\".\", \n",
    "                                                                         linestyle=\"--\", \n",
    "                                                                         markerfacecolor=\"black\",\n",
    "                                                                         markeredgecolor=\"black\"\n",
    "                                                                         )\n",
    "ax.set_ylabel(\"Total Sales\")\n",
    "ax.set_xlabel(\"Month of the Year\");\n",
    "\n",
    "plt.tight_layout()\n",
    "#ax.grid()"
   ]
  },
  {
   "cell_type": "code",
   "execution_count": null,
   "metadata": {},
   "outputs": [
    {
     "name": "stdout",
     "output_type": "stream",
     "text": [
      "Number of item descriptions: 5698\n"
     ]
    }
   ],
   "source": [
    "print(f\"Number of item descriptions: {df['Description'].nunique()}\")"
   ]
  },
  {
   "cell_type": "code",
   "execution_count": null,
   "metadata": {},
   "outputs": [
    {
     "name": "stdout",
     "output_type": "stream",
     "text": [
      "Number of item stock code: 5305\n"
     ]
    }
   ],
   "source": [
    "print(f\"Number of item stock code: {df['StockCode'].nunique()}\")"
   ]
  },
  {
   "cell_type": "code",
   "execution_count": null,
   "metadata": {},
   "outputs": [
    {
     "name": "stdout",
     "output_type": "stream",
     "text": [
      "Number of unique customers: 5942\n"
     ]
    }
   ],
   "source": [
    "print(f\"Number of unique customers: {df['Customer ID'].nunique()}\")"
   ]
  },
  {
   "attachments": {},
   "cell_type": "markdown",
   "metadata": {},
   "source": [
    "There are some missing values in the **Description** and **Customer ID** columns. Let's have a look at the rows where the values of the column **Description** are missing."
   ]
  },
  {
   "attachments": {},
   "cell_type": "markdown",
   "metadata": {},
   "source": [
    "#### Missing values in the **Description** column: "
   ]
  },
  {
   "cell_type": "code",
   "execution_count": 32,
   "metadata": {},
   "outputs": [
    {
     "data": {
      "text/plain": [
       "0.4105414143723223"
      ]
     },
     "execution_count": 32,
     "metadata": {},
     "output_type": "execute_result"
    }
   ],
   "source": [
    "df[\"Description\"].isnull().mean() * 100"
   ]
  },
  {
   "attachments": {},
   "cell_type": "markdown",
   "metadata": {},
   "source": [
    "0.41 % percent of the rows in the fisrt sheet have missing values in the **Description** column, in the next cells an example of 10 of those rows is shown. It seems those rows have negative values for the **Quantity** column, a lot of 0.0 in the **Price** column and missing values in the **Customer ID** column."
   ]
  },
  {
   "cell_type": "code",
   "execution_count": null,
   "metadata": {},
   "outputs": [
    {
     "data": {
      "text/html": [
       "<div>\n",
       "<style scoped>\n",
       "    .dataframe tbody tr th:only-of-type {\n",
       "        vertical-align: middle;\n",
       "    }\n",
       "\n",
       "    .dataframe tbody tr th {\n",
       "        vertical-align: top;\n",
       "    }\n",
       "\n",
       "    .dataframe thead th {\n",
       "        text-align: right;\n",
       "    }\n",
       "</style>\n",
       "<table border=\"1\" class=\"dataframe\">\n",
       "  <thead>\n",
       "    <tr style=\"text-align: right;\">\n",
       "      <th></th>\n",
       "      <th>Invoice</th>\n",
       "      <th>StockCode</th>\n",
       "      <th>Description</th>\n",
       "      <th>Quantity</th>\n",
       "      <th>InvoiceDate</th>\n",
       "      <th>Price</th>\n",
       "      <th>Customer ID</th>\n",
       "      <th>Country</th>\n",
       "    </tr>\n",
       "  </thead>\n",
       "  <tbody>\n",
       "    <tr>\n",
       "      <th>75240</th>\n",
       "      <td>542564</td>\n",
       "      <td>84526</td>\n",
       "      <td>NaN</td>\n",
       "      <td>-1</td>\n",
       "      <td>2011-01-28 14:52:00</td>\n",
       "      <td>0.0</td>\n",
       "      <td>NaN</td>\n",
       "      <td>United Kingdom</td>\n",
       "    </tr>\n",
       "    <tr>\n",
       "      <th>350805</th>\n",
       "      <td>523526</td>\n",
       "      <td>21538</td>\n",
       "      <td>NaN</td>\n",
       "      <td>14</td>\n",
       "      <td>2010-09-22 13:07:00</td>\n",
       "      <td>0.0</td>\n",
       "      <td>NaN</td>\n",
       "      <td>United Kingdom</td>\n",
       "    </tr>\n",
       "    <tr>\n",
       "      <th>296415</th>\n",
       "      <td>518235</td>\n",
       "      <td>22753</td>\n",
       "      <td>NaN</td>\n",
       "      <td>5000</td>\n",
       "      <td>2010-08-05 15:53:00</td>\n",
       "      <td>0.0</td>\n",
       "      <td>NaN</td>\n",
       "      <td>United Kingdom</td>\n",
       "    </tr>\n",
       "    <tr>\n",
       "      <th>202599</th>\n",
       "      <td>554488</td>\n",
       "      <td>84913A</td>\n",
       "      <td>NaN</td>\n",
       "      <td>-75</td>\n",
       "      <td>2011-05-24 13:35:00</td>\n",
       "      <td>0.0</td>\n",
       "      <td>NaN</td>\n",
       "      <td>United Kingdom</td>\n",
       "    </tr>\n",
       "    <tr>\n",
       "      <th>437275</th>\n",
       "      <td>531223</td>\n",
       "      <td>22591</td>\n",
       "      <td>NaN</td>\n",
       "      <td>-20</td>\n",
       "      <td>2010-11-05 16:29:00</td>\n",
       "      <td>0.0</td>\n",
       "      <td>NaN</td>\n",
       "      <td>United Kingdom</td>\n",
       "    </tr>\n",
       "    <tr>\n",
       "      <th>74659</th>\n",
       "      <td>542515</td>\n",
       "      <td>35607A</td>\n",
       "      <td>NaN</td>\n",
       "      <td>1</td>\n",
       "      <td>2011-01-28 12:08:00</td>\n",
       "      <td>0.0</td>\n",
       "      <td>NaN</td>\n",
       "      <td>United Kingdom</td>\n",
       "    </tr>\n",
       "    <tr>\n",
       "      <th>88573</th>\n",
       "      <td>497727</td>\n",
       "      <td>20710</td>\n",
       "      <td>NaN</td>\n",
       "      <td>-16</td>\n",
       "      <td>2010-02-11 18:13:00</td>\n",
       "      <td>0.0</td>\n",
       "      <td>NaN</td>\n",
       "      <td>United Kingdom</td>\n",
       "    </tr>\n",
       "    <tr>\n",
       "      <th>282935</th>\n",
       "      <td>561674</td>\n",
       "      <td>21445</td>\n",
       "      <td>NaN</td>\n",
       "      <td>1</td>\n",
       "      <td>2011-07-28 17:20:00</td>\n",
       "      <td>0.0</td>\n",
       "      <td>NaN</td>\n",
       "      <td>United Kingdom</td>\n",
       "    </tr>\n",
       "    <tr>\n",
       "      <th>354894</th>\n",
       "      <td>523916</td>\n",
       "      <td>22898</td>\n",
       "      <td>NaN</td>\n",
       "      <td>-150</td>\n",
       "      <td>2010-09-24 16:13:00</td>\n",
       "      <td>0.0</td>\n",
       "      <td>NaN</td>\n",
       "      <td>United Kingdom</td>\n",
       "    </tr>\n",
       "    <tr>\n",
       "      <th>418524</th>\n",
       "      <td>572731</td>\n",
       "      <td>35914</td>\n",
       "      <td>NaN</td>\n",
       "      <td>2</td>\n",
       "      <td>2011-10-25 15:20:00</td>\n",
       "      <td>0.0</td>\n",
       "      <td>NaN</td>\n",
       "      <td>United Kingdom</td>\n",
       "    </tr>\n",
       "  </tbody>\n",
       "</table>\n",
       "</div>"
      ],
      "text/plain": [
       "       Invoice StockCode Description  Quantity         InvoiceDate  Price  \\\n",
       "75240   542564     84526         NaN        -1 2011-01-28 14:52:00    0.0   \n",
       "350805  523526     21538         NaN        14 2010-09-22 13:07:00    0.0   \n",
       "296415  518235     22753         NaN      5000 2010-08-05 15:53:00    0.0   \n",
       "202599  554488    84913A         NaN       -75 2011-05-24 13:35:00    0.0   \n",
       "437275  531223     22591         NaN       -20 2010-11-05 16:29:00    0.0   \n",
       "74659   542515    35607A         NaN         1 2011-01-28 12:08:00    0.0   \n",
       "88573   497727     20710         NaN       -16 2010-02-11 18:13:00    0.0   \n",
       "282935  561674     21445         NaN         1 2011-07-28 17:20:00    0.0   \n",
       "354894  523916     22898         NaN      -150 2010-09-24 16:13:00    0.0   \n",
       "418524  572731     35914         NaN         2 2011-10-25 15:20:00    0.0   \n",
       "\n",
       "        Customer ID         Country  \n",
       "75240           NaN  United Kingdom  \n",
       "350805          NaN  United Kingdom  \n",
       "296415          NaN  United Kingdom  \n",
       "202599          NaN  United Kingdom  \n",
       "437275          NaN  United Kingdom  \n",
       "74659           NaN  United Kingdom  \n",
       "88573           NaN  United Kingdom  \n",
       "282935          NaN  United Kingdom  \n",
       "354894          NaN  United Kingdom  \n",
       "418524          NaN  United Kingdom  "
      ]
     },
     "execution_count": 19,
     "metadata": {},
     "output_type": "execute_result"
    }
   ],
   "source": [
    "df[df[\"Description\"].isnull()].sample(10)"
   ]
  },
  {
   "attachments": {},
   "cell_type": "markdown",
   "metadata": {},
   "source": [
    "All the rows contains missing values for the **Customer ID** column as shown below."
   ]
  },
  {
   "cell_type": "code",
   "execution_count": null,
   "metadata": {},
   "outputs": [
    {
     "data": {
      "text/plain": [
       "True"
      ]
     },
     "execution_count": 20,
     "metadata": {},
     "output_type": "execute_result"
    }
   ],
   "source": [
    "np.all(df[df[\"Description\"].isnull()][\"Customer ID\"].isnull())"
   ]
  },
  {
   "cell_type": "code",
   "execution_count": null,
   "metadata": {},
   "outputs": [
    {
     "data": {
      "text/plain": [
       "61.364673664993155"
      ]
     },
     "execution_count": 21,
     "metadata": {},
     "output_type": "execute_result"
    }
   ],
   "source": [
    "(df[df[\"Description\"].isnull()][\"Quantity\"] <= 0).mean() * 100"
   ]
  },
  {
   "cell_type": "code",
   "execution_count": null,
   "metadata": {},
   "outputs": [
    {
     "data": {
      "text/plain": [
       "True"
      ]
     },
     "execution_count": 22,
     "metadata": {},
     "output_type": "execute_result"
    }
   ],
   "source": [
    "all(df[df[\"Description\"].isnull()][\"Country\"] == \"United Kingdom\")"
   ]
  },
  {
   "cell_type": "code",
   "execution_count": null,
   "metadata": {},
   "outputs": [
    {
     "data": {
      "text/plain": [
       "True"
      ]
     },
     "execution_count": 23,
     "metadata": {},
     "output_type": "execute_result"
    }
   ],
   "source": [
    "all(df[df[\"Description\"].isnull()][\"Price\"] == 0.0)"
   ]
  },
  {
   "attachments": {},
   "cell_type": "markdown",
   "metadata": {},
   "source": [
    "61 % of the rows have a negative value for the column **Quantity**. Also the column **Country** is filled only with *United Kingdom*, and the **Price** column is filled with zeros. Those rows maybe revealed some dirty data patterns like negative quantities or products that a price of 0 that we can find in other rows. For the latter it might be possible that some items are free, I will see with further exploration. \n",
    "\n",
    "#### Missing values in the **Customer ID** column:\n",
    "\n",
    "Let's now look at the rows filled only with missing values in the **Customer ID** column, which represent 22% of the data."
   ]
  },
  {
   "cell_type": "code",
   "execution_count": null,
   "metadata": {},
   "outputs": [
    {
     "data": {
      "text/plain": [
       "22.766872999172733"
      ]
     },
     "execution_count": 24,
     "metadata": {},
     "output_type": "execute_result"
    }
   ],
   "source": [
    "df[\"Customer ID\"].isnull().mean() * 100"
   ]
  },
  {
   "cell_type": "code",
   "execution_count": null,
   "metadata": {},
   "outputs": [
    {
     "data": {
      "text/html": [
       "<div>\n",
       "<style scoped>\n",
       "    .dataframe tbody tr th:only-of-type {\n",
       "        vertical-align: middle;\n",
       "    }\n",
       "\n",
       "    .dataframe tbody tr th {\n",
       "        vertical-align: top;\n",
       "    }\n",
       "\n",
       "    .dataframe thead th {\n",
       "        text-align: right;\n",
       "    }\n",
       "</style>\n",
       "<table border=\"1\" class=\"dataframe\">\n",
       "  <thead>\n",
       "    <tr style=\"text-align: right;\">\n",
       "      <th></th>\n",
       "      <th>Invoice</th>\n",
       "      <th>StockCode</th>\n",
       "      <th>Description</th>\n",
       "      <th>Quantity</th>\n",
       "      <th>InvoiceDate</th>\n",
       "      <th>Price</th>\n",
       "      <th>Customer ID</th>\n",
       "      <th>Country</th>\n",
       "    </tr>\n",
       "  </thead>\n",
       "  <tbody>\n",
       "    <tr>\n",
       "      <th>138115</th>\n",
       "      <td>502619</td>\n",
       "      <td>22474</td>\n",
       "      <td>SPACEBOY TV DINNER TRAY</td>\n",
       "      <td>1</td>\n",
       "      <td>2010-03-25 14:56:00</td>\n",
       "      <td>11.02</td>\n",
       "      <td>NaN</td>\n",
       "      <td>United Kingdom</td>\n",
       "    </tr>\n",
       "    <tr>\n",
       "      <th>5108</th>\n",
       "      <td>489856</td>\n",
       "      <td>22197</td>\n",
       "      <td>POPCORN HOLDER , SMALL</td>\n",
       "      <td>8</td>\n",
       "      <td>2009-12-02 14:36:00</td>\n",
       "      <td>1.70</td>\n",
       "      <td>NaN</td>\n",
       "      <td>United Kingdom</td>\n",
       "    </tr>\n",
       "    <tr>\n",
       "      <th>382229</th>\n",
       "      <td>569898</td>\n",
       "      <td>22944</td>\n",
       "      <td>CHRISTMAS METAL POSTCARD WITH BELLS</td>\n",
       "      <td>6</td>\n",
       "      <td>2011-10-06 16:08:00</td>\n",
       "      <td>0.97</td>\n",
       "      <td>NaN</td>\n",
       "      <td>United Kingdom</td>\n",
       "    </tr>\n",
       "    <tr>\n",
       "      <th>336330</th>\n",
       "      <td>522138</td>\n",
       "      <td>22136</td>\n",
       "      <td>LOVE HEART SOCK HANGER</td>\n",
       "      <td>1</td>\n",
       "      <td>2010-09-13 10:30:00</td>\n",
       "      <td>3.36</td>\n",
       "      <td>NaN</td>\n",
       "      <td>United Kingdom</td>\n",
       "    </tr>\n",
       "    <tr>\n",
       "      <th>91285</th>\n",
       "      <td>544089</td>\n",
       "      <td>15056N</td>\n",
       "      <td>EDWARDIAN PARASOL NATURAL</td>\n",
       "      <td>3</td>\n",
       "      <td>2011-02-15 17:51:00</td>\n",
       "      <td>5.95</td>\n",
       "      <td>NaN</td>\n",
       "      <td>United Kingdom</td>\n",
       "    </tr>\n",
       "    <tr>\n",
       "      <th>365063</th>\n",
       "      <td>568693</td>\n",
       "      <td>23377</td>\n",
       "      <td>PACK OF 12 DOLLY GIRL TISSUES</td>\n",
       "      <td>2</td>\n",
       "      <td>2011-09-28 14:54:00</td>\n",
       "      <td>0.39</td>\n",
       "      <td>NaN</td>\n",
       "      <td>United Kingdom</td>\n",
       "    </tr>\n",
       "    <tr>\n",
       "      <th>126578</th>\n",
       "      <td>501475</td>\n",
       "      <td>21833</td>\n",
       "      <td>CAMOUFLAGE LED TORCH</td>\n",
       "      <td>2</td>\n",
       "      <td>2010-03-16 16:59:00</td>\n",
       "      <td>3.36</td>\n",
       "      <td>NaN</td>\n",
       "      <td>United Kingdom</td>\n",
       "    </tr>\n",
       "    <tr>\n",
       "      <th>10955</th>\n",
       "      <td>537240</td>\n",
       "      <td>22695</td>\n",
       "      <td>WICKER WREATH SMALL</td>\n",
       "      <td>1</td>\n",
       "      <td>2010-12-06 10:08:00</td>\n",
       "      <td>3.36</td>\n",
       "      <td>NaN</td>\n",
       "      <td>United Kingdom</td>\n",
       "    </tr>\n",
       "    <tr>\n",
       "      <th>518456</th>\n",
       "      <td>537638</td>\n",
       "      <td>47591B</td>\n",
       "      <td>SCOTTIES CHILDRENS APRON</td>\n",
       "      <td>7</td>\n",
       "      <td>2010-12-07 15:28:00</td>\n",
       "      <td>1.66</td>\n",
       "      <td>NaN</td>\n",
       "      <td>United Kingdom</td>\n",
       "    </tr>\n",
       "    <tr>\n",
       "      <th>67391</th>\n",
       "      <td>541830</td>\n",
       "      <td>22427</td>\n",
       "      <td>ENAMEL FLOWER JUG CREAM</td>\n",
       "      <td>1</td>\n",
       "      <td>2011-01-21 17:09:00</td>\n",
       "      <td>11.63</td>\n",
       "      <td>NaN</td>\n",
       "      <td>United Kingdom</td>\n",
       "    </tr>\n",
       "  </tbody>\n",
       "</table>\n",
       "</div>"
      ],
      "text/plain": [
       "       Invoice StockCode                          Description  Quantity  \\\n",
       "138115  502619     22474              SPACEBOY TV DINNER TRAY         1   \n",
       "5108    489856     22197              POPCORN HOLDER , SMALL          8   \n",
       "382229  569898     22944  CHRISTMAS METAL POSTCARD WITH BELLS         6   \n",
       "336330  522138     22136               LOVE HEART SOCK HANGER         1   \n",
       "91285   544089    15056N            EDWARDIAN PARASOL NATURAL         3   \n",
       "365063  568693     23377        PACK OF 12 DOLLY GIRL TISSUES         2   \n",
       "126578  501475     21833                 CAMOUFLAGE LED TORCH         2   \n",
       "10955   537240     22695                  WICKER WREATH SMALL         1   \n",
       "518456  537638    47591B             SCOTTIES CHILDRENS APRON         7   \n",
       "67391   541830     22427              ENAMEL FLOWER JUG CREAM         1   \n",
       "\n",
       "               InvoiceDate  Price  Customer ID         Country  \n",
       "138115 2010-03-25 14:56:00  11.02          NaN  United Kingdom  \n",
       "5108   2009-12-02 14:36:00   1.70          NaN  United Kingdom  \n",
       "382229 2011-10-06 16:08:00   0.97          NaN  United Kingdom  \n",
       "336330 2010-09-13 10:30:00   3.36          NaN  United Kingdom  \n",
       "91285  2011-02-15 17:51:00   5.95          NaN  United Kingdom  \n",
       "365063 2011-09-28 14:54:00   0.39          NaN  United Kingdom  \n",
       "126578 2010-03-16 16:59:00   3.36          NaN  United Kingdom  \n",
       "10955  2010-12-06 10:08:00   3.36          NaN  United Kingdom  \n",
       "518456 2010-12-07 15:28:00   1.66          NaN  United Kingdom  \n",
       "67391  2011-01-21 17:09:00  11.63          NaN  United Kingdom  "
      ]
     },
     "execution_count": 25,
     "metadata": {},
     "output_type": "execute_result"
    }
   ],
   "source": [
    "df[df[\"Customer ID\"].isnull()].sample(10)"
   ]
  },
  {
   "cell_type": "code",
   "execution_count": null,
   "metadata": {},
   "outputs": [
    {
     "data": {
      "text/plain": [
       "4872"
      ]
     },
     "execution_count": 26,
     "metadata": {},
     "output_type": "execute_result"
    }
   ],
   "source": [
    "df[df[\"Customer ID\"].isnull()][\"Description\"].nunique()"
   ]
  },
  {
   "cell_type": "code",
   "execution_count": null,
   "metadata": {},
   "outputs": [
    {
     "data": {
      "text/plain": [
       "1.7308143386816017"
      ]
     },
     "execution_count": 27,
     "metadata": {},
     "output_type": "execute_result"
    }
   ],
   "source": [
    "(df[df[\"Customer ID\"].isnull()][\"Quantity\"] <= 0).mean() * 100"
   ]
  },
  {
   "cell_type": "code",
   "execution_count": null,
   "metadata": {},
   "outputs": [
    {
     "data": {
      "text/plain": [
       "2.5250301431646003"
      ]
     },
     "execution_count": 28,
     "metadata": {},
     "output_type": "execute_result"
    }
   ],
   "source": [
    "(df[df[\"Customer ID\"].isnull()][\"Price\"] <= 0.0).mean() * 100"
   ]
  },
  {
   "attachments": {},
   "cell_type": "markdown",
   "metadata": {},
   "source": [
    "There is not a pattern or a clear reason fo why these rows don't have a **Customer ID** from the data.\n",
    "\n",
    "#### Negative prices and quantities\n",
    "\n",
    "0.6 % of the dataset has negative prices. Let's have a look at rows the values in the **Quantity** column is less or equal than zero, they represent 2.15 % of the total dataset."
   ]
  },
  {
   "cell_type": "code",
   "execution_count": null,
   "metadata": {},
   "outputs": [
    {
     "data": {
      "text/plain": [
       "0.5815222635803297"
      ]
     },
     "execution_count": 29,
     "metadata": {},
     "output_type": "execute_result"
    }
   ],
   "source": [
    "(df[\"Price\"] <= 0).mean() * 100"
   ]
  },
  {
   "cell_type": "code",
   "execution_count": null,
   "metadata": {},
   "outputs": [
    {
     "data": {
      "text/plain": [
       "2.1501427338760375"
      ]
     },
     "execution_count": 30,
     "metadata": {},
     "output_type": "execute_result"
    }
   ],
   "source": [
    "(df[\"Quantity\"] <= 0).mean() * 100"
   ]
  },
  {
   "cell_type": "code",
   "execution_count": null,
   "metadata": {},
   "outputs": [
    {
     "data": {
      "text/html": [
       "<div>\n",
       "<style scoped>\n",
       "    .dataframe tbody tr th:only-of-type {\n",
       "        vertical-align: middle;\n",
       "    }\n",
       "\n",
       "    .dataframe tbody tr th {\n",
       "        vertical-align: top;\n",
       "    }\n",
       "\n",
       "    .dataframe thead th {\n",
       "        text-align: right;\n",
       "    }\n",
       "</style>\n",
       "<table border=\"1\" class=\"dataframe\">\n",
       "  <thead>\n",
       "    <tr style=\"text-align: right;\">\n",
       "      <th></th>\n",
       "      <th>Invoice</th>\n",
       "      <th>StockCode</th>\n",
       "      <th>Description</th>\n",
       "      <th>Quantity</th>\n",
       "      <th>InvoiceDate</th>\n",
       "      <th>Price</th>\n",
       "      <th>Customer ID</th>\n",
       "      <th>Country</th>\n",
       "    </tr>\n",
       "  </thead>\n",
       "  <tbody>\n",
       "    <tr>\n",
       "      <th>4566</th>\n",
       "      <td>489821</td>\n",
       "      <td>85049G</td>\n",
       "      <td>NaN</td>\n",
       "      <td>-240</td>\n",
       "      <td>2009-12-02 13:25:00</td>\n",
       "      <td>0.00</td>\n",
       "      <td>NaN</td>\n",
       "      <td>United Kingdom</td>\n",
       "    </tr>\n",
       "    <tr>\n",
       "      <th>47880</th>\n",
       "      <td>C493850</td>\n",
       "      <td>22061</td>\n",
       "      <td>LARGE CAKE STAND  HANGING STRAWBERY</td>\n",
       "      <td>-1</td>\n",
       "      <td>2010-01-07 15:34:00</td>\n",
       "      <td>9.95</td>\n",
       "      <td>14267.0</td>\n",
       "      <td>United Kingdom</td>\n",
       "    </tr>\n",
       "    <tr>\n",
       "      <th>46236</th>\n",
       "      <td>C493673</td>\n",
       "      <td>84854</td>\n",
       "      <td>GIRLY PINK TOOL SET</td>\n",
       "      <td>-1</td>\n",
       "      <td>2010-01-05 12:26:00</td>\n",
       "      <td>4.25</td>\n",
       "      <td>16779.0</td>\n",
       "      <td>United Kingdom</td>\n",
       "    </tr>\n",
       "    <tr>\n",
       "      <th>123588</th>\n",
       "      <td>C546901</td>\n",
       "      <td>22968</td>\n",
       "      <td>ROSE COTTAGE KEEPSAKE BOX</td>\n",
       "      <td>-1</td>\n",
       "      <td>2011-03-17 18:29:00</td>\n",
       "      <td>9.95</td>\n",
       "      <td>14112.0</td>\n",
       "      <td>United Kingdom</td>\n",
       "    </tr>\n",
       "    <tr>\n",
       "      <th>288295</th>\n",
       "      <td>C562149</td>\n",
       "      <td>23204</td>\n",
       "      <td>CHARLOTTE BAG APPLES DESIGN</td>\n",
       "      <td>-1</td>\n",
       "      <td>2011-08-03 10:49:00</td>\n",
       "      <td>0.85</td>\n",
       "      <td>13534.0</td>\n",
       "      <td>United Kingdom</td>\n",
       "    </tr>\n",
       "    <tr>\n",
       "      <th>24920</th>\n",
       "      <td>C538350</td>\n",
       "      <td>20725</td>\n",
       "      <td>LUNCH BAG RED RETROSPOT</td>\n",
       "      <td>-3</td>\n",
       "      <td>2010-12-10 15:01:00</td>\n",
       "      <td>1.45</td>\n",
       "      <td>13798.0</td>\n",
       "      <td>United Kingdom</td>\n",
       "    </tr>\n",
       "    <tr>\n",
       "      <th>306322</th>\n",
       "      <td>C519250</td>\n",
       "      <td>85099B</td>\n",
       "      <td>JUMBO BAG RED RETROSPOT</td>\n",
       "      <td>-1</td>\n",
       "      <td>2010-08-15 15:18:00</td>\n",
       "      <td>1.95</td>\n",
       "      <td>17107.0</td>\n",
       "      <td>United Kingdom</td>\n",
       "    </tr>\n",
       "    <tr>\n",
       "      <th>289669</th>\n",
       "      <td>C517562</td>\n",
       "      <td>22215</td>\n",
       "      <td>CAKE STAND WHITE TWO TIER LACE</td>\n",
       "      <td>-2</td>\n",
       "      <td>2010-07-30 07:47:00</td>\n",
       "      <td>8.50</td>\n",
       "      <td>15827.0</td>\n",
       "      <td>United Kingdom</td>\n",
       "    </tr>\n",
       "    <tr>\n",
       "      <th>81664</th>\n",
       "      <td>496885</td>\n",
       "      <td>47554</td>\n",
       "      <td>NaN</td>\n",
       "      <td>-4</td>\n",
       "      <td>2010-02-04 14:15:00</td>\n",
       "      <td>0.00</td>\n",
       "      <td>NaN</td>\n",
       "      <td>United Kingdom</td>\n",
       "    </tr>\n",
       "    <tr>\n",
       "      <th>74415</th>\n",
       "      <td>C542424</td>\n",
       "      <td>21733</td>\n",
       "      <td>RED HANGING HEART T-LIGHT HOLDER</td>\n",
       "      <td>-1</td>\n",
       "      <td>2011-01-28 09:18:00</td>\n",
       "      <td>2.95</td>\n",
       "      <td>18075.0</td>\n",
       "      <td>United Kingdom</td>\n",
       "    </tr>\n",
       "  </tbody>\n",
       "</table>\n",
       "</div>"
      ],
      "text/plain": [
       "        Invoice StockCode                          Description  Quantity  \\\n",
       "4566     489821    85049G                                  NaN      -240   \n",
       "47880   C493850     22061  LARGE CAKE STAND  HANGING STRAWBERY        -1   \n",
       "46236   C493673     84854                  GIRLY PINK TOOL SET        -1   \n",
       "123588  C546901     22968           ROSE COTTAGE KEEPSAKE BOX         -1   \n",
       "288295  C562149     23204          CHARLOTTE BAG APPLES DESIGN        -1   \n",
       "24920   C538350     20725              LUNCH BAG RED RETROSPOT        -3   \n",
       "306322  C519250    85099B              JUMBO BAG RED RETROSPOT        -1   \n",
       "289669  C517562     22215       CAKE STAND WHITE TWO TIER LACE        -2   \n",
       "81664    496885     47554                                  NaN        -4   \n",
       "74415   C542424     21733     RED HANGING HEART T-LIGHT HOLDER        -1   \n",
       "\n",
       "               InvoiceDate  Price  Customer ID         Country  \n",
       "4566   2009-12-02 13:25:00   0.00          NaN  United Kingdom  \n",
       "47880  2010-01-07 15:34:00   9.95      14267.0  United Kingdom  \n",
       "46236  2010-01-05 12:26:00   4.25      16779.0  United Kingdom  \n",
       "123588 2011-03-17 18:29:00   9.95      14112.0  United Kingdom  \n",
       "288295 2011-08-03 10:49:00   0.85      13534.0  United Kingdom  \n",
       "24920  2010-12-10 15:01:00   1.45      13798.0  United Kingdom  \n",
       "306322 2010-08-15 15:18:00   1.95      17107.0  United Kingdom  \n",
       "289669 2010-07-30 07:47:00   8.50      15827.0  United Kingdom  \n",
       "81664  2010-02-04 14:15:00   0.00          NaN  United Kingdom  \n",
       "74415  2011-01-28 09:18:00   2.95      18075.0  United Kingdom  "
      ]
     },
     "execution_count": 31,
     "metadata": {},
     "output_type": "execute_result"
    }
   ],
   "source": [
    "df[df[\"Quantity\"] <= 0].sample(10)"
   ]
  },
  {
   "attachments": {},
   "cell_type": "markdown",
   "metadata": {},
   "source": [
    "Looking at the **Invoice** column there is a *C* before the number in most of the rows (85% of them) and according to the data description it means that the order was canceled."
   ]
  },
  {
   "cell_type": "code",
   "execution_count": null,
   "metadata": {},
   "outputs": [
    {
     "data": {
      "text/plain": [
       "84.93681917211329"
      ]
     },
     "execution_count": 32,
     "metadata": {},
     "output_type": "execute_result"
    }
   ],
   "source": [
    "df[df[\"Quantity\"] <= 0][\"Invoice\"].astype(\"str\").str.startswith(\"C\").mean() * 100"
   ]
  },
  {
   "cell_type": "code",
   "execution_count": null,
   "metadata": {},
   "outputs": [
    {
     "data": {
      "text/plain": [
       "99.99487021647685"
      ]
     },
     "execution_count": 33,
     "metadata": {},
     "output_type": "execute_result"
    }
   ],
   "source": [
    "(df[df[\"Invoice\"].astype(\"str\").str.startswith(\"C\")][\"Quantity\"] <= 0.).mean() * 100"
   ]
  },
  {
   "attachments": {},
   "cell_type": "markdown",
   "metadata": {},
   "source": [
    "Let's create a new columns called **TotalPrice** which simply equals to **Quantity** $\\times$ **Price**. Rows with a less or equal to zero represent 2.4% of the dataset and consist of the rows with either a negative price or a negative quantity."
   ]
  },
  {
   "cell_type": "code",
   "execution_count": null,
   "metadata": {},
   "outputs": [],
   "source": [
    "df[\"TotalPrice\"] = df[\"Quantity\"] * df[\"Price\"]"
   ]
  },
  {
   "cell_type": "code",
   "execution_count": null,
   "metadata": {},
   "outputs": [
    {
     "data": {
      "text/plain": [
       "2.4077851093949527"
      ]
     },
     "execution_count": 35,
     "metadata": {},
     "output_type": "execute_result"
    }
   ],
   "source": [
    "(df[\"TotalPrice\"] <= 0).mean() * 100"
   ]
  },
  {
   "cell_type": "code",
   "execution_count": null,
   "metadata": {},
   "outputs": [
    {
     "data": {
      "text/plain": [
       "2.4077851093949527"
      ]
     },
     "execution_count": 36,
     "metadata": {},
     "output_type": "execute_result"
    }
   ],
   "source": [
    "((df[\"Price\"] <= 0) | (df[\"Quantity\"] <= 0) ).mean() * 100"
   ]
  },
  {
   "cell_type": "code",
   "execution_count": null,
   "metadata": {},
   "outputs": [
    {
     "data": {
      "text/html": [
       "<div>\n",
       "<style scoped>\n",
       "    .dataframe tbody tr th:only-of-type {\n",
       "        vertical-align: middle;\n",
       "    }\n",
       "\n",
       "    .dataframe tbody tr th {\n",
       "        vertical-align: top;\n",
       "    }\n",
       "\n",
       "    .dataframe thead th {\n",
       "        text-align: right;\n",
       "    }\n",
       "</style>\n",
       "<table border=\"1\" class=\"dataframe\">\n",
       "  <thead>\n",
       "    <tr style=\"text-align: right;\">\n",
       "      <th></th>\n",
       "      <th>Invoice</th>\n",
       "      <th>StockCode</th>\n",
       "      <th>Description</th>\n",
       "      <th>Quantity</th>\n",
       "      <th>InvoiceDate</th>\n",
       "      <th>Price</th>\n",
       "      <th>Customer ID</th>\n",
       "      <th>Country</th>\n",
       "      <th>TotalPrice</th>\n",
       "    </tr>\n",
       "  </thead>\n",
       "  <tbody>\n",
       "    <tr>\n",
       "      <th>178</th>\n",
       "      <td>C489449</td>\n",
       "      <td>22087</td>\n",
       "      <td>PAPER BUNTING WHITE LACE</td>\n",
       "      <td>-12</td>\n",
       "      <td>2009-12-01 10:33:00</td>\n",
       "      <td>2.95</td>\n",
       "      <td>16321.0</td>\n",
       "      <td>Australia</td>\n",
       "      <td>-35.40</td>\n",
       "    </tr>\n",
       "    <tr>\n",
       "      <th>179</th>\n",
       "      <td>C489449</td>\n",
       "      <td>85206A</td>\n",
       "      <td>CREAM FELT EASTER EGG BASKET</td>\n",
       "      <td>-6</td>\n",
       "      <td>2009-12-01 10:33:00</td>\n",
       "      <td>1.65</td>\n",
       "      <td>16321.0</td>\n",
       "      <td>Australia</td>\n",
       "      <td>-9.90</td>\n",
       "    </tr>\n",
       "    <tr>\n",
       "      <th>180</th>\n",
       "      <td>C489449</td>\n",
       "      <td>21895</td>\n",
       "      <td>POTTING SHED SOW 'N' GROW SET</td>\n",
       "      <td>-4</td>\n",
       "      <td>2009-12-01 10:33:00</td>\n",
       "      <td>4.25</td>\n",
       "      <td>16321.0</td>\n",
       "      <td>Australia</td>\n",
       "      <td>-17.00</td>\n",
       "    </tr>\n",
       "    <tr>\n",
       "      <th>181</th>\n",
       "      <td>C489449</td>\n",
       "      <td>21896</td>\n",
       "      <td>POTTING SHED TWINE</td>\n",
       "      <td>-6</td>\n",
       "      <td>2009-12-01 10:33:00</td>\n",
       "      <td>2.10</td>\n",
       "      <td>16321.0</td>\n",
       "      <td>Australia</td>\n",
       "      <td>-12.60</td>\n",
       "    </tr>\n",
       "    <tr>\n",
       "      <th>182</th>\n",
       "      <td>C489449</td>\n",
       "      <td>22083</td>\n",
       "      <td>PAPER CHAIN KIT RETRO SPOT</td>\n",
       "      <td>-12</td>\n",
       "      <td>2009-12-01 10:33:00</td>\n",
       "      <td>2.95</td>\n",
       "      <td>16321.0</td>\n",
       "      <td>Australia</td>\n",
       "      <td>-35.40</td>\n",
       "    </tr>\n",
       "    <tr>\n",
       "      <th>...</th>\n",
       "      <td>...</td>\n",
       "      <td>...</td>\n",
       "      <td>...</td>\n",
       "      <td>...</td>\n",
       "      <td>...</td>\n",
       "      <td>...</td>\n",
       "      <td>...</td>\n",
       "      <td>...</td>\n",
       "      <td>...</td>\n",
       "    </tr>\n",
       "    <tr>\n",
       "      <th>540449</th>\n",
       "      <td>C581490</td>\n",
       "      <td>23144</td>\n",
       "      <td>ZINC T-LIGHT HOLDER STARS SMALL</td>\n",
       "      <td>-11</td>\n",
       "      <td>2011-12-09 09:57:00</td>\n",
       "      <td>0.83</td>\n",
       "      <td>14397.0</td>\n",
       "      <td>United Kingdom</td>\n",
       "      <td>-9.13</td>\n",
       "    </tr>\n",
       "    <tr>\n",
       "      <th>541541</th>\n",
       "      <td>C581499</td>\n",
       "      <td>M</td>\n",
       "      <td>Manual</td>\n",
       "      <td>-1</td>\n",
       "      <td>2011-12-09 10:28:00</td>\n",
       "      <td>224.69</td>\n",
       "      <td>15498.0</td>\n",
       "      <td>United Kingdom</td>\n",
       "      <td>-224.69</td>\n",
       "    </tr>\n",
       "    <tr>\n",
       "      <th>541715</th>\n",
       "      <td>C581568</td>\n",
       "      <td>21258</td>\n",
       "      <td>VICTORIAN SEWING BOX LARGE</td>\n",
       "      <td>-5</td>\n",
       "      <td>2011-12-09 11:57:00</td>\n",
       "      <td>10.95</td>\n",
       "      <td>15311.0</td>\n",
       "      <td>United Kingdom</td>\n",
       "      <td>-54.75</td>\n",
       "    </tr>\n",
       "    <tr>\n",
       "      <th>541716</th>\n",
       "      <td>C581569</td>\n",
       "      <td>84978</td>\n",
       "      <td>HANGING HEART JAR T-LIGHT HOLDER</td>\n",
       "      <td>-1</td>\n",
       "      <td>2011-12-09 11:58:00</td>\n",
       "      <td>1.25</td>\n",
       "      <td>17315.0</td>\n",
       "      <td>United Kingdom</td>\n",
       "      <td>-1.25</td>\n",
       "    </tr>\n",
       "    <tr>\n",
       "      <th>541717</th>\n",
       "      <td>C581569</td>\n",
       "      <td>20979</td>\n",
       "      <td>36 PENCILS TUBE RED RETROSPOT</td>\n",
       "      <td>-5</td>\n",
       "      <td>2011-12-09 11:58:00</td>\n",
       "      <td>1.25</td>\n",
       "      <td>17315.0</td>\n",
       "      <td>United Kingdom</td>\n",
       "      <td>-6.25</td>\n",
       "    </tr>\n",
       "  </tbody>\n",
       "</table>\n",
       "<p>25700 rows × 9 columns</p>\n",
       "</div>"
      ],
      "text/plain": [
       "        Invoice StockCode                       Description  Quantity  \\\n",
       "178     C489449     22087          PAPER BUNTING WHITE LACE       -12   \n",
       "179     C489449    85206A      CREAM FELT EASTER EGG BASKET        -6   \n",
       "180     C489449     21895     POTTING SHED SOW 'N' GROW SET        -4   \n",
       "181     C489449     21896                POTTING SHED TWINE        -6   \n",
       "182     C489449     22083        PAPER CHAIN KIT RETRO SPOT       -12   \n",
       "...         ...       ...                               ...       ...   \n",
       "540449  C581490     23144   ZINC T-LIGHT HOLDER STARS SMALL       -11   \n",
       "541541  C581499         M                            Manual        -1   \n",
       "541715  C581568     21258        VICTORIAN SEWING BOX LARGE        -5   \n",
       "541716  C581569     84978  HANGING HEART JAR T-LIGHT HOLDER        -1   \n",
       "541717  C581569     20979     36 PENCILS TUBE RED RETROSPOT        -5   \n",
       "\n",
       "               InvoiceDate   Price  Customer ID         Country  TotalPrice  \n",
       "178    2009-12-01 10:33:00    2.95      16321.0       Australia      -35.40  \n",
       "179    2009-12-01 10:33:00    1.65      16321.0       Australia       -9.90  \n",
       "180    2009-12-01 10:33:00    4.25      16321.0       Australia      -17.00  \n",
       "181    2009-12-01 10:33:00    2.10      16321.0       Australia      -12.60  \n",
       "182    2009-12-01 10:33:00    2.95      16321.0       Australia      -35.40  \n",
       "...                    ...     ...          ...             ...         ...  \n",
       "540449 2011-12-09 09:57:00    0.83      14397.0  United Kingdom       -9.13  \n",
       "541541 2011-12-09 10:28:00  224.69      15498.0  United Kingdom     -224.69  \n",
       "541715 2011-12-09 11:57:00   10.95      15311.0  United Kingdom      -54.75  \n",
       "541716 2011-12-09 11:58:00    1.25      17315.0  United Kingdom       -1.25  \n",
       "541717 2011-12-09 11:58:00    1.25      17315.0  United Kingdom       -6.25  \n",
       "\n",
       "[25700 rows x 9 columns]"
      ]
     },
     "execution_count": 37,
     "metadata": {},
     "output_type": "execute_result"
    }
   ],
   "source": [
    "df[df[\"TotalPrice\"] <= 0]"
   ]
  },
  {
   "attachments": {},
   "cell_type": "markdown",
   "metadata": {},
   "source": [
    "Keeping all rows with **TotalPrice** $>$ 0 removes all rows with missing values in the **Description** columns, and also removes all canceled orders but 1."
   ]
  },
  {
   "cell_type": "code",
   "execution_count": null,
   "metadata": {},
   "outputs": [
    {
     "data": {
      "text/plain": [
       "True"
      ]
     },
     "execution_count": 38,
     "metadata": {},
     "output_type": "execute_result"
    }
   ],
   "source": [
    "all(~df[df[\"TotalPrice\"] > 0][\"Description\"].isnull())"
   ]
  },
  {
   "cell_type": "code",
   "execution_count": null,
   "metadata": {},
   "outputs": [
    {
     "data": {
      "text/html": [
       "<div>\n",
       "<style scoped>\n",
       "    .dataframe tbody tr th:only-of-type {\n",
       "        vertical-align: middle;\n",
       "    }\n",
       "\n",
       "    .dataframe tbody tr th {\n",
       "        vertical-align: top;\n",
       "    }\n",
       "\n",
       "    .dataframe thead th {\n",
       "        text-align: right;\n",
       "    }\n",
       "</style>\n",
       "<table border=\"1\" class=\"dataframe\">\n",
       "  <thead>\n",
       "    <tr style=\"text-align: right;\">\n",
       "      <th></th>\n",
       "      <th>Invoice</th>\n",
       "      <th>StockCode</th>\n",
       "      <th>Description</th>\n",
       "      <th>Quantity</th>\n",
       "      <th>InvoiceDate</th>\n",
       "      <th>Price</th>\n",
       "      <th>Customer ID</th>\n",
       "      <th>Country</th>\n",
       "      <th>TotalPrice</th>\n",
       "    </tr>\n",
       "  </thead>\n",
       "  <tbody>\n",
       "    <tr>\n",
       "      <th>76799</th>\n",
       "      <td>C496350</td>\n",
       "      <td>M</td>\n",
       "      <td>Manual</td>\n",
       "      <td>1</td>\n",
       "      <td>2010-02-01 08:24:00</td>\n",
       "      <td>373.57</td>\n",
       "      <td>NaN</td>\n",
       "      <td>United Kingdom</td>\n",
       "      <td>373.57</td>\n",
       "    </tr>\n",
       "  </tbody>\n",
       "</table>\n",
       "</div>"
      ],
      "text/plain": [
       "       Invoice StockCode Description  Quantity         InvoiceDate   Price  \\\n",
       "76799  C496350         M      Manual         1 2010-02-01 08:24:00  373.57   \n",
       "\n",
       "       Customer ID         Country  TotalPrice  \n",
       "76799          NaN  United Kingdom      373.57  "
      ]
     },
     "execution_count": 39,
     "metadata": {},
     "output_type": "execute_result"
    }
   ],
   "source": [
    "df[(df[\"Invoice\"].astype(\"str\").str.startswith(\"C\")) & (df[\"TotalPrice\"] > 0)]"
   ]
  },
  {
   "attachments": {},
   "cell_type": "markdown",
   "metadata": {},
   "source": [
    "#### Further exploration with cleaned data."
   ]
  },
  {
   "attachments": {},
   "cell_type": "markdown",
   "metadata": {},
   "source": [
    "Let's now create a function that loads the data, and filter out rows with negative **TotalPrice** and cancelled orders. There is an argument in the function of keep rows with missing values in the **Customer ID** column."
   ]
  },
  {
   "cell_type": "code",
   "execution_count": null,
   "metadata": {},
   "outputs": [],
   "source": [
    "def load_df(sheet_name=\"Year 2009-2010\", keepna=True):\n",
    "    \n",
    "    df = pd.read_excel(\"data/online_retail_II.xlsx\", \n",
    "                       sheet_name=sheet_name, \n",
    "                       parse_dates=[\"InvoiceDate\"],\n",
    "                       dtype={\"Invoice\": \"str\", \"StockCode\": \"str\"})\n",
    "    \n",
    "    if isinstance(df, dict):\n",
    "        df = pd.concat(df.values())\n",
    "    \n",
    "    df[\"TotalPrice\"] = df[\"Quantity\"] * df[\"Price\"]\n",
    "    df = df.query(\"TotalPrice > 0\")\n",
    "    df = df[~df[\"Invoice\"].str.startswith(\"C\")]\n",
    "    df = df[~df[\"StockCode\"].str.contains(\"TEST\")]\n",
    "    \n",
    "    if not keepna:\n",
    "        df.dropna(inplace = True)\n",
    "        \n",
    "    df.drop_duplicates(inplace=True)\n",
    "        \n",
    "    assert all(df[\"InvoiceDate\"] > datetime(2009,1,1))\n",
    "    assert all(df[\"InvoiceDate\"] < datetime(2012,1,1))\n",
    "    \n",
    "    return df"
   ]
  },
  {
   "cell_type": "code",
   "execution_count": null,
   "metadata": {},
   "outputs": [],
   "source": [
    "df = load_df(None)"
   ]
  },
  {
   "cell_type": "code",
   "execution_count": null,
   "metadata": {},
   "outputs": [
    {
     "name": "stdout",
     "output_type": "stream",
     "text": [
      "<class 'pandas.core.frame.DataFrame'>\n",
      "Int64Index: 1007903 entries, 0 to 541909\n",
      "Data columns (total 9 columns):\n",
      " #   Column       Non-Null Count    Dtype         \n",
      "---  ------       --------------    -----         \n",
      " 0   Invoice      1007903 non-null  object        \n",
      " 1   StockCode    1007903 non-null  object        \n",
      " 2   Description  1007903 non-null  object        \n",
      " 3   Quantity     1007903 non-null  int64         \n",
      " 4   InvoiceDate  1007903 non-null  datetime64[ns]\n",
      " 5   Price        1007903 non-null  float64       \n",
      " 6   Customer ID  779415 non-null   float64       \n",
      " 7   Country      1007903 non-null  object        \n",
      " 8   TotalPrice   1007903 non-null  float64       \n",
      "dtypes: datetime64[ns](1), float64(3), int64(1), object(4)\n",
      "memory usage: 76.9+ MB\n"
     ]
    }
   ],
   "source": [
    "df.info()"
   ]
  },
  {
   "attachments": {},
   "cell_type": "markdown",
   "metadata": {},
   "source": [
    "Now that we have prepared the dataset let's explore further. 22 % percent of the rows have missing values in the **Customer ID**. values which is a lot and quite unfortunate as we cannot track next orders from those customers."
   ]
  },
  {
   "attachments": {},
   "cell_type": "markdown",
   "metadata": {},
   "source": [
    "There is a total of 100k orders in the dataset. Below are listed the most sold items for customers with and without **Customer ID**, we see they don't buy the same items."
   ]
  },
  {
   "cell_type": "code",
   "execution_count": null,
   "metadata": {},
   "outputs": [
    {
     "data": {
      "text/plain": [
       "Description\n",
       "WORLD WAR 2 GLIDERS ASSTD DESIGNS     105185\n",
       "WHITE HANGING HEART T-LIGHT HOLDER     91757\n",
       "PAPER CRAFT , LITTLE BIRDIE            80995\n",
       "ASSORTED COLOUR BIRD ORNAMENT          78234\n",
       "MEDIUM CERAMIC TOP STORAGE JAR         77916\n",
       "Name: Quantity, dtype: int64"
      ]
     },
     "execution_count": 43,
     "metadata": {},
     "output_type": "execute_result"
    }
   ],
   "source": [
    "df.dropna().groupby(\"Description\")[\"Quantity\"].sum().sort_values(ascending=False).head()"
   ]
  },
  {
   "cell_type": "code",
   "execution_count": null,
   "metadata": {},
   "outputs": [
    {
     "data": {
      "text/plain": [
       "Description\n",
       "CHARLOTTE BAG SUKI DESIGN          12139\n",
       "PAPER CHAIN KIT 50'S CHRISTMAS      6704\n",
       "POPCORN HOLDER                      5830\n",
       "SMALL POPCORN HOLDER                5606\n",
       "RED RETROSPOT CHARLOTTE BAG         5495\n",
       "Name: Quantity, dtype: int64"
      ]
     },
     "execution_count": 44,
     "metadata": {},
     "output_type": "execute_result"
    }
   ],
   "source": [
    "df[df[\"Customer ID\"].isnull()].groupby(\"Description\")[\"Quantity\"].sum().sort_values(ascending=False).head()"
   ]
  },
  {
   "attachments": {},
   "cell_type": "markdown",
   "metadata": {},
   "source": [
    "However the item than brought more money to the company is not \"WORLD WAR 2 GLIDERS ASSTD DESIGNS\" but \"REGENCY CAKESTAND 3 TIER\" for a total of 278k £. In comparison \"WORLD WAR 2 GLIDERS ASSTD DESIGNS\" only grossed 25k £."
   ]
  },
  {
   "cell_type": "code",
   "execution_count": null,
   "metadata": {},
   "outputs": [
    {
     "data": {
      "text/plain": [
       "Description\n",
       "REGENCY CAKESTAND 3 TIER              277656.25\n",
       "WHITE HANGING HEART T-LIGHT HOLDER    247048.01\n",
       "PAPER CRAFT , LITTLE BIRDIE           168469.60\n",
       "Manual                                151777.67\n",
       "JUMBO BAG RED RETROSPOT               134307.44\n",
       "Name: TotalPrice, dtype: float64"
      ]
     },
     "execution_count": 45,
     "metadata": {},
     "output_type": "execute_result"
    }
   ],
   "source": [
    "df.dropna().groupby(\"Description\")[\"TotalPrice\"].sum().sort_values(ascending=False).head()"
   ]
  },
  {
   "cell_type": "code",
   "execution_count": null,
   "metadata": {},
   "outputs": [
    {
     "data": {
      "text/plain": [
       "24445.61"
      ]
     },
     "execution_count": 46,
     "metadata": {},
     "output_type": "execute_result"
    }
   ],
   "source": [
    "df.loc[df[\"Description\"] == \"WORLD WAR 2 GLIDERS ASSTD DESIGNS\"][\"TotalPrice\"].sum()"
   ]
  },
  {
   "attachments": {},
   "cell_type": "markdown",
   "metadata": {},
   "source": [
    "Let's check what are the most expensive items. As shown below the 5 most expensive items are all bought by unknown/unregistered customers with prices up to 25k £. Looking only at the customers with a **Customer ID** the 5 most expensive items have lower prices than for unknown customers. The plot below shows the distributions of the price per item for rows with and without missing values in the **Customer ID**, the distributions are highly skewed but we can see that unknown customers buy more expensive items the known customers."
   ]
  },
  {
   "cell_type": "code",
   "execution_count": null,
   "metadata": {},
   "outputs": [
    {
     "data": {
      "text/html": [
       "<div>\n",
       "<style scoped>\n",
       "    .dataframe tbody tr th:only-of-type {\n",
       "        vertical-align: middle;\n",
       "    }\n",
       "\n",
       "    .dataframe tbody tr th {\n",
       "        vertical-align: top;\n",
       "    }\n",
       "\n",
       "    .dataframe thead th {\n",
       "        text-align: right;\n",
       "    }\n",
       "</style>\n",
       "<table border=\"1\" class=\"dataframe\">\n",
       "  <thead>\n",
       "    <tr style=\"text-align: right;\">\n",
       "      <th></th>\n",
       "      <th>Invoice</th>\n",
       "      <th>StockCode</th>\n",
       "      <th>Description</th>\n",
       "      <th>Quantity</th>\n",
       "      <th>InvoiceDate</th>\n",
       "      <th>Price</th>\n",
       "      <th>Customer ID</th>\n",
       "      <th>Country</th>\n",
       "      <th>TotalPrice</th>\n",
       "    </tr>\n",
       "  </thead>\n",
       "  <tbody>\n",
       "    <tr>\n",
       "      <th>241827</th>\n",
       "      <td>512771</td>\n",
       "      <td>M</td>\n",
       "      <td>Manual</td>\n",
       "      <td>1</td>\n",
       "      <td>2010-06-17 16:53:00</td>\n",
       "      <td>25111.09</td>\n",
       "      <td>NaN</td>\n",
       "      <td>United Kingdom</td>\n",
       "      <td>25111.09</td>\n",
       "    </tr>\n",
       "    <tr>\n",
       "      <th>517955</th>\n",
       "      <td>537632</td>\n",
       "      <td>AMAZONFEE</td>\n",
       "      <td>AMAZON FEE</td>\n",
       "      <td>1</td>\n",
       "      <td>2010-12-07 15:08:00</td>\n",
       "      <td>13541.33</td>\n",
       "      <td>NaN</td>\n",
       "      <td>United Kingdom</td>\n",
       "      <td>13541.33</td>\n",
       "    </tr>\n",
       "    <tr>\n",
       "      <th>299982</th>\n",
       "      <td>A563185</td>\n",
       "      <td>B</td>\n",
       "      <td>Adjust bad debt</td>\n",
       "      <td>1</td>\n",
       "      <td>2011-08-12 14:50:00</td>\n",
       "      <td>11062.06</td>\n",
       "      <td>NaN</td>\n",
       "      <td>United Kingdom</td>\n",
       "      <td>11062.06</td>\n",
       "    </tr>\n",
       "    <tr>\n",
       "      <th>135013</th>\n",
       "      <td>502263</td>\n",
       "      <td>M</td>\n",
       "      <td>Manual</td>\n",
       "      <td>1</td>\n",
       "      <td>2010-03-23 15:22:00</td>\n",
       "      <td>10953.50</td>\n",
       "      <td>12918.0</td>\n",
       "      <td>United Kingdom</td>\n",
       "      <td>10953.50</td>\n",
       "    </tr>\n",
       "    <tr>\n",
       "      <th>135015</th>\n",
       "      <td>502265</td>\n",
       "      <td>M</td>\n",
       "      <td>Manual</td>\n",
       "      <td>1</td>\n",
       "      <td>2010-03-23 15:28:00</td>\n",
       "      <td>10953.50</td>\n",
       "      <td>NaN</td>\n",
       "      <td>United Kingdom</td>\n",
       "      <td>10953.50</td>\n",
       "    </tr>\n",
       "  </tbody>\n",
       "</table>\n",
       "</div>"
      ],
      "text/plain": [
       "        Invoice  StockCode      Description  Quantity         InvoiceDate  \\\n",
       "241827   512771          M           Manual         1 2010-06-17 16:53:00   \n",
       "517955   537632  AMAZONFEE       AMAZON FEE         1 2010-12-07 15:08:00   \n",
       "299982  A563185          B  Adjust bad debt         1 2011-08-12 14:50:00   \n",
       "135013   502263          M           Manual         1 2010-03-23 15:22:00   \n",
       "135015   502265          M           Manual         1 2010-03-23 15:28:00   \n",
       "\n",
       "           Price  Customer ID         Country  TotalPrice  \n",
       "241827  25111.09          NaN  United Kingdom    25111.09  \n",
       "517955  13541.33          NaN  United Kingdom    13541.33  \n",
       "299982  11062.06          NaN  United Kingdom    11062.06  \n",
       "135013  10953.50      12918.0  United Kingdom    10953.50  \n",
       "135015  10953.50          NaN  United Kingdom    10953.50  "
      ]
     },
     "execution_count": 47,
     "metadata": {},
     "output_type": "execute_result"
    }
   ],
   "source": [
    "df.sort_values(\"Price\", ascending = False).head()"
   ]
  },
  {
   "cell_type": "code",
   "execution_count": null,
   "metadata": {},
   "outputs": [
    {
     "data": {
      "text/html": [
       "<div>\n",
       "<style scoped>\n",
       "    .dataframe tbody tr th:only-of-type {\n",
       "        vertical-align: middle;\n",
       "    }\n",
       "\n",
       "    .dataframe tbody tr th {\n",
       "        vertical-align: top;\n",
       "    }\n",
       "\n",
       "    .dataframe thead th {\n",
       "        text-align: right;\n",
       "    }\n",
       "</style>\n",
       "<table border=\"1\" class=\"dataframe\">\n",
       "  <thead>\n",
       "    <tr style=\"text-align: right;\">\n",
       "      <th></th>\n",
       "      <th>Invoice</th>\n",
       "      <th>StockCode</th>\n",
       "      <th>Description</th>\n",
       "      <th>Quantity</th>\n",
       "      <th>InvoiceDate</th>\n",
       "      <th>Price</th>\n",
       "      <th>Customer ID</th>\n",
       "      <th>Country</th>\n",
       "      <th>TotalPrice</th>\n",
       "    </tr>\n",
       "  </thead>\n",
       "  <tbody>\n",
       "    <tr>\n",
       "      <th>135013</th>\n",
       "      <td>502263</td>\n",
       "      <td>M</td>\n",
       "      <td>Manual</td>\n",
       "      <td>1</td>\n",
       "      <td>2010-03-23 15:22:00</td>\n",
       "      <td>10953.50</td>\n",
       "      <td>12918.0</td>\n",
       "      <td>United Kingdom</td>\n",
       "      <td>10953.50</td>\n",
       "    </tr>\n",
       "    <tr>\n",
       "      <th>358639</th>\n",
       "      <td>524159</td>\n",
       "      <td>M</td>\n",
       "      <td>Manual</td>\n",
       "      <td>1</td>\n",
       "      <td>2010-09-27 16:12:00</td>\n",
       "      <td>10468.80</td>\n",
       "      <td>14063.0</td>\n",
       "      <td>United Kingdom</td>\n",
       "      <td>10468.80</td>\n",
       "    </tr>\n",
       "    <tr>\n",
       "      <th>74356</th>\n",
       "      <td>496115</td>\n",
       "      <td>M</td>\n",
       "      <td>Manual</td>\n",
       "      <td>1</td>\n",
       "      <td>2010-01-29 11:04:00</td>\n",
       "      <td>8985.60</td>\n",
       "      <td>17949.0</td>\n",
       "      <td>United Kingdom</td>\n",
       "      <td>8985.60</td>\n",
       "    </tr>\n",
       "    <tr>\n",
       "      <th>173382</th>\n",
       "      <td>551697</td>\n",
       "      <td>POST</td>\n",
       "      <td>POSTAGE</td>\n",
       "      <td>1</td>\n",
       "      <td>2011-05-03 13:46:00</td>\n",
       "      <td>8142.75</td>\n",
       "      <td>16029.0</td>\n",
       "      <td>United Kingdom</td>\n",
       "      <td>8142.75</td>\n",
       "    </tr>\n",
       "    <tr>\n",
       "      <th>129987</th>\n",
       "      <td>501768</td>\n",
       "      <td>M</td>\n",
       "      <td>Manual</td>\n",
       "      <td>1</td>\n",
       "      <td>2010-03-19 11:45:00</td>\n",
       "      <td>6958.17</td>\n",
       "      <td>15760.0</td>\n",
       "      <td>Norway</td>\n",
       "      <td>6958.17</td>\n",
       "    </tr>\n",
       "  </tbody>\n",
       "</table>\n",
       "</div>"
      ],
      "text/plain": [
       "       Invoice StockCode Description  Quantity         InvoiceDate     Price  \\\n",
       "135013  502263         M      Manual         1 2010-03-23 15:22:00  10953.50   \n",
       "358639  524159         M      Manual         1 2010-09-27 16:12:00  10468.80   \n",
       "74356   496115         M      Manual         1 2010-01-29 11:04:00   8985.60   \n",
       "173382  551697      POST     POSTAGE         1 2011-05-03 13:46:00   8142.75   \n",
       "129987  501768         M      Manual         1 2010-03-19 11:45:00   6958.17   \n",
       "\n",
       "        Customer ID         Country  TotalPrice  \n",
       "135013      12918.0  United Kingdom    10953.50  \n",
       "358639      14063.0  United Kingdom    10468.80  \n",
       "74356       17949.0  United Kingdom     8985.60  \n",
       "173382      16029.0  United Kingdom     8142.75  \n",
       "129987      15760.0          Norway     6958.17  "
      ]
     },
     "execution_count": 48,
     "metadata": {},
     "output_type": "execute_result"
    }
   ],
   "source": [
    "df.dropna().sort_values(\"Price\", ascending = False).head()"
   ]
  },
  {
   "cell_type": "code",
   "execution_count": null,
   "metadata": {},
   "outputs": [
    {
     "data": {
      "image/png": "[encoded data removed]",
      "text/plain": [
       "<Figure size 432x288 with 1 Axes>"
      ]
     },
     "metadata": {},
     "output_type": "display_data"
    }
   ],
   "source": [
    "bounds=(0, 26000)\n",
    "bins=50\n",
    "ax = df.dropna()[\"Price\"].plot(kind=\"hist\", range=bounds, bins=bins, density=True, label=\"Known customers\")\n",
    "_ = df[df[\"Customer ID\"].isnull()][\"Price\"].plot(kind=\"hist\", range=bounds, bins=bins, alpha=0.6, density=True, \n",
    "                                                 label=\"Unknown customers\")\n",
    "ax.set_yscale(\"log\")\n",
    "ax.set_xscale(\"log\")\n",
    "ax.set_xlabel(\"Price in £\")\n",
    "_ = ax.legend()"
   ]
  },
  {
   "cell_type": "code",
   "execution_count": null,
   "metadata": {},
   "outputs": [],
   "source": [
    "def ecdf(data):\n",
    "    \"\"\" Compute ECDF \"\"\"\n",
    "    x = np.sort(data)\n",
    "    n = x.size\n",
    "    y = np.arange(1, n+1) / n\n",
    "    return(x,y)"
   ]
  },
  {
   "cell_type": "code",
   "execution_count": null,
   "metadata": {},
   "outputs": [
    {
     "data": {
      "text/plain": [
       "<matplotlib.legend.Legend at 0x7fcc669b95e0>"
      ]
     },
     "execution_count": 51,
     "metadata": {},
     "output_type": "execute_result"
    },
    {
     "data": {
      "image/png": "[encoded data removed]",
      "text/plain": [
       "<Figure size 432x288 with 1 Axes>"
      ]
     },
     "metadata": {},
     "output_type": "display_data"
    }
   ],
   "source": [
    "price_known = df.dropna()[\"Price\"].values\n",
    "price_unknown = df[df[\"Customer ID\"].isnull()][\"Price\"].values\n",
    "\n",
    "f, ax = plt.subplots()\n",
    "ax.scatter(*ecdf(price_known), label=\"Known customers\")\n",
    "ax.scatter(*ecdf(price_unknown), label=\"Unknown customers\")\n",
    "ax.set_xscale(\"log\")\n",
    "ax.set_ylabel(\"ECDF\")\n",
    "ax.set_xlabel(\"Price in £\")\n",
    "ax.legend()"
   ]
  },
  {
   "attachments": {},
   "cell_type": "markdown",
   "metadata": {},
   "source": [
    "The plot below shows that customers with unknown **Customer ID** also order less items than registered customers."
   ]
  },
  {
   "cell_type": "code",
   "execution_count": null,
   "metadata": {},
   "outputs": [
    {
     "data": {
      "image/png": "[encoded data removed]",
      "text/plain": [
       "<Figure size 432x288 with 1 Axes>"
      ]
     },
     "metadata": {},
     "output_type": "display_data"
    }
   ],
   "source": [
    "bounds=(0, 40000)\n",
    "bins=50\n",
    "ax = df.dropna()[\"Quantity\"].plot(kind=\"hist\", range=bounds, bins=bins, density=True, label=\"Known customers\", alpha=0.7)\n",
    "_ = df[df[\"Customer ID\"].isnull()][\"Quantity\"].plot(kind=\"hist\", range=bounds, bins=bins, density=True, \n",
    "                                                    label=\"Unknown customers\", alpha=0.8)\n",
    "ax.set_yscale(\"log\")\n",
    "ax.set_xscale(\"log\")\n",
    "ax.set_xlabel(\"Quantity\")\n",
    "_ = ax.legend()"
   ]
  },
  {
   "cell_type": "code",
   "execution_count": null,
   "metadata": {},
   "outputs": [
    {
     "data": {
      "text/plain": [
       "<matplotlib.legend.Legend at 0x7fcc43fd2c70>"
      ]
     },
     "execution_count": 53,
     "metadata": {},
     "output_type": "execute_result"
    },
    {
     "data": {
      "image/png": "[encoded data removed]",
      "text/plain": [
       "<Figure size 432x288 with 1 Axes>"
      ]
     },
     "metadata": {},
     "output_type": "display_data"
    }
   ],
   "source": [
    "quant_known = df.dropna()[\"Quantity\"].values\n",
    "quant_unknown = df[df[\"Customer ID\"].isnull()][\"Quantity\"].values\n",
    "\n",
    "f, ax = plt.subplots()\n",
    "ax.scatter(*ecdf(quant_known), label=\"Known customers\")\n",
    "ax.scatter(*ecdf(quant_unknown), label=\"Unknown customers\")\n",
    "ax.set_xscale(\"log\")\n",
    "ax.set_ylabel(\"ECDF\")\n",
    "ax.set_xlabel(\"Quantity\")\n",
    "ax.legend()"
   ]
  },
  {
   "attachments": {},
   "cell_type": "markdown",
   "metadata": {},
   "source": [
    "Let's check the total price and total quantity of items ordered per invoice. Customers without **Customer ID** pay higher invoice bills that registered customers."
   ]
  },
  {
   "cell_type": "code",
   "execution_count": null,
   "metadata": {},
   "outputs": [
    {
     "data": {
      "image/png": "[encoded data removed]",
      "text/plain": [
       "<Figure size 432x288 with 1 Axes>"
      ]
     },
     "metadata": {},
     "output_type": "display_data"
    }
   ],
   "source": [
    "df_inv = df.dropna().groupby(\"Invoice\").agg({\"TotalPrice\": \"sum\", \"Quantity\":\"sum\"})\n",
    "df_inv_na = df[df[\"Customer ID\"].isnull()].groupby(\"Invoice\").agg({\"TotalPrice\": \"sum\", \"Quantity\":\"sum\"})\n",
    "\n",
    "bounds=(0, 27000)\n",
    "bins=40\n",
    "ax = df_inv[\"TotalPrice\"].plot(kind=\"hist\", range=bounds, bins=bins, density=True, label=\"Known customers\")\n",
    "_ = df_inv_na[\"TotalPrice\"].plot(kind=\"hist\", range=bounds, bins=bins, alpha=0.6, density=True, label=\"Unknown customers\")\n",
    "ax.set_yscale(\"log\")\n",
    "#ax.set_xscale(\"log\")\n",
    "ax.set_xlabel(\"Price in £\")\n",
    "_ = ax.legend()"
   ]
  },
  {
   "cell_type": "code",
   "execution_count": null,
   "metadata": {},
   "outputs": [
    {
     "data": {
      "text/plain": [
       "<matplotlib.legend.Legend at 0x7fcc44e0ba30>"
      ]
     },
     "execution_count": 55,
     "metadata": {},
     "output_type": "execute_result"
    },
    {
     "data": {
      "image/png": "[encoded data removed]",
      "text/plain": [
       "<Figure size 432x288 with 1 Axes>"
      ]
     },
     "metadata": {},
     "output_type": "display_data"
    }
   ],
   "source": [
    "totprice_known = df.dropna().groupby(\"Invoice\")[\"TotalPrice\"].sum().values\n",
    "totprice_unknown = df[df[\"Customer ID\"].isnull()].groupby(\"Invoice\")[\"TotalPrice\"].sum().values\n",
    "\n",
    "f, ax = plt.subplots()\n",
    "ax.scatter(*ecdf(totprice_known), label=\"Known customers\")\n",
    "ax.scatter(*ecdf(totprice_unknown), label=\"Unknown customers\")\n",
    "ax.set_xscale(\"log\")\n",
    "ax.set_ylabel(\"ECDF\")\n",
    "ax.set_xlabel(\"Price in £\")\n",
    "ax.legend()"
   ]
  },
  {
   "attachments": {},
   "cell_type": "markdown",
   "metadata": {},
   "source": [
    "The figure below shows a scatter plot with the total quantity of items per invoice in the x axis versus the total price per invoice on the y-axis. We clearly see two different buying patterns between the two sets of customers, the customers without **Customer ID** buy less items but more expensive items than customers with a **Customer ID**."
   ]
  },
  {
   "cell_type": "code",
   "execution_count": null,
   "metadata": {},
   "outputs": [
    {
     "name": "stderr",
     "output_type": "stream",
     "text": [
      "*c* argument looks like a single numeric RGB or RGBA sequence, which should be avoided as value-mapping will have precedence in case its length matches with *x* & *y*.  Please use the *color* keyword-argument or provide a 2-D array with a single row if you intend to specify the same RGB or RGBA value for all points.\n"
     ]
    },
    {
     "data": {
      "image/png": "[encoded data removed]",
      "text/plain": [
       "<Figure size 432x288 with 1 Axes>"
      ]
     },
     "metadata": {},
     "output_type": "display_data"
    }
   ],
   "source": [
    "ax = df_inv.plot(kind=\"scatter\", x=\"Quantity\", y=\"TotalPrice\", alpha=0.8, label=\"known customers\")\n",
    "df_inv_na.plot(kind=\"scatter\", x=\"Quantity\", y=\"TotalPrice\", ax=ax, color=\"crimson\", alpha=0.8, label=\"Unknown customers\")\n",
    "ax.set_ylim(-100, 30000)\n",
    "ax.set_xlim(-100, 20000)\n",
    "ax.set_ylabel(\"Total price payed per transaction\")\n",
    "ax.set_xlabel(\"Total number of items ordered per transaction\")\n",
    "_ = ax.legend()"
   ]
  },
  {
   "attachments": {},
   "cell_type": "markdown",
   "metadata": {},
   "source": [
    "\n",
    "# Segmentation"
   ]
  },
  {
   "attachments": {},
   "cell_type": "markdown",
   "metadata": {},
   "source": [
    "A way to create customer segments based on their purchases patterns is to perform a RFM (Recency, Frequency, Monetary) analysis. It groups the customers on the basis of their previous purchase transactions. Below are the definitions of each term in RFM:\n",
    "\n",
    "* Recency: Time since customer's last transaction (with a reference date being the 10th of December 2011)\n",
    "\n",
    "* Frequency: Total number of transactions \n",
    "\n",
    "* Monetary: Total money spend by the customer.\n",
    "\n",
    "We will create a new dataframe with these metrics computed for each customers. We therefore need to drop the rows with missing values in the **Customer ID** column."
   ]
  },
  {
   "cell_type": "code",
   "execution_count": null,
   "metadata": {},
   "outputs": [],
   "source": [
    "from datetime import timedelta\n",
    "snapshot_date = max(df.InvoiceDate) +timedelta(days=1)\n",
    "#snapshot_date = datetime(2012, 1, 1)"
   ]
  },
  {
   "cell_type": "code",
   "execution_count": null,
   "metadata": {},
   "outputs": [
    {
     "data": {
      "text/html": [
       "<div>\n",
       "<style scoped>\n",
       "    .dataframe tbody tr th:only-of-type {\n",
       "        vertical-align: middle;\n",
       "    }\n",
       "\n",
       "    .dataframe tbody tr th {\n",
       "        vertical-align: top;\n",
       "    }\n",
       "\n",
       "    .dataframe thead th {\n",
       "        text-align: right;\n",
       "    }\n",
       "</style>\n",
       "<table border=\"1\" class=\"dataframe\">\n",
       "  <thead>\n",
       "    <tr style=\"text-align: right;\">\n",
       "      <th></th>\n",
       "      <th>frequency</th>\n",
       "      <th>recency</th>\n",
       "      <th>monetary</th>\n",
       "    </tr>\n",
       "    <tr>\n",
       "      <th>Customer ID</th>\n",
       "      <th></th>\n",
       "      <th></th>\n",
       "      <th></th>\n",
       "    </tr>\n",
       "  </thead>\n",
       "  <tbody>\n",
       "    <tr>\n",
       "      <th>12346.0</th>\n",
       "      <td>3</td>\n",
       "      <td>326</td>\n",
       "      <td>77352.96</td>\n",
       "    </tr>\n",
       "    <tr>\n",
       "      <th>12347.0</th>\n",
       "      <td>8</td>\n",
       "      <td>2</td>\n",
       "      <td>4921.53</td>\n",
       "    </tr>\n",
       "    <tr>\n",
       "      <th>12348.0</th>\n",
       "      <td>5</td>\n",
       "      <td>75</td>\n",
       "      <td>2019.40</td>\n",
       "    </tr>\n",
       "    <tr>\n",
       "      <th>12349.0</th>\n",
       "      <td>4</td>\n",
       "      <td>19</td>\n",
       "      <td>4428.69</td>\n",
       "    </tr>\n",
       "    <tr>\n",
       "      <th>12350.0</th>\n",
       "      <td>1</td>\n",
       "      <td>310</td>\n",
       "      <td>334.40</td>\n",
       "    </tr>\n",
       "  </tbody>\n",
       "</table>\n",
       "</div>"
      ],
      "text/plain": [
       "             frequency  recency  monetary\n",
       "Customer ID                              \n",
       "12346.0              3      326  77352.96\n",
       "12347.0              8        2   4921.53\n",
       "12348.0              5       75   2019.40\n",
       "12349.0              4       19   4428.69\n",
       "12350.0              1      310    334.40"
      ]
     },
     "execution_count": 58,
     "metadata": {},
     "output_type": "execute_result"
    }
   ],
   "source": [
    "rfm = df.dropna().groupby(\"Customer ID\").agg({\"Invoice\": lambda x: x.nunique(),\n",
    "                                              \"InvoiceDate\": lambda date: (snapshot_date - date.max()).days,\n",
    "                                              \"TotalPrice\": \"sum\"})\n",
    "\n",
    "rfm.rename(columns= {'InvoiceDate': 'recency',\n",
    "                     'Invoice': 'frequency',\n",
    "                      'TotalPrice': 'monetary'}, inplace= True)\n",
    "\n",
    "rfm.head(5)"
   ]
  },
  {
   "cell_type": "code",
   "execution_count": null,
   "metadata": {},
   "outputs": [
    {
     "data": {
      "text/html": [
       "<div>\n",
       "<style scoped>\n",
       "    .dataframe tbody tr th:only-of-type {\n",
       "        vertical-align: middle;\n",
       "    }\n",
       "\n",
       "    .dataframe tbody tr th {\n",
       "        vertical-align: top;\n",
       "    }\n",
       "\n",
       "    .dataframe thead th {\n",
       "        text-align: right;\n",
       "    }\n",
       "</style>\n",
       "<table border=\"1\" class=\"dataframe\">\n",
       "  <thead>\n",
       "    <tr style=\"text-align: right;\">\n",
       "      <th></th>\n",
       "      <th>frequency</th>\n",
       "      <th>recency</th>\n",
       "      <th>monetary</th>\n",
       "    </tr>\n",
       "  </thead>\n",
       "  <tbody>\n",
       "    <tr>\n",
       "      <th>count</th>\n",
       "      <td>5878.000000</td>\n",
       "      <td>5878.000000</td>\n",
       "      <td>5878.000000</td>\n",
       "    </tr>\n",
       "    <tr>\n",
       "      <th>mean</th>\n",
       "      <td>6.287683</td>\n",
       "      <td>201.331916</td>\n",
       "      <td>2955.865646</td>\n",
       "    </tr>\n",
       "    <tr>\n",
       "      <th>std</th>\n",
       "      <td>13.009300</td>\n",
       "      <td>209.338707</td>\n",
       "      <td>14440.674831</td>\n",
       "    </tr>\n",
       "    <tr>\n",
       "      <th>min</th>\n",
       "      <td>1.000000</td>\n",
       "      <td>1.000000</td>\n",
       "      <td>2.950000</td>\n",
       "    </tr>\n",
       "    <tr>\n",
       "      <th>25%</th>\n",
       "      <td>1.000000</td>\n",
       "      <td>26.000000</td>\n",
       "      <td>342.280000</td>\n",
       "    </tr>\n",
       "    <tr>\n",
       "      <th>50%</th>\n",
       "      <td>3.000000</td>\n",
       "      <td>96.000000</td>\n",
       "      <td>867.740000</td>\n",
       "    </tr>\n",
       "    <tr>\n",
       "      <th>75%</th>\n",
       "      <td>7.000000</td>\n",
       "      <td>380.000000</td>\n",
       "      <td>2248.305000</td>\n",
       "    </tr>\n",
       "    <tr>\n",
       "      <th>max</th>\n",
       "      <td>398.000000</td>\n",
       "      <td>739.000000</td>\n",
       "      <td>580987.040000</td>\n",
       "    </tr>\n",
       "  </tbody>\n",
       "</table>\n",
       "</div>"
      ],
      "text/plain": [
       "         frequency      recency       monetary\n",
       "count  5878.000000  5878.000000    5878.000000\n",
       "mean      6.287683   201.331916    2955.865646\n",
       "std      13.009300   209.338707   14440.674831\n",
       "min       1.000000     1.000000       2.950000\n",
       "25%       1.000000    26.000000     342.280000\n",
       "50%       3.000000    96.000000     867.740000\n",
       "75%       7.000000   380.000000    2248.305000\n",
       "max     398.000000   739.000000  580987.040000"
      ]
     },
     "execution_count": 59,
     "metadata": {},
     "output_type": "execute_result"
    }
   ],
   "source": [
    "rfm.describe()"
   ]
  },
  {
   "attachments": {},
   "cell_type": "markdown",
   "metadata": {},
   "source": [
    "Let's plot the distributions of the three quantities."
   ]
  },
  {
   "cell_type": "code",
   "execution_count": null,
   "metadata": {},
   "outputs": [
    {
     "data": {
      "image/png": "[encoded data removed]",
      "text/plain": [
       "<Figure size 1440x432 with 3 Axes>"
      ]
     },
     "metadata": {},
     "output_type": "display_data"
    }
   ],
   "source": [
    "f, ax = plt.subplots(1, 3, figsize=(20, 6))\n",
    "for a in ax:\n",
    "    a.set_ylabel(\"# of occurences\")\n",
    "\n",
    "sns.distplot(rfm.query(\"frequency < 100\")[\"frequency\"], kde=False, ax=ax[0])\n",
    "\n",
    "sns.distplot(rfm[\"recency\"], kde=False, ax=ax[1])\n",
    "\n",
    "sns.distplot(rfm.query(\"monetary < 20000\")[\"monetary\"], kde=False, ax=ax[2]);"
   ]
  },
  {
   "attachments": {},
   "cell_type": "markdown",
   "metadata": {},
   "source": [
    "The next task is two find clusters in the RFM values, this will be done with the KMeans algorithm of scikit-learn."
   ]
  },
  {
   "cell_type": "code",
   "execution_count": null,
   "metadata": {},
   "outputs": [],
   "source": [
    "from sklearn.cluster import KMeans\n",
    "from sklearn.metrics import silhouette_score, calinski_harabasz_score, davies_bouldin_score\n",
    "from sklearn.preprocessing import MinMaxScaler, StandardScaler\n",
    "from scipy import stats"
   ]
  },
  {
   "attachments": {},
   "cell_type": "markdown",
   "metadata": {},
   "source": [
    "KMeans algorithm assumptions:\n",
    "* Symmetric distribution of variables (not skewed)\n",
    "* Variables with same average values\n",
    "* Variables with same variance\n",
    "\n",
    "So we need to unskew the variables (with a log transformation) and standardize them afterwards."
   ]
  },
  {
   "cell_type": "code",
   "execution_count": null,
   "metadata": {},
   "outputs": [
    {
     "data": {
      "image/png": "[encoded data removed]",
      "text/plain": [
       "<Figure size 1440x432 with 3 Axes>"
      ]
     },
     "metadata": {},
     "output_type": "display_data"
    }
   ],
   "source": [
    "def plot_dist_transformed(transformation=lambda x: x):\n",
    "\n",
    "    f, ax = plt.subplots(1, 3, figsize=(20, 6))\n",
    "    for i, a in enumerate(ax):\n",
    "        a.set_ylabel(\"# of occurences\")\n",
    "        \n",
    "        col = rfm.columns[i]\n",
    "        sns.distplot(transformation(rfm[col]), kde=False, ax=a)\n",
    "        a.set_xlabel(col)\n",
    "        \n",
    "plot_dist_transformed(lambda x: stats.boxcox(x)[0])"
   ]
  },
  {
   "cell_type": "code",
   "execution_count": null,
   "metadata": {},
   "outputs": [],
   "source": [
    "rfm_unskewed = np.array([stats.boxcox(rfm[[\"frequency\", \"recency\", \"monetary\"]].values[:,i])[0] for i in range(3)]).T"
   ]
  },
  {
   "cell_type": "code",
   "execution_count": null,
   "metadata": {},
   "outputs": [],
   "source": [
    "scaler = StandardScaler()\n",
    "scaler.fit(rfm_unskewed)\n",
    "rfm_scaled = pd.DataFrame(scaler.transform(rfm_unskewed), columns=[\"frequency\", \"recency\", \"monetary\"])"
   ]
  },
  {
   "cell_type": "code",
   "execution_count": null,
   "metadata": {},
   "outputs": [
    {
     "data": {
      "image/png": "[encoded data removed]",
      "text/plain": [
       "<Figure size 1440x432 with 3 Axes>"
      ]
     },
     "metadata": {},
     "output_type": "display_data"
    }
   ],
   "source": [
    "def plot_dist_scaled(rfms=rfm_scaled):\n",
    "\n",
    "    f, ax = plt.subplots(1, 3, figsize=(20, 6))\n",
    "    for i, a in enumerate(ax):\n",
    "        a.set_ylabel(\"# of occurences\")\n",
    "        \n",
    "        col = rfms.columns[i]\n",
    "        sns.distplot(rfms[col], kde=False, ax=a)\n",
    "        a.set_xlabel(col)\n",
    "        \n",
    "plot_dist_scaled()"
   ]
  },
  {
   "attachments": {},
   "cell_type": "markdown",
   "metadata": {},
   "source": [
    "Now we need to find the optimum number of clusters, to do so we will compute different metrics:\n",
    "\n",
    "* the Silhouette score (higher is best)\n",
    "* the Calinski and Harabasz score (higher is best)\n",
    "* the Davies-Bouldin score (lower is best)\n",
    "* Elbow method on the inertia metric (best number of clusters at the elbow/kink)."
   ]
  },
  {
   "cell_type": "code",
   "execution_count": null,
   "metadata": {},
   "outputs": [],
   "source": [
    "inertias = []\n",
    "silhouettes = []\n",
    "calinski = []\n",
    "davies = []\n",
    "n_clusters = np.arange(2, 10, 1)\n",
    "\n",
    "for n in n_clusters:\n",
    "    kmeans = KMeans(n_clusters=n)\n",
    "    kmeans.fit(rfm_scaled)\n",
    "    inertias.append(kmeans.inertia_)\n",
    "    silhouettes.append(silhouette_score(rfm_scaled, kmeans.predict(rfm_scaled)))\n",
    "    calinski.append(calinski_harabasz_score(rfm_scaled, kmeans.predict(rfm_scaled)))\n",
    "    davies.append(davies_bouldin_score(rfm_scaled, kmeans.predict(rfm_scaled)))"
   ]
  },
  {
   "cell_type": "code",
   "execution_count": null,
   "metadata": {},
   "outputs": [
    {
     "data": {
      "text/plain": [
       "Text(0, 0.5, 'Inertia score')"
      ]
     },
     "execution_count": 67,
     "metadata": {},
     "output_type": "execute_result"
    },
    {
     "data": {
      "image/png": "[encoded data removed]",
      "text/plain": [
       "<Figure size 1440x720 with 4 Axes>"
      ]
     },
     "metadata": {},
     "output_type": "display_data"
    }
   ],
   "source": [
    "f, ax = plt.subplots(2, 2, figsize=(20, 10))\n",
    "for a in ax.flatten():\n",
    "    a.set_xlabel(\"Number of clusters\")\n",
    "\n",
    "ax[0, 0].plot(n_clusters, silhouettes, \".--\")\n",
    "ax[0, 0].set_ylabel(\"Silhouette score\")\n",
    "\n",
    "ax[0, 1].plot(n_clusters, calinski, \".--\")\n",
    "ax[0, 1].set_ylabel(\"Calinski and Harabasz score\")\n",
    "\n",
    "ax[1, 0].plot(n_clusters, davies, \".--\")\n",
    "ax[1, 0].set_ylabel(\"Davies-Bouldin score\")\n",
    "\n",
    "ax[1, 1].plot(n_clusters, inertias, \".--\")\n",
    "ax[1, 1].set_ylabel(\"Inertia score\")"
   ]
  },
  {
   "attachments": {},
   "cell_type": "markdown",
   "metadata": {},
   "source": [
    "The plot suggest that the best number of clusters is 4, Kmeans will compute and assign the clusters for each customer."
   ]
  },
  {
   "cell_type": "code",
   "execution_count": null,
   "metadata": {},
   "outputs": [],
   "source": [
    "nclusters=4\n",
    "kmeans = KMeans(n_clusters=nclusters, random_state=13)\n",
    "kmeans.fit(rfm_scaled)\n",
    "\n",
    "rfm[\"cluster\"] = kmeans.predict(rfm_scaled)"
   ]
  },
  {
   "cell_type": "code",
   "execution_count": null,
   "metadata": {},
   "outputs": [
    {
     "data": {
      "text/html": [
       "<div>\n",
       "<style scoped>\n",
       "    .dataframe tbody tr th:only-of-type {\n",
       "        vertical-align: middle;\n",
       "    }\n",
       "\n",
       "    .dataframe tbody tr th {\n",
       "        vertical-align: top;\n",
       "    }\n",
       "\n",
       "    .dataframe thead th {\n",
       "        text-align: right;\n",
       "    }\n",
       "</style>\n",
       "<table border=\"1\" class=\"dataframe\">\n",
       "  <thead>\n",
       "    <tr style=\"text-align: right;\">\n",
       "      <th></th>\n",
       "      <th>frequency</th>\n",
       "      <th>recency</th>\n",
       "      <th>monetary</th>\n",
       "      <th>cluster</th>\n",
       "    </tr>\n",
       "    <tr>\n",
       "      <th>Customer ID</th>\n",
       "      <th></th>\n",
       "      <th></th>\n",
       "      <th></th>\n",
       "      <th></th>\n",
       "    </tr>\n",
       "  </thead>\n",
       "  <tbody>\n",
       "    <tr>\n",
       "      <th>12346.0</th>\n",
       "      <td>3</td>\n",
       "      <td>326</td>\n",
       "      <td>77352.96</td>\n",
       "      <td>2</td>\n",
       "    </tr>\n",
       "    <tr>\n",
       "      <th>12347.0</th>\n",
       "      <td>8</td>\n",
       "      <td>2</td>\n",
       "      <td>4921.53</td>\n",
       "      <td>0</td>\n",
       "    </tr>\n",
       "    <tr>\n",
       "      <th>12348.0</th>\n",
       "      <td>5</td>\n",
       "      <td>75</td>\n",
       "      <td>2019.40</td>\n",
       "      <td>2</td>\n",
       "    </tr>\n",
       "    <tr>\n",
       "      <th>12349.0</th>\n",
       "      <td>4</td>\n",
       "      <td>19</td>\n",
       "      <td>4428.69</td>\n",
       "      <td>0</td>\n",
       "    </tr>\n",
       "    <tr>\n",
       "      <th>12350.0</th>\n",
       "      <td>1</td>\n",
       "      <td>310</td>\n",
       "      <td>334.40</td>\n",
       "      <td>1</td>\n",
       "    </tr>\n",
       "  </tbody>\n",
       "</table>\n",
       "</div>"
      ],
      "text/plain": [
       "             frequency  recency  monetary  cluster\n",
       "Customer ID                                       \n",
       "12346.0              3      326  77352.96        2\n",
       "12347.0              8        2   4921.53        0\n",
       "12348.0              5       75   2019.40        2\n",
       "12349.0              4       19   4428.69        0\n",
       "12350.0              1      310    334.40        1"
      ]
     },
     "execution_count": 69,
     "metadata": {},
     "output_type": "execute_result"
    }
   ],
   "source": [
    "rfm.head()"
   ]
  },
  {
   "attachments": {},
   "cell_type": "markdown",
   "metadata": {},
   "source": [
    "Below is the number of customers in each cluster."
   ]
  },
  {
   "cell_type": "code",
   "execution_count": null,
   "metadata": {},
   "outputs": [
    {
     "data": {
      "text/plain": [
       "0    1671\n",
       "1    1558\n",
       "2    1389\n",
       "3    1260\n",
       "Name: cluster, dtype: int64"
      ]
     },
     "execution_count": 70,
     "metadata": {},
     "output_type": "execute_result"
    }
   ],
   "source": [
    "rfm[\"cluster\"].value_counts()"
   ]
  },
  {
   "cell_type": "code",
   "execution_count": null,
   "metadata": {},
   "outputs": [
    {
     "data": {
      "text/html": [
       "<div>\n",
       "<style scoped>\n",
       "    .dataframe tbody tr th:only-of-type {\n",
       "        vertical-align: middle;\n",
       "    }\n",
       "\n",
       "    .dataframe tbody tr th {\n",
       "        vertical-align: top;\n",
       "    }\n",
       "\n",
       "    .dataframe thead th {\n",
       "        text-align: right;\n",
       "    }\n",
       "</style>\n",
       "<table border=\"1\" class=\"dataframe\">\n",
       "  <thead>\n",
       "    <tr style=\"text-align: right;\">\n",
       "      <th></th>\n",
       "      <th>frequency</th>\n",
       "      <th>recency</th>\n",
       "      <th>monetary</th>\n",
       "    </tr>\n",
       "    <tr>\n",
       "      <th>cluster</th>\n",
       "      <th></th>\n",
       "      <th></th>\n",
       "      <th></th>\n",
       "    </tr>\n",
       "  </thead>\n",
       "  <tbody>\n",
       "    <tr>\n",
       "      <th>0</th>\n",
       "      <td>15.624776</td>\n",
       "      <td>33.388390</td>\n",
       "      <td>8318.087115</td>\n",
       "    </tr>\n",
       "    <tr>\n",
       "      <th>1</th>\n",
       "      <td>1.185494</td>\n",
       "      <td>428.143132</td>\n",
       "      <td>276.641291</td>\n",
       "    </tr>\n",
       "    <tr>\n",
       "      <th>2</th>\n",
       "      <td>4.250540</td>\n",
       "      <td>295.868970</td>\n",
       "      <td>1571.544726</td>\n",
       "    </tr>\n",
       "    <tr>\n",
       "      <th>3</th>\n",
       "      <td>2.459524</td>\n",
       "      <td>39.387302</td>\n",
       "      <td>683.469795</td>\n",
       "    </tr>\n",
       "  </tbody>\n",
       "</table>\n",
       "</div>"
      ],
      "text/plain": [
       "         frequency     recency     monetary\n",
       "cluster                                    \n",
       "0        15.624776   33.388390  8318.087115\n",
       "1         1.185494  428.143132   276.641291\n",
       "2         4.250540  295.868970  1571.544726\n",
       "3         2.459524   39.387302   683.469795"
      ]
     },
     "execution_count": 71,
     "metadata": {},
     "output_type": "execute_result"
    }
   ],
   "source": [
    "rfm.groupby(\"cluster\").mean()"
   ]
  },
  {
   "attachments": {},
   "cell_type": "markdown",
   "metadata": {},
   "source": [
    "We computed the mean value of the RFM for each cluster of customers:\n",
    "\n",
    "Cluster #0 seems to be best cluster, which contains most people, is the group that spends more money and made the most transactions, and in average had their last transactions 34 days ago. Those are the **regular customers** and some marketing decisions can be taken for those users, free shipping is an example.\n",
    "\n",
    "The cluster #2 is the next best cluster, because the spend a lot of money. However the customers in that group haven't come for a while. It might be a good idea to remind them of the company and proposes new products/deals etc... in oder to move those customers to another group.\n",
    "\n",
    "The cluster #3 is the best after the #2. Those spent less money, ordered less and had their last transactions few months ago. Those might categorized as **occasionnal customers**, who comes from time to time.\n",
    "\n",
    "The cluster #1 didn't spend much and didn't come for a very long time in avergae they have probably stop using the service, churned by now.\n",
    "\n",
    "Let's plot the normalized distributions of the RFM quantities for each cluster."
   ]
  },
  {
   "cell_type": "code",
   "execution_count": null,
   "metadata": {},
   "outputs": [
    {
     "data": {
      "image/png": "[encoded data removed]",
      "text/plain": [
       "<Figure size 1440x432 with 3 Axes>"
      ]
     },
     "metadata": {},
     "output_type": "display_data"
    }
   ],
   "source": [
    "f, ax = plt.subplots(1, 3, figsize=(20, 6))\n",
    "for a in ax:\n",
    "    a.set_ylabel(\"density\")\n",
    "    \n",
    "for c in range(nclusters):\n",
    "    rfm_c =  rfm.query(f\"cluster == {c}\")\n",
    "    label = f\"Cluster {c}\"\n",
    "\n",
    "    sns.distplot(rfm_c.query(\"frequency < 30\")[\"frequency\"], kde=True, ax=ax[0], \n",
    "                 label=label, hist=False, norm_hist=True)\n",
    "\n",
    "    sns.distplot(rfm_c[\"recency\"], kde=True, ax=ax[1], label=label, hist=False, \n",
    "                 norm_hist=True)\n",
    "\n",
    "    sns.distplot(rfm_c.query(\"monetary < 10000\")[\"monetary\"], kde=True, ax=ax[2], \n",
    "                 label=label, hist=False, norm_hist=True)\n",
    "    \n",
    "for a in ax:\n",
    "    a.legend();"
   ]
  },
  {
   "cell_type": "code",
   "execution_count": null,
   "metadata": {},
   "outputs": [
    {
     "data": {
      "text/html": [
       "<div>\n",
       "<style scoped>\n",
       "    .dataframe tbody tr th:only-of-type {\n",
       "        vertical-align: middle;\n",
       "    }\n",
       "\n",
       "    .dataframe tbody tr th {\n",
       "        vertical-align: top;\n",
       "    }\n",
       "\n",
       "    .dataframe thead th {\n",
       "        text-align: right;\n",
       "    }\n",
       "</style>\n",
       "<table border=\"1\" class=\"dataframe\">\n",
       "  <thead>\n",
       "    <tr style=\"text-align: right;\">\n",
       "      <th></th>\n",
       "      <th>frequency</th>\n",
       "      <th>recency</th>\n",
       "      <th>monetary</th>\n",
       "      <th>cluster</th>\n",
       "    </tr>\n",
       "    <tr>\n",
       "      <th>Customer ID</th>\n",
       "      <th></th>\n",
       "      <th></th>\n",
       "      <th></th>\n",
       "      <th></th>\n",
       "    </tr>\n",
       "  </thead>\n",
       "  <tbody>\n",
       "    <tr>\n",
       "      <th>12346.0</th>\n",
       "      <td>3</td>\n",
       "      <td>326</td>\n",
       "      <td>77352.96</td>\n",
       "      <td>2</td>\n",
       "    </tr>\n",
       "    <tr>\n",
       "      <th>12347.0</th>\n",
       "      <td>8</td>\n",
       "      <td>2</td>\n",
       "      <td>4921.53</td>\n",
       "      <td>0</td>\n",
       "    </tr>\n",
       "    <tr>\n",
       "      <th>12348.0</th>\n",
       "      <td>5</td>\n",
       "      <td>75</td>\n",
       "      <td>2019.40</td>\n",
       "      <td>2</td>\n",
       "    </tr>\n",
       "    <tr>\n",
       "      <th>12349.0</th>\n",
       "      <td>4</td>\n",
       "      <td>19</td>\n",
       "      <td>4428.69</td>\n",
       "      <td>0</td>\n",
       "    </tr>\n",
       "    <tr>\n",
       "      <th>12350.0</th>\n",
       "      <td>1</td>\n",
       "      <td>310</td>\n",
       "      <td>334.40</td>\n",
       "      <td>1</td>\n",
       "    </tr>\n",
       "    <tr>\n",
       "      <th>...</th>\n",
       "      <td>...</td>\n",
       "      <td>...</td>\n",
       "      <td>...</td>\n",
       "      <td>...</td>\n",
       "    </tr>\n",
       "    <tr>\n",
       "      <th>18283.0</th>\n",
       "      <td>22</td>\n",
       "      <td>4</td>\n",
       "      <td>2664.90</td>\n",
       "      <td>0</td>\n",
       "    </tr>\n",
       "    <tr>\n",
       "      <th>18284.0</th>\n",
       "      <td>1</td>\n",
       "      <td>432</td>\n",
       "      <td>461.68</td>\n",
       "      <td>1</td>\n",
       "    </tr>\n",
       "    <tr>\n",
       "      <th>18285.0</th>\n",
       "      <td>1</td>\n",
       "      <td>661</td>\n",
       "      <td>427.00</td>\n",
       "      <td>1</td>\n",
       "    </tr>\n",
       "    <tr>\n",
       "      <th>18286.0</th>\n",
       "      <td>2</td>\n",
       "      <td>477</td>\n",
       "      <td>1296.43</td>\n",
       "      <td>2</td>\n",
       "    </tr>\n",
       "    <tr>\n",
       "      <th>18287.0</th>\n",
       "      <td>7</td>\n",
       "      <td>43</td>\n",
       "      <td>4182.99</td>\n",
       "      <td>0</td>\n",
       "    </tr>\n",
       "  </tbody>\n",
       "</table>\n",
       "<p>5878 rows × 4 columns</p>\n",
       "</div>"
      ],
      "text/plain": [
       "             frequency  recency  monetary  cluster\n",
       "Customer ID                                       \n",
       "12346.0              3      326  77352.96        2\n",
       "12347.0              8        2   4921.53        0\n",
       "12348.0              5       75   2019.40        2\n",
       "12349.0              4       19   4428.69        0\n",
       "12350.0              1      310    334.40        1\n",
       "...                ...      ...       ...      ...\n",
       "18283.0             22        4   2664.90        0\n",
       "18284.0              1      432    461.68        1\n",
       "18285.0              1      661    427.00        1\n",
       "18286.0              2      477   1296.43        2\n",
       "18287.0              7       43   4182.99        0\n",
       "\n",
       "[5878 rows x 4 columns]"
      ]
     },
     "execution_count": 73,
     "metadata": {},
     "output_type": "execute_result"
    }
   ],
   "source": [
    "rfm"
   ]
  },
  {
   "cell_type": "code",
   "execution_count": null,
   "metadata": {},
   "outputs": [
    {
     "data": {
      "text/html": [
       "<div>\n",
       "<style scoped>\n",
       "    .dataframe tbody tr th:only-of-type {\n",
       "        vertical-align: middle;\n",
       "    }\n",
       "\n",
       "    .dataframe tbody tr th {\n",
       "        vertical-align: top;\n",
       "    }\n",
       "\n",
       "    .dataframe thead th {\n",
       "        text-align: right;\n",
       "    }\n",
       "</style>\n",
       "<table border=\"1\" class=\"dataframe\">\n",
       "  <thead>\n",
       "    <tr style=\"text-align: right;\">\n",
       "      <th></th>\n",
       "      <th>frequency</th>\n",
       "      <th>recency</th>\n",
       "      <th>monetary</th>\n",
       "      <th>cluster</th>\n",
       "    </tr>\n",
       "    <tr>\n",
       "      <th>Customer ID</th>\n",
       "      <th></th>\n",
       "      <th></th>\n",
       "      <th></th>\n",
       "      <th></th>\n",
       "    </tr>\n",
       "  </thead>\n",
       "  <tbody>\n",
       "    <tr>\n",
       "      <th>12346.0</th>\n",
       "      <td>3</td>\n",
       "      <td>326</td>\n",
       "      <td>77352.96</td>\n",
       "      <td>2</td>\n",
       "    </tr>\n",
       "    <tr>\n",
       "      <th>12347.0</th>\n",
       "      <td>8</td>\n",
       "      <td>2</td>\n",
       "      <td>4921.53</td>\n",
       "      <td>0</td>\n",
       "    </tr>\n",
       "    <tr>\n",
       "      <th>12348.0</th>\n",
       "      <td>5</td>\n",
       "      <td>75</td>\n",
       "      <td>2019.40</td>\n",
       "      <td>2</td>\n",
       "    </tr>\n",
       "    <tr>\n",
       "      <th>12349.0</th>\n",
       "      <td>4</td>\n",
       "      <td>19</td>\n",
       "      <td>4428.69</td>\n",
       "      <td>0</td>\n",
       "    </tr>\n",
       "    <tr>\n",
       "      <th>12350.0</th>\n",
       "      <td>1</td>\n",
       "      <td>310</td>\n",
       "      <td>334.40</td>\n",
       "      <td>1</td>\n",
       "    </tr>\n",
       "    <tr>\n",
       "      <th>...</th>\n",
       "      <td>...</td>\n",
       "      <td>...</td>\n",
       "      <td>...</td>\n",
       "      <td>...</td>\n",
       "    </tr>\n",
       "    <tr>\n",
       "      <th>18283.0</th>\n",
       "      <td>22</td>\n",
       "      <td>4</td>\n",
       "      <td>2664.90</td>\n",
       "      <td>0</td>\n",
       "    </tr>\n",
       "    <tr>\n",
       "      <th>18284.0</th>\n",
       "      <td>1</td>\n",
       "      <td>432</td>\n",
       "      <td>461.68</td>\n",
       "      <td>1</td>\n",
       "    </tr>\n",
       "    <tr>\n",
       "      <th>18285.0</th>\n",
       "      <td>1</td>\n",
       "      <td>661</td>\n",
       "      <td>427.00</td>\n",
       "      <td>1</td>\n",
       "    </tr>\n",
       "    <tr>\n",
       "      <th>18286.0</th>\n",
       "      <td>2</td>\n",
       "      <td>477</td>\n",
       "      <td>1296.43</td>\n",
       "      <td>2</td>\n",
       "    </tr>\n",
       "    <tr>\n",
       "      <th>18287.0</th>\n",
       "      <td>7</td>\n",
       "      <td>43</td>\n",
       "      <td>4182.99</td>\n",
       "      <td>0</td>\n",
       "    </tr>\n",
       "  </tbody>\n",
       "</table>\n",
       "<p>5878 rows × 4 columns</p>\n",
       "</div>"
      ],
      "text/plain": [
       "             frequency  recency  monetary  cluster\n",
       "Customer ID                                       \n",
       "12346.0              3      326  77352.96        2\n",
       "12347.0              8        2   4921.53        0\n",
       "12348.0              5       75   2019.40        2\n",
       "12349.0              4       19   4428.69        0\n",
       "12350.0              1      310    334.40        1\n",
       "...                ...      ...       ...      ...\n",
       "18283.0             22        4   2664.90        0\n",
       "18284.0              1      432    461.68        1\n",
       "18285.0              1      661    427.00        1\n",
       "18286.0              2      477   1296.43        2\n",
       "18287.0              7       43   4182.99        0\n",
       "\n",
       "[5878 rows x 4 columns]"
      ]
     },
     "execution_count": 74,
     "metadata": {},
     "output_type": "execute_result"
    }
   ],
   "source": [
    "rfm"
   ]
  },
  {
   "cell_type": "code",
   "execution_count": null,
   "metadata": {},
   "outputs": [
    {
     "data": {
      "image/png": "[encoded data removed]",
      "text/plain": [
       "<Figure size 1440x432 with 3 Axes>"
      ]
     },
     "metadata": {},
     "output_type": "display_data"
    }
   ],
   "source": [
    "def plot_dist_transformed_cluster(transformation=lambda x: x, columns=[\"frequency\", \"recency\", \"monetary\"]):\n",
    "\n",
    "    f, ax = plt.subplots(1, 3, figsize=(20, 6))\n",
    "    \n",
    "    bins = 30\n",
    "    \n",
    "    ranges = {}\n",
    "    \n",
    "    rfm_ = pd.DataFrame(scaler.transform(transformation(rfm[columns])), columns=columns)\n",
    "    rfm_[\"cluster\"] = rfm[\"cluster\"].values\n",
    "    \n",
    "    \n",
    "    for i, a in enumerate(ax):\n",
    "        a.set_ylabel(\"# of occurences\")\n",
    "        col = rfm_.columns[i]\n",
    "        x_min, y_min = min(rfm_[col]), max(rfm_[col])\n",
    "        ranges[col] = (x_min, y_min)\n",
    "        a.set_xlim(x_min, y_min)\n",
    "        a.set_xlabel(col)\n",
    "        \n",
    "    for c in range(nclusters):\n",
    "        rfm_c =  rfm_.query(f\"cluster == {c}\")\n",
    "        label = f\"Cluster {c}\"\n",
    "    \n",
    "        for i, a in enumerate(ax):\n",
    "            col = rfm_c.columns[i]\n",
    "            toplot = rfm_c[col]\n",
    "            sns.distplot(toplot, kde=True, ax=a, label=label, hist=False)#, bins=bins, hist_kws=dict(range=ranges[col]))\n",
    "            a.legend()\n",
    "        \n",
    "plot_dist_transformed_cluster(lambda x: np.array([stats.boxcox(x.values[:,i])[0] for i in range(3)]).T)"
   ]
  },
  {
   "attachments": {},
   "cell_type": "markdown",
   "metadata": {},
   "source": [
    "# Churn prediction"
   ]
  },
  {
   "attachments": {},
   "cell_type": "markdown",
   "metadata": {},
   "source": [
    "In order to predict wether a customer is active or inactive (alive or dead) in a non-contractual business we can use the RFM. The BG/NBD models, described [here](http://brucehardie.com/papers/018/fader_et_al_mksc_05.pdf), can compute a \"customer lifetime value\". This is the first I work with this so I don't know the details yet, but the model and other utilities are implemented in the nice [lifetimes package](https://lifetimes.readthedocs.io/en/latest/index.html).\n",
    "\n",
    "We will build a slightly different RFM dataset using utilities from the lifetimes packages where:\n",
    "\n",
    "* frequency represents the number of repeat purchases the customer has made. This means that it’s one less than the total number of purchases. This is actually slightly wrong. It’s the count of time periods the customer had a purchase in. So if using days as units, then it’s the count of days the customer had a purchase on.\n",
    "* T represents the age of the customer in whatever time units chosen (weekly, in the above dataset). This is equal to the duration between a customer’s first purchase and the end of the period under study.\n",
    "* recency represents the age of the customer when they made their most recent purchases. This is equal to the duration between a customer’s first purchase and their latest purchase. (Thus if they have made only 1 purchase, the recency is 0.)\n",
    "* monetary_value represents the average value of a given customer’s purchases. This is equal to the sum of all a customer’s purchases divided by the total number of purchases. Note that the denominator here is different than the frequency described above."
   ]
  },
  {
   "cell_type": "code",
   "execution_count": null,
   "metadata": {},
   "outputs": [],
   "source": [
    "from lifetimes.utils import summary_data_from_transaction_data\n",
    "rfml = summary_data_from_transaction_data(df.dropna(), \"Customer ID\", \"InvoiceDate\", \"TotalPrice\")"
   ]
  },
  {
   "cell_type": "code",
   "execution_count": null,
   "metadata": {},
   "outputs": [
    {
     "data": {
      "text/html": [
       "<div>\n",
       "<style scoped>\n",
       "    .dataframe tbody tr th:only-of-type {\n",
       "        vertical-align: middle;\n",
       "    }\n",
       "\n",
       "    .dataframe tbody tr th {\n",
       "        vertical-align: top;\n",
       "    }\n",
       "\n",
       "    .dataframe thead th {\n",
       "        text-align: right;\n",
       "    }\n",
       "</style>\n",
       "<table border=\"1\" class=\"dataframe\">\n",
       "  <thead>\n",
       "    <tr style=\"text-align: right;\">\n",
       "      <th></th>\n",
       "      <th>frequency</th>\n",
       "      <th>recency</th>\n",
       "      <th>T</th>\n",
       "      <th>monetary_value</th>\n",
       "    </tr>\n",
       "    <tr>\n",
       "      <th>Customer ID</th>\n",
       "      <th></th>\n",
       "      <th></th>\n",
       "      <th></th>\n",
       "      <th></th>\n",
       "    </tr>\n",
       "  </thead>\n",
       "  <tbody>\n",
       "    <tr>\n",
       "      <th>12346.0</th>\n",
       "      <td>2.0</td>\n",
       "      <td>322.0</td>\n",
       "      <td>647.0</td>\n",
       "      <td>38662.955000</td>\n",
       "    </tr>\n",
       "    <tr>\n",
       "      <th>12347.0</th>\n",
       "      <td>7.0</td>\n",
       "      <td>402.0</td>\n",
       "      <td>404.0</td>\n",
       "      <td>615.714286</td>\n",
       "    </tr>\n",
       "    <tr>\n",
       "      <th>12348.0</th>\n",
       "      <td>4.0</td>\n",
       "      <td>363.0</td>\n",
       "      <td>438.0</td>\n",
       "      <td>449.310000</td>\n",
       "    </tr>\n",
       "    <tr>\n",
       "      <th>12349.0</th>\n",
       "      <td>3.0</td>\n",
       "      <td>571.0</td>\n",
       "      <td>589.0</td>\n",
       "      <td>1120.056667</td>\n",
       "    </tr>\n",
       "    <tr>\n",
       "      <th>12350.0</th>\n",
       "      <td>0.0</td>\n",
       "      <td>0.0</td>\n",
       "      <td>310.0</td>\n",
       "      <td>0.000000</td>\n",
       "    </tr>\n",
       "  </tbody>\n",
       "</table>\n",
       "</div>"
      ],
      "text/plain": [
       "             frequency  recency      T  monetary_value\n",
       "Customer ID                                           \n",
       "12346.0            2.0    322.0  647.0    38662.955000\n",
       "12347.0            7.0    402.0  404.0      615.714286\n",
       "12348.0            4.0    363.0  438.0      449.310000\n",
       "12349.0            3.0    571.0  589.0     1120.056667\n",
       "12350.0            0.0      0.0  310.0        0.000000"
      ]
     },
     "execution_count": 77,
     "metadata": {},
     "output_type": "execute_result"
    }
   ],
   "source": [
    "rfml.head()"
   ]
  },
  {
   "cell_type": "code",
   "execution_count": null,
   "metadata": {},
   "outputs": [
    {
     "data": {
      "text/html": [
       "<div>\n",
       "<style scoped>\n",
       "    .dataframe tbody tr th:only-of-type {\n",
       "        vertical-align: middle;\n",
       "    }\n",
       "\n",
       "    .dataframe tbody tr th {\n",
       "        vertical-align: top;\n",
       "    }\n",
       "\n",
       "    .dataframe thead th {\n",
       "        text-align: right;\n",
       "    }\n",
       "</style>\n",
       "<table border=\"1\" class=\"dataframe\">\n",
       "  <thead>\n",
       "    <tr style=\"text-align: right;\">\n",
       "      <th></th>\n",
       "      <th>frequency</th>\n",
       "      <th>recency</th>\n",
       "      <th>T</th>\n",
       "      <th>monetary_value</th>\n",
       "    </tr>\n",
       "  </thead>\n",
       "  <tbody>\n",
       "    <tr>\n",
       "      <th>count</th>\n",
       "      <td>5878.000000</td>\n",
       "      <td>5878.000000</td>\n",
       "      <td>5878.000000</td>\n",
       "      <td>5878.000000</td>\n",
       "    </tr>\n",
       "    <tr>\n",
       "      <th>mean</th>\n",
       "      <td>4.631337</td>\n",
       "      <td>273.380401</td>\n",
       "      <td>474.247193</td>\n",
       "      <td>317.689877</td>\n",
       "    </tr>\n",
       "    <tr>\n",
       "      <th>std</th>\n",
       "      <td>9.999831</td>\n",
       "      <td>258.959670</td>\n",
       "      <td>223.078296</td>\n",
       "      <td>2306.280368</td>\n",
       "    </tr>\n",
       "    <tr>\n",
       "      <th>min</th>\n",
       "      <td>0.000000</td>\n",
       "      <td>0.000000</td>\n",
       "      <td>0.000000</td>\n",
       "      <td>0.000000</td>\n",
       "    </tr>\n",
       "    <tr>\n",
       "      <th>25%</th>\n",
       "      <td>0.000000</td>\n",
       "      <td>0.000000</td>\n",
       "      <td>313.000000</td>\n",
       "      <td>0.000000</td>\n",
       "    </tr>\n",
       "    <tr>\n",
       "      <th>50%</th>\n",
       "      <td>2.000000</td>\n",
       "      <td>221.000000</td>\n",
       "      <td>530.000000</td>\n",
       "      <td>207.117500</td>\n",
       "    </tr>\n",
       "    <tr>\n",
       "      <th>75%</th>\n",
       "      <td>5.000000</td>\n",
       "      <td>512.000000</td>\n",
       "      <td>668.000000</td>\n",
       "      <td>368.045909</td>\n",
       "    </tr>\n",
       "    <tr>\n",
       "      <th>max</th>\n",
       "      <td>254.000000</td>\n",
       "      <td>738.000000</td>\n",
       "      <td>738.000000</td>\n",
       "      <td>168469.600000</td>\n",
       "    </tr>\n",
       "  </tbody>\n",
       "</table>\n",
       "</div>"
      ],
      "text/plain": [
       "         frequency      recency            T  monetary_value\n",
       "count  5878.000000  5878.000000  5878.000000     5878.000000\n",
       "mean      4.631337   273.380401   474.247193      317.689877\n",
       "std       9.999831   258.959670   223.078296     2306.280368\n",
       "min       0.000000     0.000000     0.000000        0.000000\n",
       "25%       0.000000     0.000000   313.000000        0.000000\n",
       "50%       2.000000   221.000000   530.000000      207.117500\n",
       "75%       5.000000   512.000000   668.000000      368.045909\n",
       "max     254.000000   738.000000   738.000000   168469.600000"
      ]
     },
     "execution_count": 78,
     "metadata": {},
     "output_type": "execute_result"
    }
   ],
   "source": [
    "rfml.describe()"
   ]
  },
  {
   "attachments": {},
   "cell_type": "markdown",
   "metadata": {},
   "source": [
    "Now we will fit the model, we get a summary on the fitted parameters of the model and their uncertainty."
   ]
  },
  {
   "cell_type": "code",
   "execution_count": null,
   "metadata": {},
   "outputs": [
    {
     "data": {
      "text/html": [
       "<div>\n",
       "<style scoped>\n",
       "    .dataframe tbody tr th:only-of-type {\n",
       "        vertical-align: middle;\n",
       "    }\n",
       "\n",
       "    .dataframe tbody tr th {\n",
       "        vertical-align: top;\n",
       "    }\n",
       "\n",
       "    .dataframe thead th {\n",
       "        text-align: right;\n",
       "    }\n",
       "</style>\n",
       "<table border=\"1\" class=\"dataframe\">\n",
       "  <thead>\n",
       "    <tr style=\"text-align: right;\">\n",
       "      <th></th>\n",
       "      <th>coef</th>\n",
       "      <th>se(coef)</th>\n",
       "      <th>lower 95% bound</th>\n",
       "      <th>upper 95% bound</th>\n",
       "    </tr>\n",
       "  </thead>\n",
       "  <tbody>\n",
       "    <tr>\n",
       "      <th>r</th>\n",
       "      <td>0.663390</td>\n",
       "      <td>0.015844</td>\n",
       "      <td>0.632336</td>\n",
       "      <td>0.694443</td>\n",
       "    </tr>\n",
       "    <tr>\n",
       "      <th>alpha</th>\n",
       "      <td>63.235424</td>\n",
       "      <td>1.936315</td>\n",
       "      <td>59.440248</td>\n",
       "      <td>67.030601</td>\n",
       "    </tr>\n",
       "    <tr>\n",
       "      <th>a</th>\n",
       "      <td>0.108172</td>\n",
       "      <td>0.015347</td>\n",
       "      <td>0.078091</td>\n",
       "      <td>0.138252</td>\n",
       "    </tr>\n",
       "    <tr>\n",
       "      <th>b</th>\n",
       "      <td>2.401727</td>\n",
       "      <td>0.520377</td>\n",
       "      <td>1.381789</td>\n",
       "      <td>3.421666</td>\n",
       "    </tr>\n",
       "  </tbody>\n",
       "</table>\n",
       "</div>"
      ],
      "text/plain": [
       "            coef  se(coef)  lower 95% bound  upper 95% bound\n",
       "r       0.663390  0.015844         0.632336         0.694443\n",
       "alpha  63.235424  1.936315        59.440248        67.030601\n",
       "a       0.108172  0.015347         0.078091         0.138252\n",
       "b       2.401727  0.520377         1.381789         3.421666"
      ]
     },
     "execution_count": 79,
     "metadata": {},
     "output_type": "execute_result"
    }
   ],
   "source": [
    "from lifetimes import BetaGeoFitter\n",
    "\n",
    "bgf = BetaGeoFitter(penalizer_coef=0.0)\n",
    "bgf.fit(rfml[\"frequency\"], rfml[\"recency\"], rfml[\"T\"])\n",
    "\n",
    "bgf.summary"
   ]
  },
  {
   "attachments": {},
   "cell_type": "markdown",
   "metadata": {},
   "source": [
    "From the fitted model we can do many nice things for instance the expected number of transactions an artificial customer is to make in the next time period (1 day), given his or her recency (age at last purchase) and frequency (the number of repeat transactions he or she has made)."
   ]
  },
  {
   "cell_type": "code",
   "execution_count": null,
   "metadata": {},
   "outputs": [
    {
     "data": {
      "image/png": "[encoded data removed]",
      "text/plain": [
       "<Figure size 720x360 with 2 Axes>"
      ]
     },
     "metadata": {},
     "output_type": "display_data"
    }
   ],
   "source": [
    "from lifetimes.plotting import plot_frequency_recency_matrix\n",
    "f = plt.figure(figsize=(10, 5))\n",
    "plot_frequency_recency_matrix(bgf, cmap=\"viridis\");"
   ]
  },
  {
   "attachments": {},
   "cell_type": "markdown",
   "metadata": {},
   "source": [
    "We can see that if a customer has bought ~250 times from the retail service, and their latest purchase was when they were a bit older than 700 weeks (given the individual is ~700 weeks old), then they are the best customers (bottom-right). The coldest customers are those that are in the top-right corner: they bought a lot quickly, and we haven’t seen them in weeks.\n",
    "\n",
    "We can also plot the probability of still being alive."
   ]
  },
  {
   "cell_type": "code",
   "execution_count": null,
   "metadata": {},
   "outputs": [
    {
     "data": {
      "image/png": "[encoded data removed]",
      "text/plain": [
       "<Figure size 720x360 with 2 Axes>"
      ]
     },
     "metadata": {},
     "output_type": "display_data"
    }
   ],
   "source": [
    "from lifetimes.plotting import plot_probability_alive_matrix\n",
    "f = plt.figure(figsize=(10, 5))\n",
    "plot_probability_alive_matrix(bgf, cmap=\"viridis\");"
   ]
  },
  {
   "attachments": {},
   "cell_type": "markdown",
   "metadata": {},
   "source": [
    "### Have any users churned during the second half of 2011?\n",
    "\n",
    "To determine this I will use the probabilities histories of still being alive as a function of the time computed from the BG/NBD model."
   ]
  },
  {
   "cell_type": "code",
   "execution_count": null,
   "metadata": {},
   "outputs": [
    {
     "name": "stderr",
     "output_type": "stream",
     "text": [
      "100%|██████████| 5878/5878 [03:21<00:00, 29.12it/s] \n"
     ]
    }
   ],
   "source": [
    "from lifetimes.utils import calculate_alive_path\n",
    "from tqdm import tqdm\n",
    "\n",
    "customer_ids = df.dropna()[\"Customer ID\"].unique()\n",
    "\n",
    "alive_paths = {}\n",
    "for i, cid in enumerate(tqdm(customer_ids)):\n",
    "    days_since_birth = int(rfml.loc[cid][\"T\"])\n",
    "    sp_trans = df[df[\"Customer ID\"] == cid]\n",
    "    alive_paths[cid] = calculate_alive_path(bgf, sp_trans, \"InvoiceDate\", days_since_birth)"
   ]
  },
  {
   "attachments": {},
   "cell_type": "markdown",
   "metadata": {},
   "source": [
    "I computed the \"alive paths\" for each customers (probability of still being alive), an example of those paths is plotted below. The vertical red lines represent the date of each purchase."
   ]
  },
  {
   "cell_type": "code",
   "execution_count": null,
   "metadata": {},
   "outputs": [],
   "source": [
    "from lifetimes.plotting import plot_history_alive\n",
    "\n",
    "def plot_path(cid, ax=None, july_line=False):\n",
    "    days_since_birth = int(rfml.loc[cid][\"T\"])\n",
    "    sp_trans = df[df[\"Customer ID\"] == cid]\n",
    "    plot_history_alive(bgf, days_since_birth, sp_trans, \"InvoiceDate\", ax=ax)\n",
    "    if july_line:\n",
    "        plt.vlines(datetime(2011, 7, 1), 0, 1, color=\"forestgreen\")"
   ]
  },
  {
   "cell_type": "code",
   "execution_count": null,
   "metadata": {},
   "outputs": [
    {
     "data": {
      "image/png": "[encoded data removed]",
      "text/plain": [
       "<Figure size 432x288 with 1 Axes>"
      ]
     },
     "metadata": {},
     "output_type": "display_data"
    }
   ],
   "source": [
    "plot_path(13085)"
   ]
  },
  {
   "attachments": {},
   "cell_type": "markdown",
   "metadata": {},
   "source": [
    "I will collect the **Customer ID** of the customers that have probably churned in the second half of 2011, to do so I need to discard the customers that churned before that."
   ]
  },
  {
   "cell_type": "code",
   "execution_count": null,
   "metadata": {},
   "outputs": [],
   "source": [
    "ndays = (df[\"InvoiceDate\"].max() - datetime(2011, 7, 1)).days\n",
    "\n",
    "inactive_after_july = []\n",
    "for k, v in alive_paths.items():\n",
    "    \n",
    "    # if customer made his first order before july 2011\n",
    "    if len(v) >= ndays:\n",
    "        # if minimum probability of still being alive is less\n",
    "        # than 0.5, the customer is considered to have churned\n",
    "        # before july 2011\n",
    "        if min(v[:-ndays]) < 0.5:\n",
    "            continue\n",
    "            \n",
    "        v = list(v)[-ndays:]\n",
    "        \n",
    "    # if one there is one transaction after septembre 2011 we consider\n",
    "    # the user will not churn.\n",
    "    if df.loc[df[\"Customer ID\"] == k, \"InvoiceDate\"].max() > datetime(2011, 9, 1):\n",
    "        continue\n",
    "\n",
    "    # if probability of still being alive in the second half of\n",
    "    # 2011 is less than 0.3 I consider that the customer have churned.\n",
    "    if min(v) < 0.3:\n",
    "        inactive_after_july.append(k)"
   ]
  },
  {
   "cell_type": "code",
   "execution_count": null,
   "metadata": {},
   "outputs": [],
   "source": [
    "print(f\"Number of users that probably churned in the second half of 2011: {len(inactive_after_july)}\")"
   ]
  },
  {
   "attachments": {},
   "cell_type": "markdown",
   "metadata": {},
   "source": [
    "Let's plot some \"alive paths\" of those users to make sure they have probably churned during this period."
   ]
  },
  {
   "cell_type": "code",
   "execution_count": null,
   "metadata": {},
   "outputs": [],
   "source": [
    "f = plt.figure(figsize=(10, 5))\n",
    "plot_path(inactive_after_july[0], july_line=True)"
   ]
  },
  {
   "cell_type": "code",
   "execution_count": null,
   "metadata": {},
   "outputs": [],
   "source": [
    "f = plt.figure(figsize=(10, 5))\n",
    "plot_path(inactive_after_july[5], july_line=True)"
   ]
  },
  {
   "cell_type": "code",
   "execution_count": null,
   "metadata": {},
   "outputs": [],
   "source": [
    "f = plt.figure(figsize=(10, 5))\n",
    "plot_path(inactive_after_july[10], july_line=True)"
   ]
  },
  {
   "attachments": {},
   "cell_type": "markdown",
   "metadata": {},
   "source": [
    "### Are there any users in high risk of churning by the end of 2011?\n",
    "\n",
    "To determine this we need to gather customers that survided the end of the 2011 and have a low number of expected number of transactions in the future. Here the future is 22 days since the last date in the dataset is the 9th of December 2011."
   ]
  },
  {
   "cell_type": "code",
   "execution_count": null,
   "metadata": {},
   "outputs": [],
   "source": [
    "alive_after_july = []\n",
    "for k, v in alive_paths.items():\n",
    "      \n",
    "    # if customer made is first order before july 2011\n",
    "    if len(v) >= ndays:\n",
    "        v_ = list(v)[-ndays:]\n",
    "    else:\n",
    "        v_ = v\n",
    "    \n",
    "    # remove users that have less than 2 consecutives transactions\n",
    "    if rfml.loc[k, \"frequency\"] < 1:\n",
    "        continue\n",
    "        \n",
    "    # users that are still alive in the second half of 2011\n",
    "    if min(v_) > 0.5:\n",
    "        alive_after_july.append(k)"
   ]
  },
  {
   "attachments": {},
   "cell_type": "markdown",
   "metadata": {},
   "source": [
    "We compute the expected number of purchases in the next 22 days and rank the customers."
   ]
  },
  {
   "cell_type": "code",
   "execution_count": null,
   "metadata": {},
   "outputs": [],
   "source": [
    "t = 22\n",
    "rfml[\"predicted_purchases\"] = bgf.conditional_expected_number_of_purchases_up_to_time(t, rfml[\"frequency\"], rfml[\"recency\"], rfml[\"T\"])\n",
    "rfml.sort_values(by=\"predicted_purchases\", ascending=False).head(5)"
   ]
  },
  {
   "attachments": {},
   "cell_type": "markdown",
   "metadata": {},
   "source": [
    "Below is the distribution the predicted number of transactions in the next 22 days."
   ]
  },
  {
   "cell_type": "code",
   "execution_count": null,
   "metadata": {},
   "outputs": [],
   "source": [
    "ax = rfml.loc[alive_after_july, \"predicted_purchases\"].plot(kind=\"hist\", bins=50)\n",
    "ax.set_xlabel(\"predicted number of transactions (in 22 days)\")"
   ]
  },
  {
   "attachments": {},
   "cell_type": "markdown",
   "metadata": {},
   "source": [
    "Let's plot the normalized distributions the predicted number of transactions in the next 22 days, for customers probably alived in the second half of 2011, for each cluster group defined above."
   ]
  },
  {
   "cell_type": "code",
   "execution_count": null,
   "metadata": {},
   "outputs": [],
   "source": [
    "rfml.loc[customer_ids, \"cluster\"] = rfm.loc[customer_ids, \"cluster\"]"
   ]
  },
  {
   "cell_type": "code",
   "execution_count": null,
   "metadata": {},
   "outputs": [],
   "source": [
    "f = plt.figure(figsize=(10, 5))\n",
    "\n",
    "for c in range(5):\n",
    "    rfm_c =  rfml.loc[alive_after_july].query(f\"cluster == {c}\")\n",
    "    label = f\"Cluster {c}\"\n",
    "\n",
    "    sns.distplot(rfm_c[\"predicted_purchases\"], kde=True, \n",
    "                 label=label, hist=False, norm_hist=True)\n",
    "plt.xlim(0, 0.7)\n",
    "plt.xlabel(\"predicted number of transactions (in 22 days)\")"
   ]
  },
  {
   "attachments": {},
   "cell_type": "markdown",
   "metadata": {},
   "source": [
    "As we see member of the cluster 3 have higher risks of churning in the next 22 days. We could also select a fraction of the customers with the lowest predicted number of transactions and act in order to keep them."
   ]
  },
  {
   "cell_type": "code",
   "execution_count": null,
   "metadata": {},
   "outputs": [],
   "source": [
    "rfml.loc[alive_after_july][\"cluster\"].value_counts()"
   ]
  },
  {
   "cell_type": "code",
   "execution_count": null,
   "metadata": {},
   "outputs": [],
   "source": [
    "rfml.loc[alive_after_july].groupby(\"cluster\").mean()"
   ]
  },
  {
   "cell_type": "code",
   "execution_count": null,
   "metadata": {},
   "outputs": [],
   "source": [
    "rfm.groupby(\"cluster\").mean()"
   ]
  },
  {
   "attachments": {},
   "cell_type": "markdown",
   "metadata": {},
   "source": [
    "### Customer Lifetime Value\n",
    "\n",
    "Let's compute for each customer its CLV and compare for each cluster."
   ]
  },
  {
   "cell_type": "code",
   "execution_count": null,
   "metadata": {},
   "outputs": [],
   "source": [
    "rfml[['monetary_value', 'frequency']].corr()"
   ]
  },
  {
   "cell_type": "code",
   "execution_count": null,
   "metadata": {},
   "outputs": [],
   "source": [
    "from lifetimes import GammaGammaFitter\n",
    "\n",
    "rfml_m = rfml[rfml.monetary_value > 0]\n",
    "\n",
    "\n",
    "ggf = GammaGammaFitter(penalizer_coef = 0)\n",
    "ggf.fit(rfml_m['frequency'],\n",
    "        rfml_m['monetary_value'])\n",
    "print(ggf)"
   ]
  },
  {
   "cell_type": "code",
   "execution_count": null,
   "metadata": {},
   "outputs": [],
   "source": [
    "print(ggf.conditional_expected_average_profit(\n",
    "        rfml_m['frequency'],\n",
    "        rfml_m['monetary_value']\n",
    "    ).head(10))"
   ]
  },
  {
   "cell_type": "code",
   "execution_count": null,
   "metadata": {},
   "outputs": [],
   "source": [
    "print(\"Expected conditional average profit: %s, Average profit: %s\" % (\n",
    "    ggf.conditional_expected_average_profit(\n",
    "        rfml_m['frequency'],\n",
    "        rfml_m['monetary_value']\n",
    "    ).mean(),\n",
    "    rfml_m[rfml_m['frequency']>0]['monetary_value'].mean()\n",
    "))"
   ]
  },
  {
   "cell_type": "code",
   "execution_count": null,
   "metadata": {},
   "outputs": [],
   "source": [
    "bgf_clv = BetaGeoFitter(penalizer_coef=0.0)\n",
    "bgf_clv.fit(rfml_m['frequency'], rfml_m['recency'], rfml_m['T'])\n",
    "\n",
    "print(ggf.customer_lifetime_value(\n",
    "    bgf_clv, #the model to use to predict the number of future transactions\n",
    "    rfml_m['frequency'],\n",
    "    rfml_m['recency'],\n",
    "    rfml_m['T'],\n",
    "    rfml_m['monetary_value'],\n",
    "    time=1, # months\n",
    "    discount_rate=0.01 # monthly discount rate ~ 12.7% annually\n",
    ").head(10))"
   ]
  },
  {
   "cell_type": "code",
   "execution_count": null,
   "metadata": {},
   "outputs": [],
   "source": [
    "predicted_sum  = ggf.customer_lifetime_value(\n",
    "    bgf_clv, #the model to use to predict the number of future transactions\n",
    "    rfml_m['frequency'],\n",
    "    rfml_m['recency'],\n",
    "    rfml_m['T'],\n",
    "    rfml_m['monetary_value'],\n",
    "    time=1, # months\n",
    "    discount_rate=0.01 # monthly discount rate ~ 12.7% annually\n",
    ")\n",
    "\n",
    "predicted_sum = pd.DataFrame(predicted_sum)"
   ]
  },
  {
   "cell_type": "code",
   "execution_count": null,
   "metadata": {},
   "outputs": [],
   "source": [
    "ids = predicted_sum.index\n",
    "predicted_sum.loc[ids, \"cluster\"] = rfm.loc[ids, \"cluster\"]"
   ]
  },
  {
   "cell_type": "code",
   "execution_count": null,
   "metadata": {},
   "outputs": [],
   "source": [
    "f, ax = plt.subplots(figsize=(10, 5))\n",
    "\n",
    "for c in range(5):\n",
    "    p_c =  predicted_sum.query(f\"cluster == {c}\")\n",
    "    label = f\"Cluster {c}\"\n",
    "\n",
    "    sns.distplot(p_c[\"clv\"], kde=True, \n",
    "                 label=label, hist=False, ax=ax)\n",
    "ax.set_xlim(10, 10000)\n",
    "ax.set_xscale(\"log\")\n",
    "ax.set_xlabel(\"predicted CLV (in 1 month)\")"
   ]
  },
  {
   "cell_type": "code",
   "execution_count": null,
   "metadata": {},
   "outputs": [],
   "source": [
    "predicted_sum.groupby(\"cluster\").agg({\"clv\": [\"mean\", \"std\", \"median\", \"sum\"]})"
   ]
  },
  {
   "cell_type": "code",
   "execution_count": null,
   "metadata": {},
   "outputs": [],
   "source": [
    "predicted_sum[\"cluster\"].value_counts()"
   ]
  }
 ],
 "metadata": {
  "kernelspec": {
   "display_name": "Python 3",
   "language": "python",
   "name": "python3"
  },
  "language_info": {
   "codemirror_mode": {
    "name": "ipython",
    "version": 3
   },
   "file_extension": ".py",
   "mimetype": "text/x-python",
   "name": "python",
   "nbconvert_exporter": "python",
   "pygments_lexer": "ipython3",
   "version": "3.11.3"
  }
 },
 "nbformat": 4,
 "nbformat_minor": 4
}
