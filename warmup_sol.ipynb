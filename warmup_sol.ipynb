{
 "cells": [
  {
   "attachments": {},
   "cell_type": "markdown",
   "metadata": {},
   "source": [
    "# Online Retail - Basic Exploration\n",
    "* Download the data file\n",
    "* Visualize the first 10 rows"
   ]
  },
  {
   "attachments": {},
   "cell_type": "markdown",
   "metadata": {},
   "source": [
    "### To edit this notebook, go to File -> Save a copy in Drive\n",
    "Google Colab is a freemium cloud service based on Jupyter notebooks. It provides a virtual machine (VM) in which a Jupyter notebook can be executed, even with hardware acceleration like GPUs. The whole process is similar to Google borrowing us one of its computers. We can access this borrowed computer through this browser window."
   ]
  },
  {
   "cell_type": "code",
   "execution_count": 12,
   "metadata": {},
   "outputs": [
    {
     "name": "stdout",
     "output_type": "stream",
     "text": [
      "35\n"
     ]
    }
   ],
   "source": [
    "a = 10\n",
    "b = 25\n",
    "print(a + b)"
   ]
  },
  {
   "cell_type": "code",
   "execution_count": 13,
   "metadata": {},
   "outputs": [
    {
     "name": "stdout",
     "output_type": "stream",
     "text": [
      "8750\n"
     ]
    }
   ],
   "source": [
    "product = a * b \n",
    "sum = a + b\n",
    "result = product * sum\n",
    "print(result)"
   ]
  },
  {
   "attachments": {},
   "cell_type": "markdown",
   "metadata": {},
   "source": [
    "### Data loading \n",
    "A virtual machine is the simultion of a computer operating system (e.g. Windows or Linux) on another computer. Basically, it allows you to run an OS inside another OS. Mac Users may know this from Parallels Desktop, which allows to use Windows inside of Mac OS. Because a VM acts as another computer (that is trapped inside another computer), we have to download our dataset inside this virtual computer system. We can again do this using linux commands. **You don't have to understand the following code, it's enough to understand that you can operate a computer entirely using a command line, which includes downloading and unzipping zip-files.**"
   ]
  },
  {
   "cell_type": "code",
   "execution_count": 14,
   "metadata": {},
   "outputs": [],
   "source": [
    "import requests\n",
    "import zipfile\n",
    "import os\n",
    "\n",
    "# URL of the ZIP file to download\n",
    "url = \"https://faubox.rrze.uni-erlangen.de/dl/fitrNLfAzeMvpher2zfyA/online_retail_II.zip\"\n",
    "\n",
    "# Path to save the downloaded ZIP file\n",
    "zip_filename = \"online_retail_II.zip\"\n",
    "\n",
    "# Path to extract the desired file from the ZIP archive\n",
    "extracted_file = \"online_retail_II.xlsx\"\n",
    "\n",
    "if not(os.path.exists(extracted_file)):\n",
    "    # Download the ZIP file\n",
    "    response = requests.get(url)\n",
    "    with open(zip_filename, \"wb\") as file:\n",
    "        file.write(response.content)\n",
    "\n",
    "    # Extract the desired file from the ZIP archive\n",
    "    with zipfile.ZipFile(zip_filename, \"r\") as zip_ref:\n",
    "        zip_ref.extract(extracted_file)\n",
    "\n",
    "    print(\"File extracted successfully.\")\n",
    "    \n",
    "data_file = extracted_file"
   ]
  },
  {
   "attachments": {},
   "cell_type": "markdown",
   "metadata": {},
   "source": [
    "### Reading the file into a Pandas data frame and showing the contents of it"
   ]
  },
  {
   "cell_type": "code",
   "execution_count": 15,
   "metadata": {},
   "outputs": [],
   "source": [
    "import pandas as pd\n",
    "# reads this into a dictionary for every sheet in the excel file\n",
    "raw_data = pd.read_excel(data_file, sheet_name=None)\n",
    "# raw_data.values() returns a list of identical data frames that are simply stacked\n",
    "df = pd.concat(raw_data.values())\n",
    "# Reset the index and assign a new unique index\n",
    "df = df.reset_index(drop=True)\n"
   ]
  },
  {
   "cell_type": "code",
   "execution_count": 16,
   "metadata": {},
   "outputs": [],
   "source": [
    "# Reset the index and assign a new unique index\n",
    "df = df.reset_index(drop=True)\n"
   ]
  },
  {
   "attachments": {},
   "cell_type": "markdown",
   "metadata": {},
   "source": [
    "Show the first ten rows of a DataFrame:"
   ]
  },
  {
   "cell_type": "code",
   "execution_count": 17,
   "metadata": {},
   "outputs": [
    {
     "data": {
      "text/html": [
       "<div>\n",
       "<style scoped>\n",
       "    .dataframe tbody tr th:only-of-type {\n",
       "        vertical-align: middle;\n",
       "    }\n",
       "\n",
       "    .dataframe tbody tr th {\n",
       "        vertical-align: top;\n",
       "    }\n",
       "\n",
       "    .dataframe thead th {\n",
       "        text-align: right;\n",
       "    }\n",
       "</style>\n",
       "<table border=\"1\" class=\"dataframe\">\n",
       "  <thead>\n",
       "    <tr style=\"text-align: right;\">\n",
       "      <th></th>\n",
       "      <th>Invoice</th>\n",
       "      <th>StockCode</th>\n",
       "      <th>Description</th>\n",
       "      <th>Quantity</th>\n",
       "      <th>InvoiceDate</th>\n",
       "      <th>Price</th>\n",
       "      <th>Customer ID</th>\n",
       "      <th>Country</th>\n",
       "    </tr>\n",
       "  </thead>\n",
       "  <tbody>\n",
       "    <tr>\n",
       "      <th>0</th>\n",
       "      <td>489434</td>\n",
       "      <td>85048</td>\n",
       "      <td>15CM CHRISTMAS GLASS BALL 20 LIGHTS</td>\n",
       "      <td>12</td>\n",
       "      <td>2009-12-01 07:45:00</td>\n",
       "      <td>6.95</td>\n",
       "      <td>13085.0</td>\n",
       "      <td>United Kingdom</td>\n",
       "    </tr>\n",
       "    <tr>\n",
       "      <th>1</th>\n",
       "      <td>489434</td>\n",
       "      <td>79323P</td>\n",
       "      <td>PINK CHERRY LIGHTS</td>\n",
       "      <td>12</td>\n",
       "      <td>2009-12-01 07:45:00</td>\n",
       "      <td>6.75</td>\n",
       "      <td>13085.0</td>\n",
       "      <td>United Kingdom</td>\n",
       "    </tr>\n",
       "    <tr>\n",
       "      <th>2</th>\n",
       "      <td>489434</td>\n",
       "      <td>79323W</td>\n",
       "      <td>WHITE CHERRY LIGHTS</td>\n",
       "      <td>12</td>\n",
       "      <td>2009-12-01 07:45:00</td>\n",
       "      <td>6.75</td>\n",
       "      <td>13085.0</td>\n",
       "      <td>United Kingdom</td>\n",
       "    </tr>\n",
       "    <tr>\n",
       "      <th>3</th>\n",
       "      <td>489434</td>\n",
       "      <td>22041</td>\n",
       "      <td>RECORD FRAME 7\" SINGLE SIZE</td>\n",
       "      <td>48</td>\n",
       "      <td>2009-12-01 07:45:00</td>\n",
       "      <td>2.10</td>\n",
       "      <td>13085.0</td>\n",
       "      <td>United Kingdom</td>\n",
       "    </tr>\n",
       "    <tr>\n",
       "      <th>4</th>\n",
       "      <td>489434</td>\n",
       "      <td>21232</td>\n",
       "      <td>STRAWBERRY CERAMIC TRINKET BOX</td>\n",
       "      <td>24</td>\n",
       "      <td>2009-12-01 07:45:00</td>\n",
       "      <td>1.25</td>\n",
       "      <td>13085.0</td>\n",
       "      <td>United Kingdom</td>\n",
       "    </tr>\n",
       "    <tr>\n",
       "      <th>5</th>\n",
       "      <td>489434</td>\n",
       "      <td>22064</td>\n",
       "      <td>PINK DOUGHNUT TRINKET POT</td>\n",
       "      <td>24</td>\n",
       "      <td>2009-12-01 07:45:00</td>\n",
       "      <td>1.65</td>\n",
       "      <td>13085.0</td>\n",
       "      <td>United Kingdom</td>\n",
       "    </tr>\n",
       "    <tr>\n",
       "      <th>6</th>\n",
       "      <td>489434</td>\n",
       "      <td>21871</td>\n",
       "      <td>SAVE THE PLANET MUG</td>\n",
       "      <td>24</td>\n",
       "      <td>2009-12-01 07:45:00</td>\n",
       "      <td>1.25</td>\n",
       "      <td>13085.0</td>\n",
       "      <td>United Kingdom</td>\n",
       "    </tr>\n",
       "    <tr>\n",
       "      <th>7</th>\n",
       "      <td>489434</td>\n",
       "      <td>21523</td>\n",
       "      <td>FANCY FONT HOME SWEET HOME DOORMAT</td>\n",
       "      <td>10</td>\n",
       "      <td>2009-12-01 07:45:00</td>\n",
       "      <td>5.95</td>\n",
       "      <td>13085.0</td>\n",
       "      <td>United Kingdom</td>\n",
       "    </tr>\n",
       "    <tr>\n",
       "      <th>8</th>\n",
       "      <td>489435</td>\n",
       "      <td>22350</td>\n",
       "      <td>CAT BOWL</td>\n",
       "      <td>12</td>\n",
       "      <td>2009-12-01 07:46:00</td>\n",
       "      <td>2.55</td>\n",
       "      <td>13085.0</td>\n",
       "      <td>United Kingdom</td>\n",
       "    </tr>\n",
       "    <tr>\n",
       "      <th>9</th>\n",
       "      <td>489435</td>\n",
       "      <td>22349</td>\n",
       "      <td>DOG BOWL , CHASING BALL DESIGN</td>\n",
       "      <td>12</td>\n",
       "      <td>2009-12-01 07:46:00</td>\n",
       "      <td>3.75</td>\n",
       "      <td>13085.0</td>\n",
       "      <td>United Kingdom</td>\n",
       "    </tr>\n",
       "  </tbody>\n",
       "</table>\n",
       "</div>"
      ],
      "text/plain": [
       "  Invoice StockCode                          Description  Quantity  \\\n",
       "0  489434     85048  15CM CHRISTMAS GLASS BALL 20 LIGHTS        12   \n",
       "1  489434    79323P                   PINK CHERRY LIGHTS        12   \n",
       "2  489434    79323W                  WHITE CHERRY LIGHTS        12   \n",
       "3  489434     22041         RECORD FRAME 7\" SINGLE SIZE         48   \n",
       "4  489434     21232       STRAWBERRY CERAMIC TRINKET BOX        24   \n",
       "5  489434     22064           PINK DOUGHNUT TRINKET POT         24   \n",
       "6  489434     21871                  SAVE THE PLANET MUG        24   \n",
       "7  489434     21523   FANCY FONT HOME SWEET HOME DOORMAT        10   \n",
       "8  489435     22350                            CAT BOWL         12   \n",
       "9  489435     22349       DOG BOWL , CHASING BALL DESIGN        12   \n",
       "\n",
       "          InvoiceDate  Price  Customer ID         Country  \n",
       "0 2009-12-01 07:45:00   6.95      13085.0  United Kingdom  \n",
       "1 2009-12-01 07:45:00   6.75      13085.0  United Kingdom  \n",
       "2 2009-12-01 07:45:00   6.75      13085.0  United Kingdom  \n",
       "3 2009-12-01 07:45:00   2.10      13085.0  United Kingdom  \n",
       "4 2009-12-01 07:45:00   1.25      13085.0  United Kingdom  \n",
       "5 2009-12-01 07:45:00   1.65      13085.0  United Kingdom  \n",
       "6 2009-12-01 07:45:00   1.25      13085.0  United Kingdom  \n",
       "7 2009-12-01 07:45:00   5.95      13085.0  United Kingdom  \n",
       "8 2009-12-01 07:46:00   2.55      13085.0  United Kingdom  \n",
       "9 2009-12-01 07:46:00   3.75      13085.0  United Kingdom  "
      ]
     },
     "execution_count": 17,
     "metadata": {},
     "output_type": "execute_result"
    }
   ],
   "source": [
    "df.head(10)"
   ]
  },
  {
   "attachments": {},
   "cell_type": "markdown",
   "metadata": {},
   "source": [
    "In addition to the ten first, we can randomly sample some rows from our data set. Repeat this a couple of times to get a feeling for the data."
   ]
  },
  {
   "cell_type": "code",
   "execution_count": 18,
   "metadata": {},
   "outputs": [
    {
     "data": {
      "text/html": [
       "<div>\n",
       "<style scoped>\n",
       "    .dataframe tbody tr th:only-of-type {\n",
       "        vertical-align: middle;\n",
       "    }\n",
       "\n",
       "    .dataframe tbody tr th {\n",
       "        vertical-align: top;\n",
       "    }\n",
       "\n",
       "    .dataframe thead th {\n",
       "        text-align: right;\n",
       "    }\n",
       "</style>\n",
       "<table border=\"1\" class=\"dataframe\">\n",
       "  <thead>\n",
       "    <tr style=\"text-align: right;\">\n",
       "      <th></th>\n",
       "      <th>Invoice</th>\n",
       "      <th>StockCode</th>\n",
       "      <th>Description</th>\n",
       "      <th>Quantity</th>\n",
       "      <th>InvoiceDate</th>\n",
       "      <th>Price</th>\n",
       "      <th>Customer ID</th>\n",
       "      <th>Country</th>\n",
       "    </tr>\n",
       "  </thead>\n",
       "  <tbody>\n",
       "    <tr>\n",
       "      <th>169353</th>\n",
       "      <td>505462</td>\n",
       "      <td>22246</td>\n",
       "      <td>GARLAND, MAGIC GARDEN 1.8M</td>\n",
       "      <td>12</td>\n",
       "      <td>2010-04-22 11:51:00</td>\n",
       "      <td>1.95</td>\n",
       "      <td>15622.0</td>\n",
       "      <td>United Kingdom</td>\n",
       "    </tr>\n",
       "    <tr>\n",
       "      <th>120498</th>\n",
       "      <td>500891</td>\n",
       "      <td>22384</td>\n",
       "      <td>LUNCH BAG PINK RETROSPOT</td>\n",
       "      <td>1</td>\n",
       "      <td>2010-03-10 16:24:00</td>\n",
       "      <td>4.21</td>\n",
       "      <td>NaN</td>\n",
       "      <td>United Kingdom</td>\n",
       "    </tr>\n",
       "    <tr>\n",
       "      <th>518084</th>\n",
       "      <td>537638</td>\n",
       "      <td>21397</td>\n",
       "      <td>BLUE POLKADOT EGG CUP</td>\n",
       "      <td>1</td>\n",
       "      <td>2010-12-07 15:28:00</td>\n",
       "      <td>3.36</td>\n",
       "      <td>NaN</td>\n",
       "      <td>United Kingdom</td>\n",
       "    </tr>\n",
       "    <tr>\n",
       "      <th>687792</th>\n",
       "      <td>550500</td>\n",
       "      <td>22996</td>\n",
       "      <td>TRAVEL CARD WALLET VINTAGE TICKET</td>\n",
       "      <td>1</td>\n",
       "      <td>2011-04-18 15:26:00</td>\n",
       "      <td>0.83</td>\n",
       "      <td>NaN</td>\n",
       "      <td>United Kingdom</td>\n",
       "    </tr>\n",
       "    <tr>\n",
       "      <th>573313</th>\n",
       "      <td>540453</td>\n",
       "      <td>21870</td>\n",
       "      <td>I CAN ONLY PLEASE ONE PERSON MUG</td>\n",
       "      <td>12</td>\n",
       "      <td>2011-01-07 11:54:00</td>\n",
       "      <td>1.25</td>\n",
       "      <td>13426.0</td>\n",
       "      <td>United Kingdom</td>\n",
       "    </tr>\n",
       "    <tr>\n",
       "      <th>246533</th>\n",
       "      <td>513265</td>\n",
       "      <td>20726</td>\n",
       "      <td>LUNCH BAG WOODLAND</td>\n",
       "      <td>1</td>\n",
       "      <td>2010-06-23 11:39:00</td>\n",
       "      <td>1.65</td>\n",
       "      <td>14725.0</td>\n",
       "      <td>United Kingdom</td>\n",
       "    </tr>\n",
       "    <tr>\n",
       "      <th>846892</th>\n",
       "      <td>565150</td>\n",
       "      <td>22784</td>\n",
       "      <td>LANTERN CREAM GAZEBO</td>\n",
       "      <td>6</td>\n",
       "      <td>2011-09-01 14:26:00</td>\n",
       "      <td>4.25</td>\n",
       "      <td>14298.0</td>\n",
       "      <td>United Kingdom</td>\n",
       "    </tr>\n",
       "    <tr>\n",
       "      <th>361879</th>\n",
       "      <td>524412</td>\n",
       "      <td>71403</td>\n",
       "      <td>PINK/WHITE \"KEEP CLEAN\" BULLET BIN</td>\n",
       "      <td>12</td>\n",
       "      <td>2010-09-29 09:59:00</td>\n",
       "      <td>2.95</td>\n",
       "      <td>14911.0</td>\n",
       "      <td>EIRE</td>\n",
       "    </tr>\n",
       "    <tr>\n",
       "      <th>223857</th>\n",
       "      <td>511067</td>\n",
       "      <td>20774</td>\n",
       "      <td>GREEN FERN NOTEBOOK</td>\n",
       "      <td>6</td>\n",
       "      <td>2010-06-06 13:06:00</td>\n",
       "      <td>1.65</td>\n",
       "      <td>15956.0</td>\n",
       "      <td>United Kingdom</td>\n",
       "    </tr>\n",
       "    <tr>\n",
       "      <th>927022</th>\n",
       "      <td>571441</td>\n",
       "      <td>22439</td>\n",
       "      <td>6 ROCKET BALLOONS</td>\n",
       "      <td>2</td>\n",
       "      <td>2011-10-17 13:31:00</td>\n",
       "      <td>1.25</td>\n",
       "      <td>14096.0</td>\n",
       "      <td>United Kingdom</td>\n",
       "    </tr>\n",
       "  </tbody>\n",
       "</table>\n",
       "</div>"
      ],
      "text/plain": [
       "       Invoice StockCode                         Description  Quantity  \\\n",
       "169353  505462     22246          GARLAND, MAGIC GARDEN 1.8M        12   \n",
       "120498  500891     22384            LUNCH BAG PINK RETROSPOT         1   \n",
       "518084  537638     21397              BLUE POLKADOT EGG CUP          1   \n",
       "687792  550500     22996   TRAVEL CARD WALLET VINTAGE TICKET         1   \n",
       "573313  540453     21870    I CAN ONLY PLEASE ONE PERSON MUG        12   \n",
       "246533  513265     20726                  LUNCH BAG WOODLAND         1   \n",
       "846892  565150     22784               LANTERN CREAM GAZEBO          6   \n",
       "361879  524412     71403  PINK/WHITE \"KEEP CLEAN\" BULLET BIN        12   \n",
       "223857  511067     20774                 GREEN FERN NOTEBOOK         6   \n",
       "927022  571441     22439                  6 ROCKET BALLOONS          2   \n",
       "\n",
       "               InvoiceDate  Price  Customer ID         Country  \n",
       "169353 2010-04-22 11:51:00   1.95      15622.0  United Kingdom  \n",
       "120498 2010-03-10 16:24:00   4.21          NaN  United Kingdom  \n",
       "518084 2010-12-07 15:28:00   3.36          NaN  United Kingdom  \n",
       "687792 2011-04-18 15:26:00   0.83          NaN  United Kingdom  \n",
       "573313 2011-01-07 11:54:00   1.25      13426.0  United Kingdom  \n",
       "246533 2010-06-23 11:39:00   1.65      14725.0  United Kingdom  \n",
       "846892 2011-09-01 14:26:00   4.25      14298.0  United Kingdom  \n",
       "361879 2010-09-29 09:59:00   2.95      14911.0            EIRE  \n",
       "223857 2010-06-06 13:06:00   1.65      15956.0  United Kingdom  \n",
       "927022 2011-10-17 13:31:00   1.25      14096.0  United Kingdom  "
      ]
     },
     "execution_count": 18,
     "metadata": {},
     "output_type": "execute_result"
    }
   ],
   "source": [
    "df.sample(10)"
   ]
  },
  {
   "attachments": {},
   "cell_type": "markdown",
   "metadata": {},
   "source": [
    "Warmup questions first:\n",
    "* How many rows do we have in our dataset? Hint: use df.shape or print(df) \t\n",
    "* How many customer IDs are NaN? \n",
    "* What was the highest price for a product?\n"
   ]
  },
  {
   "cell_type": "code",
   "execution_count": 19,
   "metadata": {},
   "outputs": [
    {
     "name": "stdout",
     "output_type": "stream",
     "text": [
      "(1067371, 8)\n",
      "We have 1067371 rows in our dataset.\n",
      "We have 243007 unidentified customers.\n",
      "The most expensive price was 38970.0.\n"
     ]
    }
   ],
   "source": [
    "# How many rows do we have in our dataset? Hint: use df.shape or print(df) \n",
    "print(df.shape)\n",
    "num_rows = df.shape[0]\n",
    "print(f\"We have {num_rows} rows in our dataset.\")\n",
    "\n",
    "# How many customer IDs are NaN? \n",
    "df[\"Customer ID\"].isna()\n",
    "NaN_Customers = df[\"Customer ID\"].isna().sum()\n",
    "print(f\"We have {NaN_Customers} unidentified customers.\")\n",
    "\n",
    "# What was the highest price for a product?\n",
    "most_expensive = df[\"Price\"].max()\n",
    "print(f\"The most expensive price was {most_expensive}.\")\n"
   ]
  },
  {
   "attachments": {},
   "cell_type": "markdown",
   "metadata": {},
   "source": [
    "* What countries do most our customers come from?\t\n",
    "* What was our most expensive sale?\t\n",
    "* Which customer ordered the most products?\n"
   ]
  },
  {
   "cell_type": "code",
   "execution_count": 20,
   "metadata": {},
   "outputs": [
    {
     "data": {
      "text/plain": [
       "0          United Kingdom\n",
       "1          United Kingdom\n",
       "2          United Kingdom\n",
       "3          United Kingdom\n",
       "4          United Kingdom\n",
       "                ...      \n",
       "1067366            France\n",
       "1067367            France\n",
       "1067368            France\n",
       "1067369            France\n",
       "1067370            France\n",
       "Name: Country, Length: 1067371, dtype: object"
      ]
     },
     "execution_count": 20,
     "metadata": {},
     "output_type": "execute_result"
    }
   ],
   "source": [
    "# Let's start with the first one: What countries do most our customers come from?\t\n",
    "df[\"Country\"]"
   ]
  },
  {
   "cell_type": "code",
   "execution_count": 21,
   "metadata": {},
   "outputs": [
    {
     "name": "stdout",
     "output_type": "stream",
     "text": [
      "43\n"
     ]
    },
    {
     "data": {
      "text/plain": [
       "United Kingdom    0.919390\n",
       "EIRE              0.016738\n",
       "Germany           0.016512\n",
       "France            0.013426\n",
       "Netherlands       0.004816\n",
       "Name: Country, dtype: float64"
      ]
     },
     "execution_count": 21,
     "metadata": {},
     "output_type": "execute_result"
    }
   ],
   "source": [
    "# how many different countries do we have?\n",
    "print(df[\"Country\"].nunique())\n",
    "\n",
    "df[\"Country\"].value_counts(normalize=True).head(5)"
   ]
  },
  {
   "cell_type": "code",
   "execution_count": 22,
   "metadata": {},
   "outputs": [
    {
     "data": {
      "text/plain": [
       "Invoice                    C556445\n",
       "StockCode                        M\n",
       "Description                 Manual\n",
       "Quantity                        -1\n",
       "InvoiceDate    2011-06-10 15:31:00\n",
       "Price                      38970.0\n",
       "Customer ID                15098.0\n",
       "Country             United Kingdom\n",
       "Name: 748142, dtype: object"
      ]
     },
     "execution_count": 22,
     "metadata": {},
     "output_type": "execute_result"
    }
   ],
   "source": [
    "# What was our most expensive sale?\t\n",
    "\n",
    "# Find the index of the row with the highest price\n",
    "index_of_max_price = df['Price'].idxmax()\n",
    "\n",
    "# Get the StockCode of the item with the highest price\n",
    "max_price_item = df.loc[index_of_max_price]\n",
    "max_price_item"
   ]
  },
  {
   "cell_type": "code",
   "execution_count": 23,
   "metadata": {},
   "outputs": [
    {
     "data": {
      "text/plain": [
       "Invoice                     512771\n",
       "StockCode                        M\n",
       "Description                 Manual\n",
       "Quantity                         1\n",
       "InvoiceDate    2010-06-17 16:53:00\n",
       "Price                     25111.09\n",
       "Customer ID                    NaN\n",
       "Country             United Kingdom\n",
       "Name: 241827, dtype: object"
      ]
     },
     "execution_count": 23,
     "metadata": {},
     "output_type": "execute_result"
    }
   ],
   "source": [
    "# filtering (\"where\" in SQL)\n",
    "actual_sales = df[df[\"Quantity\"] > 0]\n",
    "# Find the index of the row with the highest price\n",
    "index_of_max_price = actual_sales['Price'].idxmax()\n",
    "\n",
    "# Get the StockCode of the item with the highest price\n",
    "max_price_item = actual_sales.loc[index_of_max_price]\n",
    "max_price_item"
   ]
  },
  {
   "cell_type": "code",
   "execution_count": 24,
   "metadata": {},
   "outputs": [
    {
     "data": {
      "text/plain": [
       "0          True\n",
       "1          True\n",
       "2          True\n",
       "3          True\n",
       "4          True\n",
       "           ... \n",
       "1067366    True\n",
       "1067367    True\n",
       "1067368    True\n",
       "1067369    True\n",
       "1067370    True\n",
       "Name: Quantity, Length: 1067371, dtype: bool"
      ]
     },
     "execution_count": 24,
     "metadata": {},
     "output_type": "execute_result"
    }
   ],
   "source": [
    "# let's talk about indexing with a boolean expression\n",
    "df[\"Quantity\"] > 0"
   ]
  },
  {
   "cell_type": "code",
   "execution_count": 25,
   "metadata": {},
   "outputs": [
    {
     "name": "stdout",
     "output_type": "stream",
     "text": [
      "Customer ID with the most items:\n"
     ]
    },
    {
     "data": {
      "text/plain": [
       "Customer ID\n",
       "14646.0    365220\n",
       "13902.0    218090\n",
       "18102.0    187110\n",
       "13694.0    185442\n",
       "14156.0    163910\n",
       "            ...  \n",
       "16252.0      -158\n",
       "15935.0      -171\n",
       "14213.0      -244\n",
       "14337.0      -393\n",
       "13091.0     -1085\n",
       "Name: Quantity, Length: 5942, dtype: int64"
      ]
     },
     "execution_count": 25,
     "metadata": {},
     "output_type": "execute_result"
    }
   ],
   "source": [
    "# Which customer ordered the most products?\n",
    "\n",
    "# Group the DataFrame by 'Customer ID' and calculate the sum of 'Quantity' for each customer\n",
    "customer_quantity = df.groupby('Customer ID')['Quantity'].sum()\n",
    "\n",
    "# Find the customer with the highest total quantity\n",
    "customer_with_most_items = customer_quantity.idxmax()\n",
    "\n",
    "print(\"Customer ID with the most items:\")\n",
    "customer_quantity.sort_values(ascending=False)"
   ]
  },
  {
   "cell_type": "code",
   "execution_count": null,
   "metadata": {},
   "outputs": [],
   "source": []
  },
  {
   "cell_type": "code",
   "execution_count": null,
   "metadata": {},
   "outputs": [],
   "source": []
  }
 ],
 "metadata": {
  "kernelspec": {
   "display_name": "onlineretail",
   "language": "python",
   "name": "python3"
  },
  "language_info": {
   "codemirror_mode": {
    "name": "ipython",
    "version": 3
   },
   "file_extension": ".py",
   "mimetype": "text/x-python",
   "name": "python",
   "nbconvert_exporter": "python",
   "pygments_lexer": "ipython3",
   "version": "3.11.3"
  },
  "orig_nbformat": 4
 },
 "nbformat": 4,
 "nbformat_minor": 2
}
