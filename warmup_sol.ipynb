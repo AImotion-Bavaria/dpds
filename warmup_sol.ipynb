{
 "cells": [
  {
   "attachments": {},
   "cell_type": "markdown",
   "metadata": {},
   "source": [
    "# Online Retail - Basic Exploration\n",
    "* Download the data file\n",
    "* Visualize the first 10 rows"
   ]
  },
  {
   "attachments": {},
   "cell_type": "markdown",
   "metadata": {},
   "source": [
    "### To edit this notebook, go to File -> Save a copy in Drive\n",
    "Google Colab is a freemium cloud service based on Jupyter notebooks. It provides a virtual machine (VM) in which a Jupyter notebook can be executed, even with hardware acceleration like GPUs. The whole process is similar to Google borrowing us one of its computers. We can access this borrowed computer through this browser window."
   ]
  },
  {
   "cell_type": "code",
   "execution_count": 1,
   "metadata": {},
   "outputs": [
    {
     "name": "stdout",
     "output_type": "stream",
     "text": [
      "35\n"
     ]
    }
   ],
   "source": [
    "a = 10\n",
    "b = 25\n",
    "print(a + b)"
   ]
  },
  {
   "cell_type": "code",
   "execution_count": 2,
   "metadata": {},
   "outputs": [
    {
     "name": "stdout",
     "output_type": "stream",
     "text": [
      "8750\n"
     ]
    }
   ],
   "source": [
    "product = a * b \n",
    "sum = a + b\n",
    "result = product * sum\n",
    "print(result)"
   ]
  },
  {
   "attachments": {},
   "cell_type": "markdown",
   "metadata": {},
   "source": [
    "### Data loading \n",
    "A virtual machine is the simultion of a computer operating system (e.g. Windows or Linux) on another computer. Basically, it allows you to run an OS inside another OS. Mac Users may know this from Parallels Desktop, which allows to use Windows inside of Mac OS. Because a VM acts as another computer (that is trapped inside another computer), we have to download our dataset inside this virtual computer system. We can again do this using linux commands. **You don't have to understand the following code, it's enough to understand that you can operate a computer entirely using a command line, which includes downloading and unzipping zip-files.**"
   ]
  },
  {
   "cell_type": "code",
   "execution_count": 3,
   "metadata": {},
   "outputs": [],
   "source": [
    "import requests\n",
    "import zipfile\n",
    "import os\n",
    "\n",
    "# URL of the ZIP file to download\n",
    "url = \"https://faubox.rrze.uni-erlangen.de/dl/fitrNLfAzeMvpher2zfyA/online_retail_II.zip\"\n",
    "\n",
    "# Path to save the downloaded ZIP file\n",
    "zip_filename = \"online_retail_II.zip\"\n",
    "\n",
    "# Path to extract the desired file from the ZIP archive\n",
    "extracted_file = \"online_retail_II.xlsx\"\n",
    "\n",
    "if not(os.path.exists(extracted_file)):\n",
    "    # Download the ZIP file\n",
    "    response = requests.get(url)\n",
    "    with open(zip_filename, \"wb\") as file:\n",
    "        file.write(response.content)\n",
    "\n",
    "    # Extract the desired file from the ZIP archive\n",
    "    with zipfile.ZipFile(zip_filename, \"r\") as zip_ref:\n",
    "        zip_ref.extract(extracted_file)\n",
    "\n",
    "    print(\"File extracted successfully.\")\n",
    "    \n",
    "data_file = extracted_file"
   ]
  },
  {
   "attachments": {},
   "cell_type": "markdown",
   "metadata": {},
   "source": [
    "### Reading the file into a Pandas data frame and showing the contents of it"
   ]
  },
  {
   "cell_type": "code",
   "execution_count": 4,
   "metadata": {},
   "outputs": [],
   "source": [
    "import pandas as pd\n",
    "# reads this into a dictionary for every sheet in the excel file\n",
    "raw_data = pd.read_excel(data_file, sheet_name=None)\n",
    "# raw_data.values() returns a list of identical data frames that are simply stacked\n",
    "df = pd.concat(raw_data.values())\n",
    "# Reset the index and assign a new unique index\n",
    "df = df.reset_index(drop=True)\n"
   ]
  },
  {
   "cell_type": "code",
   "execution_count": 5,
   "metadata": {},
   "outputs": [],
   "source": [
    "# Reset the index and assign a new unique index\n",
    "df = df.reset_index(drop=True)\n"
   ]
  },
  {
   "attachments": {},
   "cell_type": "markdown",
   "metadata": {},
   "source": [
    "Show the first ten rows of a DataFrame:"
   ]
  },
  {
   "cell_type": "code",
   "execution_count": 6,
   "metadata": {},
   "outputs": [
    {
     "data": {
      "text/html": [
       "<div>\n",
       "<style scoped>\n",
       "    .dataframe tbody tr th:only-of-type {\n",
       "        vertical-align: middle;\n",
       "    }\n",
       "\n",
       "    .dataframe tbody tr th {\n",
       "        vertical-align: top;\n",
       "    }\n",
       "\n",
       "    .dataframe thead th {\n",
       "        text-align: right;\n",
       "    }\n",
       "</style>\n",
       "<table border=\"1\" class=\"dataframe\">\n",
       "  <thead>\n",
       "    <tr style=\"text-align: right;\">\n",
       "      <th></th>\n",
       "      <th>Invoice</th>\n",
       "      <th>StockCode</th>\n",
       "      <th>Description</th>\n",
       "      <th>Quantity</th>\n",
       "      <th>InvoiceDate</th>\n",
       "      <th>Price</th>\n",
       "      <th>Customer ID</th>\n",
       "      <th>Country</th>\n",
       "    </tr>\n",
       "  </thead>\n",
       "  <tbody>\n",
       "    <tr>\n",
       "      <th>0</th>\n",
       "      <td>489434</td>\n",
       "      <td>85048</td>\n",
       "      <td>15CM CHRISTMAS GLASS BALL 20 LIGHTS</td>\n",
       "      <td>12</td>\n",
       "      <td>2009-12-01 07:45:00</td>\n",
       "      <td>6.95</td>\n",
       "      <td>13085.0</td>\n",
       "      <td>United Kingdom</td>\n",
       "    </tr>\n",
       "    <tr>\n",
       "      <th>1</th>\n",
       "      <td>489434</td>\n",
       "      <td>79323P</td>\n",
       "      <td>PINK CHERRY LIGHTS</td>\n",
       "      <td>12</td>\n",
       "      <td>2009-12-01 07:45:00</td>\n",
       "      <td>6.75</td>\n",
       "      <td>13085.0</td>\n",
       "      <td>United Kingdom</td>\n",
       "    </tr>\n",
       "    <tr>\n",
       "      <th>2</th>\n",
       "      <td>489434</td>\n",
       "      <td>79323W</td>\n",
       "      <td>WHITE CHERRY LIGHTS</td>\n",
       "      <td>12</td>\n",
       "      <td>2009-12-01 07:45:00</td>\n",
       "      <td>6.75</td>\n",
       "      <td>13085.0</td>\n",
       "      <td>United Kingdom</td>\n",
       "    </tr>\n",
       "    <tr>\n",
       "      <th>3</th>\n",
       "      <td>489434</td>\n",
       "      <td>22041</td>\n",
       "      <td>RECORD FRAME 7\" SINGLE SIZE</td>\n",
       "      <td>48</td>\n",
       "      <td>2009-12-01 07:45:00</td>\n",
       "      <td>2.10</td>\n",
       "      <td>13085.0</td>\n",
       "      <td>United Kingdom</td>\n",
       "    </tr>\n",
       "    <tr>\n",
       "      <th>4</th>\n",
       "      <td>489434</td>\n",
       "      <td>21232</td>\n",
       "      <td>STRAWBERRY CERAMIC TRINKET BOX</td>\n",
       "      <td>24</td>\n",
       "      <td>2009-12-01 07:45:00</td>\n",
       "      <td>1.25</td>\n",
       "      <td>13085.0</td>\n",
       "      <td>United Kingdom</td>\n",
       "    </tr>\n",
       "    <tr>\n",
       "      <th>5</th>\n",
       "      <td>489434</td>\n",
       "      <td>22064</td>\n",
       "      <td>PINK DOUGHNUT TRINKET POT</td>\n",
       "      <td>24</td>\n",
       "      <td>2009-12-01 07:45:00</td>\n",
       "      <td>1.65</td>\n",
       "      <td>13085.0</td>\n",
       "      <td>United Kingdom</td>\n",
       "    </tr>\n",
       "    <tr>\n",
       "      <th>6</th>\n",
       "      <td>489434</td>\n",
       "      <td>21871</td>\n",
       "      <td>SAVE THE PLANET MUG</td>\n",
       "      <td>24</td>\n",
       "      <td>2009-12-01 07:45:00</td>\n",
       "      <td>1.25</td>\n",
       "      <td>13085.0</td>\n",
       "      <td>United Kingdom</td>\n",
       "    </tr>\n",
       "    <tr>\n",
       "      <th>7</th>\n",
       "      <td>489434</td>\n",
       "      <td>21523</td>\n",
       "      <td>FANCY FONT HOME SWEET HOME DOORMAT</td>\n",
       "      <td>10</td>\n",
       "      <td>2009-12-01 07:45:00</td>\n",
       "      <td>5.95</td>\n",
       "      <td>13085.0</td>\n",
       "      <td>United Kingdom</td>\n",
       "    </tr>\n",
       "    <tr>\n",
       "      <th>8</th>\n",
       "      <td>489435</td>\n",
       "      <td>22350</td>\n",
       "      <td>CAT BOWL</td>\n",
       "      <td>12</td>\n",
       "      <td>2009-12-01 07:46:00</td>\n",
       "      <td>2.55</td>\n",
       "      <td>13085.0</td>\n",
       "      <td>United Kingdom</td>\n",
       "    </tr>\n",
       "    <tr>\n",
       "      <th>9</th>\n",
       "      <td>489435</td>\n",
       "      <td>22349</td>\n",
       "      <td>DOG BOWL , CHASING BALL DESIGN</td>\n",
       "      <td>12</td>\n",
       "      <td>2009-12-01 07:46:00</td>\n",
       "      <td>3.75</td>\n",
       "      <td>13085.0</td>\n",
       "      <td>United Kingdom</td>\n",
       "    </tr>\n",
       "  </tbody>\n",
       "</table>\n",
       "</div>"
      ],
      "text/plain": [
       "  Invoice StockCode                          Description  Quantity  \\\n",
       "0  489434     85048  15CM CHRISTMAS GLASS BALL 20 LIGHTS        12   \n",
       "1  489434    79323P                   PINK CHERRY LIGHTS        12   \n",
       "2  489434    79323W                  WHITE CHERRY LIGHTS        12   \n",
       "3  489434     22041         RECORD FRAME 7\" SINGLE SIZE         48   \n",
       "4  489434     21232       STRAWBERRY CERAMIC TRINKET BOX        24   \n",
       "5  489434     22064           PINK DOUGHNUT TRINKET POT         24   \n",
       "6  489434     21871                  SAVE THE PLANET MUG        24   \n",
       "7  489434     21523   FANCY FONT HOME SWEET HOME DOORMAT        10   \n",
       "8  489435     22350                            CAT BOWL         12   \n",
       "9  489435     22349       DOG BOWL , CHASING BALL DESIGN        12   \n",
       "\n",
       "          InvoiceDate  Price  Customer ID         Country  \n",
       "0 2009-12-01 07:45:00   6.95      13085.0  United Kingdom  \n",
       "1 2009-12-01 07:45:00   6.75      13085.0  United Kingdom  \n",
       "2 2009-12-01 07:45:00   6.75      13085.0  United Kingdom  \n",
       "3 2009-12-01 07:45:00   2.10      13085.0  United Kingdom  \n",
       "4 2009-12-01 07:45:00   1.25      13085.0  United Kingdom  \n",
       "5 2009-12-01 07:45:00   1.65      13085.0  United Kingdom  \n",
       "6 2009-12-01 07:45:00   1.25      13085.0  United Kingdom  \n",
       "7 2009-12-01 07:45:00   5.95      13085.0  United Kingdom  \n",
       "8 2009-12-01 07:46:00   2.55      13085.0  United Kingdom  \n",
       "9 2009-12-01 07:46:00   3.75      13085.0  United Kingdom  "
      ]
     },
     "execution_count": 6,
     "metadata": {},
     "output_type": "execute_result"
    }
   ],
   "source": [
    "df.head(10)"
   ]
  },
  {
   "attachments": {},
   "cell_type": "markdown",
   "metadata": {},
   "source": [
    "In addition to the ten first, we can randomly sample some rows from our data set. Repeat this a couple of times to get a feeling for the data."
   ]
  },
  {
   "cell_type": "code",
   "execution_count": 7,
   "metadata": {},
   "outputs": [
    {
     "data": {
      "text/html": [
       "<div>\n",
       "<style scoped>\n",
       "    .dataframe tbody tr th:only-of-type {\n",
       "        vertical-align: middle;\n",
       "    }\n",
       "\n",
       "    .dataframe tbody tr th {\n",
       "        vertical-align: top;\n",
       "    }\n",
       "\n",
       "    .dataframe thead th {\n",
       "        text-align: right;\n",
       "    }\n",
       "</style>\n",
       "<table border=\"1\" class=\"dataframe\">\n",
       "  <thead>\n",
       "    <tr style=\"text-align: right;\">\n",
       "      <th></th>\n",
       "      <th>Invoice</th>\n",
       "      <th>StockCode</th>\n",
       "      <th>Description</th>\n",
       "      <th>Quantity</th>\n",
       "      <th>InvoiceDate</th>\n",
       "      <th>Price</th>\n",
       "      <th>Customer ID</th>\n",
       "      <th>Country</th>\n",
       "    </tr>\n",
       "  </thead>\n",
       "  <tbody>\n",
       "    <tr>\n",
       "      <th>619229</th>\n",
       "      <td>544311</td>\n",
       "      <td>21670</td>\n",
       "      <td>BLUE SPOT CERAMIC DRAWER KNOB</td>\n",
       "      <td>4</td>\n",
       "      <td>2011-02-17 14:19:00</td>\n",
       "      <td>1.25</td>\n",
       "      <td>17841.0</td>\n",
       "      <td>United Kingdom</td>\n",
       "    </tr>\n",
       "    <tr>\n",
       "      <th>820219</th>\n",
       "      <td>562717</td>\n",
       "      <td>35646</td>\n",
       "      <td>VINTAGE BEAD PINK EVENING BAG</td>\n",
       "      <td>3</td>\n",
       "      <td>2011-08-08 15:42:00</td>\n",
       "      <td>2.46</td>\n",
       "      <td>NaN</td>\n",
       "      <td>United Kingdom</td>\n",
       "    </tr>\n",
       "    <tr>\n",
       "      <th>60393</th>\n",
       "      <td>494786</td>\n",
       "      <td>22115</td>\n",
       "      <td>METAL SIGN EMPIRE TEA</td>\n",
       "      <td>1</td>\n",
       "      <td>2010-01-18 13:24:00</td>\n",
       "      <td>5.91</td>\n",
       "      <td>NaN</td>\n",
       "      <td>United Kingdom</td>\n",
       "    </tr>\n",
       "    <tr>\n",
       "      <th>923154</th>\n",
       "      <td>571197</td>\n",
       "      <td>23103</td>\n",
       "      <td>JINGLE BELL HEART DECORATION</td>\n",
       "      <td>6</td>\n",
       "      <td>2011-10-14 12:08:00</td>\n",
       "      <td>1.65</td>\n",
       "      <td>16413.0</td>\n",
       "      <td>United Kingdom</td>\n",
       "    </tr>\n",
       "    <tr>\n",
       "      <th>837584</th>\n",
       "      <td>564342</td>\n",
       "      <td>22751</td>\n",
       "      <td>FELTCRAFT PRINCESS OLIVIA DOLL</td>\n",
       "      <td>1</td>\n",
       "      <td>2011-08-24 14:53:00</td>\n",
       "      <td>3.75</td>\n",
       "      <td>16340.0</td>\n",
       "      <td>United Kingdom</td>\n",
       "    </tr>\n",
       "    <tr>\n",
       "      <th>371024</th>\n",
       "      <td>525221</td>\n",
       "      <td>22371</td>\n",
       "      <td>AIRLINE BAG VINTAGE TOKYO 78</td>\n",
       "      <td>1</td>\n",
       "      <td>2010-10-04 12:51:00</td>\n",
       "      <td>8.47</td>\n",
       "      <td>NaN</td>\n",
       "      <td>United Kingdom</td>\n",
       "    </tr>\n",
       "    <tr>\n",
       "      <th>157012</th>\n",
       "      <td>C504360</td>\n",
       "      <td>85063</td>\n",
       "      <td>CREAM SWEETHEART MAGAZINE RACK</td>\n",
       "      <td>-1</td>\n",
       "      <td>2010-04-13 10:32:00</td>\n",
       "      <td>16.95</td>\n",
       "      <td>14370.0</td>\n",
       "      <td>United Kingdom</td>\n",
       "    </tr>\n",
       "    <tr>\n",
       "      <th>188711</th>\n",
       "      <td>507292</td>\n",
       "      <td>85226A</td>\n",
       "      <td>WHITE/BLUE PULL BACK RACING CAR</td>\n",
       "      <td>1</td>\n",
       "      <td>2010-05-07 14:28:00</td>\n",
       "      <td>1.66</td>\n",
       "      <td>NaN</td>\n",
       "      <td>United Kingdom</td>\n",
       "    </tr>\n",
       "    <tr>\n",
       "      <th>1047514</th>\n",
       "      <td>580367</td>\n",
       "      <td>85178</td>\n",
       "      <td>VICTORIAN SEWING KIT</td>\n",
       "      <td>8</td>\n",
       "      <td>2011-12-02 16:39:00</td>\n",
       "      <td>2.46</td>\n",
       "      <td>NaN</td>\n",
       "      <td>United Kingdom</td>\n",
       "    </tr>\n",
       "    <tr>\n",
       "      <th>5380</th>\n",
       "      <td>489857</td>\n",
       "      <td>90011D</td>\n",
       "      <td>PURPLE CRYSTAL DROP EARRINGS</td>\n",
       "      <td>1</td>\n",
       "      <td>2009-12-02 14:43:00</td>\n",
       "      <td>3.03</td>\n",
       "      <td>NaN</td>\n",
       "      <td>United Kingdom</td>\n",
       "    </tr>\n",
       "  </tbody>\n",
       "</table>\n",
       "</div>"
      ],
      "text/plain": [
       "         Invoice StockCode                      Description  Quantity  \\\n",
       "619229    544311     21670    BLUE SPOT CERAMIC DRAWER KNOB         4   \n",
       "820219    562717     35646    VINTAGE BEAD PINK EVENING BAG         3   \n",
       "60393     494786     22115            METAL SIGN EMPIRE TEA         1   \n",
       "923154    571197     23103     JINGLE BELL HEART DECORATION         6   \n",
       "837584    564342     22751   FELTCRAFT PRINCESS OLIVIA DOLL         1   \n",
       "371024    525221     22371     AIRLINE BAG VINTAGE TOKYO 78         1   \n",
       "157012   C504360     85063   CREAM SWEETHEART MAGAZINE RACK        -1   \n",
       "188711    507292    85226A  WHITE/BLUE PULL BACK RACING CAR         1   \n",
       "1047514   580367     85178             VICTORIAN SEWING KIT         8   \n",
       "5380      489857    90011D     PURPLE CRYSTAL DROP EARRINGS         1   \n",
       "\n",
       "                InvoiceDate  Price  Customer ID         Country  \n",
       "619229  2011-02-17 14:19:00   1.25      17841.0  United Kingdom  \n",
       "820219  2011-08-08 15:42:00   2.46          NaN  United Kingdom  \n",
       "60393   2010-01-18 13:24:00   5.91          NaN  United Kingdom  \n",
       "923154  2011-10-14 12:08:00   1.65      16413.0  United Kingdom  \n",
       "837584  2011-08-24 14:53:00   3.75      16340.0  United Kingdom  \n",
       "371024  2010-10-04 12:51:00   8.47          NaN  United Kingdom  \n",
       "157012  2010-04-13 10:32:00  16.95      14370.0  United Kingdom  \n",
       "188711  2010-05-07 14:28:00   1.66          NaN  United Kingdom  \n",
       "1047514 2011-12-02 16:39:00   2.46          NaN  United Kingdom  \n",
       "5380    2009-12-02 14:43:00   3.03          NaN  United Kingdom  "
      ]
     },
     "execution_count": 7,
     "metadata": {},
     "output_type": "execute_result"
    }
   ],
   "source": [
    "df.sample(10)"
   ]
  },
  {
   "attachments": {},
   "cell_type": "markdown",
   "metadata": {},
   "source": [
    "Warmup questions first:\n",
    "* How many rows do we have in our dataset? Hint: use df.shape or print(df) \t\n",
    "* How many customer IDs are NaN? \n",
    "* What was the highest price for a product?\n"
   ]
  },
  {
   "cell_type": "code",
   "execution_count": 8,
   "metadata": {},
   "outputs": [
    {
     "name": "stdout",
     "output_type": "stream",
     "text": [
      "(1067371, 8)\n",
      "We have 1067371 rows in our dataset.\n",
      "We have 243007 unidentified customers.\n",
      "The most expensive price was 38970.0.\n"
     ]
    }
   ],
   "source": [
    "# How many rows do we have in our dataset? Hint: use df.shape or print(df) \n",
    "print(df.shape)\n",
    "num_rows = df.shape[0]\n",
    "print(f\"We have {num_rows} rows in our dataset.\")\n",
    "\n",
    "# How many customer IDs are NaN? \n",
    "df[\"Customer ID\"].isna()\n",
    "NaN_Customers = df[\"Customer ID\"].isna().sum()\n",
    "print(f\"We have {NaN_Customers} unidentified customers.\")\n",
    "\n",
    "# What was the highest price for a product?\n",
    "most_expensive = df[\"Price\"].max()\n",
    "print(f\"The most expensive price was {most_expensive}.\")\n"
   ]
  },
  {
   "cell_type": "code",
   "execution_count": 9,
   "metadata": {},
   "outputs": [
    {
     "ename": "NameError",
     "evalue": "name 'index_of_max_price' is not defined",
     "output_type": "error",
     "traceback": [
      "\u001b[1;31m---------------------------------------------------------------------------\u001b[0m",
      "\u001b[1;31mNameError\u001b[0m                                 Traceback (most recent call last)",
      "Cell \u001b[1;32mIn[9], line 1\u001b[0m\n\u001b[1;32m----> 1\u001b[0m df\u001b[39m.\u001b[39mloc[index_of_max_price]\n",
      "\u001b[1;31mNameError\u001b[0m: name 'index_of_max_price' is not defined"
     ]
    }
   ],
   "source": [
    "df.loc[index_of_max_price]"
   ]
  },
  {
   "attachments": {},
   "cell_type": "markdown",
   "metadata": {},
   "source": [
    "* What countries do most our customers come from?\t\n",
    "* What was our most expensive sale?\t\n",
    "* Which customer ordered the most products?\n"
   ]
  },
  {
   "cell_type": "code",
   "execution_count": null,
   "metadata": {},
   "outputs": [],
   "source": [
    "# Let's start with the first one: What countries do most our customers come from?\t\n",
    "df[\"Country\"]"
   ]
  },
  {
   "cell_type": "code",
   "execution_count": null,
   "metadata": {},
   "outputs": [],
   "source": [
    "# how many different countries do we have?\n",
    "print(df[\"Country\"].nunique())\n",
    "\n",
    "df[\"Country\"].value_counts(normalize=True).head(5)"
   ]
  },
  {
   "cell_type": "code",
   "execution_count": null,
   "metadata": {},
   "outputs": [],
   "source": [
    "# What was our most expensive sale?\t\n",
    "\n",
    "# Find the index of the row with the highest price\n",
    "index_of_max_price = df['Price'].idxmax()\n",
    "\n",
    "# Get the StockCode of the item with the highest price\n",
    "max_price_item = df.loc[index_of_max_price]\n",
    "max_price_item"
   ]
  },
  {
   "cell_type": "code",
   "execution_count": null,
   "metadata": {},
   "outputs": [],
   "source": [
    "# filtering (\"where\" in SQL)\n",
    "actual_sales = df[df[\"Quantity\"] > 0]\n",
    "# Find the index of the row with the highest price\n",
    "index_of_max_price = actual_sales['Price'].idxmax()\n",
    "\n",
    "# Get the StockCode of the item with the highest price\n",
    "max_price_item = actual_sales.loc[index_of_max_price]\n",
    "max_price_item"
   ]
  },
  {
   "cell_type": "code",
   "execution_count": null,
   "metadata": {},
   "outputs": [],
   "source": [
    "# let's talk about indexing with a boolean expression\n",
    "df[\"Quantity\"] > 0"
   ]
  },
  {
   "cell_type": "code",
   "execution_count": null,
   "metadata": {},
   "outputs": [],
   "source": [
    "# Which customer ordered the most products?\n",
    "\n",
    "# Group the DataFrame by 'Customer ID' and calculate the sum of 'Quantity' for each customer\n",
    "customer_quantity = df.groupby('Customer ID')['Quantity'].sum()\n",
    "\n",
    "# Find the customer with the highest total quantity\n",
    "customer_with_most_items = customer_quantity.idxmax()\n",
    "\n",
    "print(\"Customer ID with the most items:\")\n",
    "customer_quantity.sort_values(ascending=False)"
   ]
  },
  {
   "cell_type": "code",
   "execution_count": null,
   "metadata": {},
   "outputs": [],
   "source": []
  },
  {
   "cell_type": "code",
   "execution_count": null,
   "metadata": {},
   "outputs": [],
   "source": []
  }
 ],
 "metadata": {
  "kernelspec": {
   "display_name": "onlineretail",
   "language": "python",
   "name": "python3"
  },
  "language_info": {
   "codemirror_mode": {
    "name": "ipython",
    "version": 3
   },
   "file_extension": ".py",
   "mimetype": "text/x-python",
   "name": "python",
   "nbconvert_exporter": "python",
   "pygments_lexer": "ipython3",
   "version": "3.11.3"
  },
  "orig_nbformat": 4
 },
 "nbformat": 4,
 "nbformat_minor": 2
}
