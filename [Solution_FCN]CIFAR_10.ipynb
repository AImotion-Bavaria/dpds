{
  "cells": [
    {
      "attachments": {},
      "cell_type": "markdown",
      "metadata": {
        "colab_type": "text",
        "id": "view-in-github"
      },
      "source": [
        "<a href=\"https://colab.research.google.com/github/AImotion-Bavaria/dl-bootcamp/blob/main/%5BSolution_FCN%5DCIFAR_10.ipynb\" target=\"_parent\"><img src=\"https://colab.research.google.com/assets/colab-badge.svg\" alt=\"Open In Colab\"/></a>"
      ]
    },
    {
      "attachments": {},
      "cell_type": "markdown",
      "metadata": {
        "id": "6GWcDRjBRJZz"
      },
      "source": [
        "# CIFAR-10\n",
        "\n",
        "CIFAR-10 is a dataset consisting of 60 000 images in 10 classes (6000 per class). More details can be found on [this link](https://www.cs.toronto.edu/~kriz/cifar.html)"
      ]
    },
    {
      "cell_type": "code",
      "execution_count": null,
      "metadata": {
        "colab": {
          "base_uri": "https://localhost:8080/"
        },
        "id": "XZy17pAFHGU9",
        "outputId": "ba746840-eb0e-4502-a472-a9cb48c43e40"
      },
      "outputs": [],
      "source": [
        "from tensorflow import keras\n",
        "from tensorflow.keras import layers\n",
        "\n",
        "\n",
        "model = keras.Sequential([\n",
        "                          \n",
        "            keras.Input(shape=(32, 32, 3)),\n",
        "            layers.Flatten(),\n",
        "            layers.Dense(1024, activation=\"relu\"),\n",
        "            layers.Dense(256, activation=\"relu\"),\n",
        "            layers.Dense(128, activation=\"relu\"),\n",
        "            layers.Dense(64, activation=\"relu\"),\n",
        "            layers.Dense(10, activation=\"softmax\"),\n",
        "\n",
        "        ]\n",
        "    )\n",
        "\n",
        "model.summary()\n",
        "model.compile(optimizer=\"adam\", loss=\"sparse_categorical_crossentropy\", metrics=[\"accuracy\"])\n",
        "\n",
        "(x_train, y_train), (x_test, y_test) = keras.datasets.cifar10.load_data()\n",
        "\n",
        "model.fit(x_train, y_train, epochs=10, batch_size=32)\n",
        "print(\"--------------------------------\")\n",
        "model.evaluate(x_test, y_test)"
      ]
    }
  ],
  "metadata": {
    "colab": {
      "authorship_tag": "ABX9TyO1Kxa4MZkbZeYB74msjDrb",
      "include_colab_link": true,
      "name": " [Solution-FCN]CIFAR-10",
      "provenance": []
    },
    "kernelspec": {
      "display_name": "Python 3",
      "name": "python3"
    },
    "language_info": {
      "name": "python"
    }
  },
  "nbformat": 4,
  "nbformat_minor": 0
}
