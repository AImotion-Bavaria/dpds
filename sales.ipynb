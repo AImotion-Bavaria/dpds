{
 "cells": [
  {
   "attachments": {},
   "cell_type": "markdown",
   "metadata": {},
   "source": [
    "# Predicting sales from advertisement invests\n",
    "First, load the data and show it"
   ]
  },
  {
   "cell_type": "code",
   "execution_count": null,
   "metadata": {},
   "outputs": [],
   "source": [
    "import pandas as pd\n",
    "import numpy as np\n",
    "from sklearn.model_selection import train_test_split\n",
    "from sklearn.linear_model import LinearRegression\n",
    "\n",
    "import requests\n",
    "import os\n",
    "\n",
    "url = \"https://raw.githubusercontent.com/AImotion-Bavaria/dpds/main/data/data_advertising.csv\"\n",
    "downloaded_file = \"data_advertising.csv\"\n",
    "\n",
    "if not(os.path.exists(downloaded_file)):\n",
    "    response = requests.get(url)\n",
    "    with open(downloaded_file, \"wb\") as file:\n",
    "        file.write(response.content)   \n",
    "    \n",
    "data_file = downloaded_file\n",
    "\n",
    "data = pd.read_csv(downloaded_file)\n",
    "print(data.head())\n",
    "data "
   ]
  },
  {
   "attachments": {},
   "cell_type": "markdown",
   "metadata": {},
   "source": [
    "Now create a plot like the one below for all other features"
   ]
  },
  {
   "cell_type": "code",
   "execution_count": null,
   "metadata": {},
   "outputs": [],
   "source": [
    "import pandas as pd\n",
    "import seaborn as sns\n",
    "import matplotlib.pyplot as plt\n",
    "\n",
    "\n",
    "# Create the scatter plot using Seaborn\n",
    "sns.regplot(data=data, x='TV', y='Sales')\n",
    "\n",
    "# Set plot title and labels\n",
    "plt.title(\"TV Advertising Investment vs Sales\")\n",
    "plt.xlabel(\"TV Investment\")\n",
    "plt.ylabel(\"Sales\")\n",
    "\n",
    "# Display the plot\n",
    "plt.show()\n"
   ]
  },
  {
   "cell_type": "code",
   "execution_count": null,
   "metadata": {},
   "outputs": [],
   "source": [
    "## other plots"
   ]
  },
  {
   "attachments": {},
   "cell_type": "markdown",
   "metadata": {},
   "source": [
    "# Correlation\n",
    "Show the correlation between the different features and sales (hint use `data.corr()`)"
   ]
  },
  {
   "cell_type": "code",
   "execution_count": null,
   "metadata": {},
   "outputs": [],
   "source": [
    "# correlation code"
   ]
  },
  {
   "attachments": {},
   "cell_type": "markdown",
   "metadata": {},
   "source": [
    "# Training a predictive model\n",
    "Try using either a `LinearRegression` or `DecisionTreeRegression` model with a proper `train_test_split`"
   ]
  },
  {
   "cell_type": "code",
   "execution_count": null,
   "metadata": {},
   "outputs": [],
   "source": [
    "X = np.array(data.drop([\"Sales\"], 1))\n",
    "y = np.array(data[\"Sales\"])\n",
    "xtrain, xtest, ytrain, ytest = train_test_split(X, y, \n",
    "                                                test_size=0.2, \n",
    "                                                random_state=42)\n",
    "model = None"
   ]
  }
 ],
 "metadata": {
  "kernelspec": {
   "display_name": "onlineretail",
   "language": "python",
   "name": "python3"
  },
  "language_info": {
   "codemirror_mode": {
    "name": "ipython",
    "version": 3
   },
   "file_extension": ".py",
   "mimetype": "text/x-python",
   "name": "python",
   "nbconvert_exporter": "python",
   "pygments_lexer": "ipython3",
   "version": "3.11.3"
  },
  "orig_nbformat": 4
 },
 "nbformat": 4,
 "nbformat_minor": 2
}
